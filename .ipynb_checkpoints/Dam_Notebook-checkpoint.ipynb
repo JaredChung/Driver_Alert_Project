{
 "cells": [
  {
   "cell_type": "markdown",
   "metadata": {},
   "source": [
    "# Dam Assignment"
   ]
  },
  {
   "cell_type": "code",
   "execution_count": 40,
   "metadata": {
    "collapsed": false
   },
   "outputs": [],
   "source": [
    "import pandas as pd\n",
    "import numpy as np\n",
    "import matplotlib.pyplot as plt\n",
    "import seaborn as sns\n",
    "from sklearn import metrics\n",
    "from sklearn.cross_validation import cross_val_score\n",
    "\n",
    "%matplotlib inline"
   ]
  },
  {
   "cell_type": "code",
   "execution_count": 45,
   "metadata": {
    "collapsed": true
   },
   "outputs": [],
   "source": [
    "data = pd.read_csv(\"Train-IsAlert-secondRound.csv\")"
   ]
  },
  {
   "cell_type": "code",
   "execution_count": 7,
   "metadata": {
    "collapsed": false
   },
   "outputs": [
    {
     "data": {
      "text/html": [
       "<div>\n",
       "<table border=\"1\" class=\"dataframe\">\n",
       "  <thead>\n",
       "    <tr style=\"text-align: right;\">\n",
       "      <th></th>\n",
       "      <th>TrialID</th>\n",
       "      <th>ObsNum</th>\n",
       "      <th>physiologicl_att1</th>\n",
       "      <th>physiological_att2</th>\n",
       "      <th>physiological_att3</th>\n",
       "      <th>physiological_att4</th>\n",
       "      <th>physiological_att5</th>\n",
       "      <th>physiological_att6</th>\n",
       "      <th>physiological_att7</th>\n",
       "      <th>environmental_att1</th>\n",
       "      <th>...</th>\n",
       "      <th>environmental_att11</th>\n",
       "      <th>vehicular_att1</th>\n",
       "      <th>vehicular_att2</th>\n",
       "      <th>vehicular_att3</th>\n",
       "      <th>vehicular_att4</th>\n",
       "      <th>vehicular_att5</th>\n",
       "      <th>vehicular_att6</th>\n",
       "      <th>vehicular_att7</th>\n",
       "      <th>vehicular_att9</th>\n",
       "      <th>IsAlert</th>\n",
       "    </tr>\n",
       "  </thead>\n",
       "  <tbody>\n",
       "    <tr>\n",
       "      <th>0</th>\n",
       "      <td>0</td>\n",
       "      <td>0</td>\n",
       "      <td>34.7406</td>\n",
       "      <td>9.84593</td>\n",
       "      <td>1400</td>\n",
       "      <td>42.8571</td>\n",
       "      <td>0.290601</td>\n",
       "      <td>572</td>\n",
       "      <td>104.895</td>\n",
       "      <td>0.0</td>\n",
       "      <td>...</td>\n",
       "      <td>1</td>\n",
       "      <td>101.96</td>\n",
       "      <td>0.175</td>\n",
       "      <td>752</td>\n",
       "      <td>5.99375</td>\n",
       "      <td>2005</td>\n",
       "      <td>13.4</td>\n",
       "      <td>4</td>\n",
       "      <td>0</td>\n",
       "      <td>0</td>\n",
       "    </tr>\n",
       "    <tr>\n",
       "      <th>1</th>\n",
       "      <td>0</td>\n",
       "      <td>1</td>\n",
       "      <td>34.4215</td>\n",
       "      <td>13.41120</td>\n",
       "      <td>1400</td>\n",
       "      <td>42.8571</td>\n",
       "      <td>0.290601</td>\n",
       "      <td>572</td>\n",
       "      <td>104.895</td>\n",
       "      <td>0.0</td>\n",
       "      <td>...</td>\n",
       "      <td>1</td>\n",
       "      <td>101.98</td>\n",
       "      <td>0.455</td>\n",
       "      <td>752</td>\n",
       "      <td>5.99375</td>\n",
       "      <td>2007</td>\n",
       "      <td>13.4</td>\n",
       "      <td>4</td>\n",
       "      <td>0</td>\n",
       "      <td>0</td>\n",
       "    </tr>\n",
       "    <tr>\n",
       "      <th>2</th>\n",
       "      <td>0</td>\n",
       "      <td>2</td>\n",
       "      <td>34.3447</td>\n",
       "      <td>15.18520</td>\n",
       "      <td>1400</td>\n",
       "      <td>42.8571</td>\n",
       "      <td>0.290601</td>\n",
       "      <td>576</td>\n",
       "      <td>104.167</td>\n",
       "      <td>0.0</td>\n",
       "      <td>...</td>\n",
       "      <td>1</td>\n",
       "      <td>101.97</td>\n",
       "      <td>0.280</td>\n",
       "      <td>752</td>\n",
       "      <td>5.99375</td>\n",
       "      <td>2011</td>\n",
       "      <td>13.4</td>\n",
       "      <td>4</td>\n",
       "      <td>0</td>\n",
       "      <td>0</td>\n",
       "    </tr>\n",
       "    <tr>\n",
       "      <th>3</th>\n",
       "      <td>0</td>\n",
       "      <td>3</td>\n",
       "      <td>34.3421</td>\n",
       "      <td>8.84696</td>\n",
       "      <td>1400</td>\n",
       "      <td>42.8571</td>\n",
       "      <td>0.290601</td>\n",
       "      <td>576</td>\n",
       "      <td>104.167</td>\n",
       "      <td>0.0</td>\n",
       "      <td>...</td>\n",
       "      <td>1</td>\n",
       "      <td>101.99</td>\n",
       "      <td>0.070</td>\n",
       "      <td>752</td>\n",
       "      <td>5.99375</td>\n",
       "      <td>2015</td>\n",
       "      <td>13.4</td>\n",
       "      <td>4</td>\n",
       "      <td>0</td>\n",
       "      <td>0</td>\n",
       "    </tr>\n",
       "    <tr>\n",
       "      <th>4</th>\n",
       "      <td>0</td>\n",
       "      <td>4</td>\n",
       "      <td>34.3322</td>\n",
       "      <td>14.69940</td>\n",
       "      <td>1400</td>\n",
       "      <td>42.8571</td>\n",
       "      <td>0.290601</td>\n",
       "      <td>576</td>\n",
       "      <td>104.167</td>\n",
       "      <td>0.0</td>\n",
       "      <td>...</td>\n",
       "      <td>1</td>\n",
       "      <td>102.07</td>\n",
       "      <td>0.175</td>\n",
       "      <td>752</td>\n",
       "      <td>5.99375</td>\n",
       "      <td>2017</td>\n",
       "      <td>13.4</td>\n",
       "      <td>4</td>\n",
       "      <td>0</td>\n",
       "      <td>0</td>\n",
       "    </tr>\n",
       "  </tbody>\n",
       "</table>\n",
       "<p>5 rows × 28 columns</p>\n",
       "</div>"
      ],
      "text/plain": [
       "   TrialID  ObsNum  physiologicl_att1  physiological_att2  physiological_att3  \\\n",
       "0        0       0            34.7406             9.84593                1400   \n",
       "1        0       1            34.4215            13.41120                1400   \n",
       "2        0       2            34.3447            15.18520                1400   \n",
       "3        0       3            34.3421             8.84696                1400   \n",
       "4        0       4            34.3322            14.69940                1400   \n",
       "\n",
       "   physiological_att4  physiological_att5  physiological_att6  \\\n",
       "0             42.8571            0.290601                 572   \n",
       "1             42.8571            0.290601                 572   \n",
       "2             42.8571            0.290601                 576   \n",
       "3             42.8571            0.290601                 576   \n",
       "4             42.8571            0.290601                 576   \n",
       "\n",
       "   physiological_att7  environmental_att1   ...     environmental_att11  \\\n",
       "0             104.895                 0.0   ...                       1   \n",
       "1             104.895                 0.0   ...                       1   \n",
       "2             104.167                 0.0   ...                       1   \n",
       "3             104.167                 0.0   ...                       1   \n",
       "4             104.167                 0.0   ...                       1   \n",
       "\n",
       "   vehicular_att1  vehicular_att2  vehicular_att3  vehicular_att4  \\\n",
       "0          101.96           0.175             752         5.99375   \n",
       "1          101.98           0.455             752         5.99375   \n",
       "2          101.97           0.280             752         5.99375   \n",
       "3          101.99           0.070             752         5.99375   \n",
       "4          102.07           0.175             752         5.99375   \n",
       "\n",
       "   vehicular_att5  vehicular_att6  vehicular_att7  vehicular_att9  IsAlert  \n",
       "0            2005            13.4               4               0        0  \n",
       "1            2007            13.4               4               0        0  \n",
       "2            2011            13.4               4               0        0  \n",
       "3            2015            13.4               4               0        0  \n",
       "4            2017            13.4               4               0        0  \n",
       "\n",
       "[5 rows x 28 columns]"
      ]
     },
     "execution_count": 7,
     "metadata": {},
     "output_type": "execute_result"
    }
   ],
   "source": [
    "data.head()"
   ]
  },
  {
   "cell_type": "code",
   "execution_count": 8,
   "metadata": {
    "collapsed": false
   },
   "outputs": [
    {
     "name": "stdout",
     "output_type": "stream",
     "text": [
      "<class 'pandas.core.frame.DataFrame'>\n",
      "RangeIndex: 592243 entries, 0 to 592242\n",
      "Data columns (total 28 columns):\n",
      "TrialID                592243 non-null int64\n",
      "ObsNum                 592243 non-null int64\n",
      "physiologicl_att1      592243 non-null float64\n",
      "physiological_att2     592243 non-null float64\n",
      "physiological_att3     592243 non-null int64\n",
      "physiological_att4     592243 non-null float64\n",
      "physiological_att5     592243 non-null float64\n",
      "physiological_att6     592243 non-null int64\n",
      "physiological_att7     592243 non-null float64\n",
      "environmental_att1     592243 non-null float64\n",
      "environmental_att2     592243 non-null float64\n",
      "environmental_att3     592243 non-null int64\n",
      "environmental_att4     592243 non-null float64\n",
      "environmental_att5     592243 non-null int64\n",
      "environmental_att6     592243 non-null int64\n",
      "environmental_att8     592243 non-null int64\n",
      "environmental_att9     592243 non-null int64\n",
      "environmental_att10    592243 non-null float64\n",
      "environmental_att11    592243 non-null int64\n",
      "vehicular_att1         592243 non-null float64\n",
      "vehicular_att2         592243 non-null float64\n",
      "vehicular_att3         592243 non-null int64\n",
      "vehicular_att4         592243 non-null float64\n",
      "vehicular_att5         592243 non-null int64\n",
      "vehicular_att6         592243 non-null float64\n",
      "vehicular_att7         592243 non-null int64\n",
      "vehicular_att9         592243 non-null int64\n",
      "IsAlert                592243 non-null int64\n",
      "dtypes: float64(13), int64(15)\n",
      "memory usage: 126.5 MB\n"
     ]
    }
   ],
   "source": [
    "data.info()"
   ]
  },
  {
   "cell_type": "code",
   "execution_count": 20,
   "metadata": {
    "collapsed": false
   },
   "outputs": [
    {
     "data": {
      "text/plain": [
       "<seaborn.axisgrid.PairGrid at 0x15a0d3c8>"
      ]
     },
     "execution_count": 20,
     "metadata": {},
     "output_type": "execute_result"
    },
    {
     "data": {
      "image/png": "[encoded data removed]",
      "text/plain": [
       "<matplotlib.figure.Figure at 0x1527e6a0>"
      ]
     },
     "metadata": {},
     "output_type": "display_data"
    }
   ],
   "source": [
    "sns.pairplot(data[['environmental_att11','IsAlert']],hue='IsAlert', size=4)"
   ]
  },
  {
   "cell_type": "code",
   "execution_count": 46,
   "metadata": {
    "collapsed": false
   },
   "outputs": [
    {
     "data": {
      "text/plain": [
       "<matplotlib.axes._subplots.AxesSubplot at 0x13e7ecf8>"
      ]
     },
     "execution_count": 46,
     "metadata": {},
     "output_type": "execute_result"
    },
    {
     "data": {
      "image/png": "[encoded data removed]",
      "text/plain": [
       "<matplotlib.figure.Figure at 0xf50f6a0>"
      ]
     },
     "metadata": {},
     "output_type": "display_data"
    }
   ],
   "source": [
    "fig,ax = plt.subplots(figsize=(10,10))\n",
    "sns.heatmap(data.corr())"
   ]
  },
  {
   "cell_type": "code",
   "execution_count": 14,
   "metadata": {
    "collapsed": false
   },
   "outputs": [
    {
     "data": {
      "text/plain": [
       "0    0.819736\n",
       "1    0.180264\n",
       "Name: vehicular_att9, dtype: float64"
      ]
     },
     "execution_count": 14,
     "metadata": {},
     "output_type": "execute_result"
    }
   ],
   "source": [
    "data.vehicular_att9.value_counts() / len(data)"
   ]
  },
  {
   "cell_type": "code",
   "execution_count": 8,
   "metadata": {
    "collapsed": false,
    "scrolled": true
   },
   "outputs": [
    {
     "data": {
      "text/plain": [
       "array([1, 0, 4], dtype=int64)"
      ]
     },
     "execution_count": 8,
     "metadata": {},
     "output_type": "execute_result"
    }
   ],
   "source": [
    "data.environmental_att11.unique() #Need to use dummy variables"
   ]
  },
  {
   "cell_type": "code",
   "execution_count": null,
   "metadata": {
    "collapsed": true
   },
   "outputs": [],
   "source": [
    "data.en"
   ]
  },
  {
   "cell_type": "code",
   "execution_count": 10,
   "metadata": {
    "collapsed": false
   },
   "outputs": [
    {
     "name": "stdout",
     "output_type": "stream",
     "text": [
      "TrialID\n",
      "[  0   1   2   3   4   5   6   7   8   9  10  11  12  13  14  15  16  17\n",
      "  18  19  20  21  22  23  24  25  26  27  28  29  30  31  32  33  34  35\n",
      "  36  37  38  39  40  41  42  43  44  45  46  47  48  49  50  51  52  53\n",
      "  54  55  56  57  58  59  60  61  62  63  64  65  66  67  68  69  70  71\n",
      "  72  73  74  75  76  77  78  79  80  81  82  83  84  85  86  87  88  89\n",
      "  90  91  92  93  94  95  96  97  98  99 100 101 102 103 104 105 106 107\n",
      " 108 109 110 111 112 113 114 115 116 117 118 119 120 121 122 123 124 125\n",
      " 126 127 128 129 130 131 132 133 134 135 136 137 138 139 140 141 142 143\n",
      " 144 145 146 147 148 149 150 151 152 153 154 155 156 157 158 159 160 161\n",
      " 162 163 164 165 166 167 168 169 170 171 172 173 174 175 176 177 178 179\n",
      " 180 181 182 183 184 185 186 187 188 189 190 191 192 193 194 195 196 197\n",
      " 198 199 200 201 202 203 204 205 206 207 208 209 210 211 212 213 214 215\n",
      " 216 217 218 219 220 221 222 223 224 225 226 227 228 229 230 231 232 233\n",
      " 234 235 236 237 238 239 240 241 242 243 244 245 246 247 248 249 250 251\n",
      " 252 253 254 255 256 257 258 259 260 261 262 263 264 265 266 267 268 269\n",
      " 270 271 272 273 274 275 276 277 278 279 280 281 282 283 284 285 286 287\n",
      " 288 289 290 291 292 293 294 295 296 297 298 299 300 301 302 303 304 305\n",
      " 306 307 308 309 310 311 312 313 314 315 316 317 318 319 320 321 322 323\n",
      " 324 325 326 327 328 329 330 331 332 333 334 335 336 337 338 339 340 341\n",
      " 342 343 344 345 346 347 348 349 350 351 352 353 354 355 356 357 358 359\n",
      " 360 361 362 363 364 365 366 367 368 369 370 371 372 373 374 375 376 377\n",
      " 378 379 380 381 382 383 384 385 386 387 388 389 390 391 392 393 394 395\n",
      " 396 397 398 399 400 401 402 403 404 405 406 407 408 409 410 411 412 413\n",
      " 414 415 416 417 418 419 420 421 422 423 424 425 426 427 428 429 430 431\n",
      " 432 433 434 435 436 437 438 439 440 441 442 443 444 445 446 447 448 449\n",
      " 450 451 452 453 454 455 456 457 458 459 460 461 462 463 464 465 466 467\n",
      " 468 480 481 482 483 484 485 486 487 488 489 490 491 492 493 494 495 496\n",
      " 497 498 499 500]\n",
      "ObsNum\n",
      "[   0    1    2 ..., 1208 1209 1210]\n",
      "physiologicl_att1\n",
      "[ 34.7406  34.4215  34.3447 ...,  37.9512  41.1288  41.2448]\n",
      "physiological_att2\n",
      "[  9.84593  13.4112   15.1852  ...,  11.7545   10.1403   14.836  ]\n",
      "physiological_att3\n",
      "[1400  900 1616 1200  700 1300 1384  800  932 1000 1484 1600 1132  684  632\n",
      "  600 1100 1084 1500  884  516  916 1784 1432 1116  784 1016  816  584 1416\n",
      " 1816 1216  984 1232  616 1184 1032  568 1048  716  908 1072  788 1236 1168\n",
      " 1124  880 1404 1220 1180  992  520  772  524  576 1004  696  508  848  604\n",
      "  540  808  892  608 1064 1336 1380  744 1408  904 1524 1780  936 1396 1088\n",
      " 1128  580  868  652 1156  948 1636 1264 1560  928  708  796  624 1368 1092\n",
      "  952  748  860 1448  980  620 1056 1196  792  812 1008 1508 1188 1328 1796\n",
      "  824 1304  956 1268 1112  672 1308 1120  912 1588  976 1372  896  692 1584\n",
      " 1608 1492  676 1108  804  688  504 1296  964 1512 1040 1212  680 1284  920\n",
      " 1044  720 1272 1020 1148 1136  596 1992  888 1012  780 1252 1288  712 1356\n",
      " 1516 1176 1292  648  968 1192 1080 1224  760  640 1392 1076  776 1312  728\n",
      " 1412  592  764  704  660 1140 1028 1704 1248 1388 1280 2080 1152  836 1096\n",
      " 1948  988  612  840  844 1464  512  940 1724  820 1700 1068 1772  828 1104\n",
      " 1024  664  832  768 1632 1164 1528  636  732 1656 1680 1052 1488  872 1596\n",
      " 1332 1036  548 1640 1648 1172 1428 1456 1480 1716  724 1612 1620  656 1688\n",
      " 1592 1812 1424 1260 1520  856 1728 1900  972  668 1340 1360  740 1444 1868\n",
      " 1324 1624 1060 1160  756 1204  556  736 1536 1832 1828 1244 1604 1644 1208\n",
      " 1572 1468  564  588  644  864  944  572  628  996  528 1836 1824 1452  852\n",
      " 1320 1668 1344 1420 1576 1256 1240 1376  752  924 1692 1504  876 1348 1840\n",
      " 1684 1228  536 1552 1496 1276 1844 1544 1580 1472  532 1316 1556 1568 1144\n",
      " 1540 1708 1880 1436 1476 1884  960 1804 1876 1768 1532 2004 1460  544 2128\n",
      "  552 1364  560 1752 1852 1956 1984 1440 1676 1776 2000 1800 1924 1628 1896\n",
      " 1808 1352 1564 1908 1660 1548 1652 1792 1940 1996 1672 1664 1764 1732 1860\n",
      " 1944 1720 1712 2024 1920 1820 1788 1872 1968 1740 2408 2416 1744 1856 1960\n",
      " 2132 1904 2016 1736 2040 1756 1916 2512 1760 1696 1976 1912 2060 1892 2108\n",
      " 2168 1748 2084 1928 2008 1932 2088 2172 2032 2192 1972 2012 2100 2180 1888\n",
      " 1988 2020 1848 2252 2072 1980 2044 1952 1864 1964 2160 2036 2112 1936 2104\n",
      " 2140 2240 2272 2056]\n",
      "physiological_att4\n",
      "[  42.8571   66.6667   37.1287   50.       85.7143   46.1538   43.3526\n",
      "   75.       64.3777   60.       40.4313   37.5      53.0035   87.7193\n",
      "   94.9367  100.       54.5455   55.3506   40.       67.8733  116.279\n",
      "   65.5022   33.6323   41.8994   53.7634   76.5306   59.0551   73.5294\n",
      "  102.74     42.3729   33.0396   49.3421   60.9756   48.7013   97.4026\n",
      "   50.6757   58.1395  105.634    57.2519   83.7989   66.0793   55.9701\n",
      "   76.1421   48.5437   51.3699   53.3808   68.1818   42.735    49.1803\n",
      "   50.8475   60.4839  115.385    77.7202  114.504   104.167    59.761\n",
      "   86.2069  118.11     70.7547   99.3377  111.111    74.2574   67.2646\n",
      "   98.6842   56.391    44.9102   43.4783   80.6452   42.6136   66.3717\n",
      "   39.3701   33.7079   64.1026   42.9799   55.1471   53.1915  103.448\n",
      "   69.1244   92.0245   51.9031   63.2911   36.6748   47.4684   38.4615\n",
      "   64.6552   84.7458   75.3769   96.1538   43.8596   54.9451   63.0252\n",
      "   80.2139   69.7674   41.4365   61.2245   96.7742   56.8182   50.1672\n",
      "   75.7576   73.8916   59.5238   39.7878   50.5051   45.1807   33.4076\n",
      "   72.8155   46.0123   62.7615   47.3186   53.9568   89.2857   45.8716\n",
      "   53.5714   65.7895   37.7834   61.4754   43.7318   66.9643   86.7052\n",
      "   37.8788   37.3134   40.2145   88.7574   54.1516   74.6269   87.2093\n",
      "  119.048    46.2963   62.2407   39.6825   57.6923   49.505    88.2353\n",
      "   46.729    65.2174   57.4713   83.3333   47.1698   58.8235   52.2648\n",
      "   52.8169  100.671    30.1205   67.5676   59.2885   76.9231   47.9233\n",
      "   46.5839   84.2697   44.2478   39.5778   51.0204   46.4396   92.5926\n",
      "   61.9835   50.3356   55.5556   49.0196   78.9474   93.75     43.1034\n",
      "   55.7621   77.3196   45.7317   82.4176   42.4929  101.361    78.534\n",
      "   85.2273   90.9091   52.6316   58.3658   35.2113   48.0769   43.2277\n",
      "   46.875    28.8462   52.0833   71.7703   54.7445   30.8008   60.7287\n",
      "   98.0392   71.4286   71.09     40.9836  117.188    63.8298   34.8028\n",
      "   73.1707   35.2941   56.1798   33.86     72.4638   54.3478   58.5938\n",
      "   90.3614   72.1154   78.125    36.7647   51.5464   39.267    94.3396\n",
      "   81.9672   36.2319   35.7143   57.0342   40.3226   68.8073   37.594\n",
      "   45.045    57.9151  109.489    36.5854   36.4078   51.1945   42.0168\n",
      "   41.2088   40.5405   34.965    82.8729   37.2208   37.037    91.4634\n",
      "   35.545    37.6884   33.1126   42.1348   47.619    39.4737   70.0935\n",
      "   34.7222   31.5789   61.7284   89.8204   44.7761   44.1176   81.0811\n",
      "   41.5512   32.1199   45.3172   36.9458   56.6038   51.7241   79.3651\n",
      "   49.8339  107.914    81.5217   39.0625   32.7511   32.8228   48.2315\n",
      "   37.4065   36.4964   49.6689   38.1679   40.8719  106.383   102.041\n",
      "   93.1677   69.4444   63.5593  104.895    95.5414   60.241   113.636\n",
      "   32.6797   32.8947   41.3223   70.4225   45.4545   35.9712   44.6429\n",
      "   42.2535   38.0711   47.7707   48.3871   43.6047   79.7872   64.9351\n",
      "   35.461    39.8936   68.4932   44.5104   32.6087   35.6295   48.8599\n",
      "  111.94     38.6598   40.107    47.0219   32.538    38.8601   37.9747\n",
      "   40.7609  112.782    45.5927   38.5604   38.2653   52.4476   38.961\n",
      "   35.1288   31.9149   41.7827   40.6504   31.8471   62.5      33.2594\n",
      "   31.9829   33.9367   39.1645   29.9401   41.0959  110.294    28.1955\n",
      "  108.696    43.9883  107.143    34.2466   32.3974   30.6748   30.2419\n",
      "   41.6667   35.7995   33.7838   30.       33.3333   31.185    36.855\n",
      "   31.6456   33.1858   44.3787   38.3632   31.4465   36.1446   38.7597\n",
      "   36.3196   33.4821   30.9278   30.0601   35.8852   36.0577   34.0136\n",
      "   34.642    32.2581   30.8642   34.8837   35.0467   29.6443   31.25\n",
      "   32.967    33.557    32.0513   30.4878   34.4828   24.9169   24.8344\n",
      "   34.4037   32.3276   30.6122   28.1426   31.5126   29.7619   34.5622\n",
      "   29.4118   34.1686   31.3152   23.8853   34.0909   35.3774   30.3644\n",
      "   31.3808   29.1262   31.7125   28.463    27.6753   34.3249   28.7908\n",
      "   31.1203   29.8805   31.0559   28.7356   27.6243   29.5276   27.3723\n",
      "   30.426    29.8211   28.5714   27.5229   31.7797   30.1811   29.703\n",
      "   32.4675   26.643    28.9575   30.303    29.3542   30.7377   32.1888\n",
      "   30.5499   27.7778   29.4695   28.4091   30.9917   28.5171   28.0374\n",
      "   26.7857   26.4085   29.1829]\n",
      "physiological_att5\n",
      "[ 0.290601  0.252978  0.243897 ...,  0.03892   0.21795   0.041514]\n",
      "physiological_att6\n",
      "[   572    576    592    600    596    604    616    624    632    620\n",
      "    608    584    588    568    560    556    628    644    656    648\n",
      "    636    700    732    724    708    660    652    668    612    640\n",
      "    684    804    892    880    828    776    736    672    664    676\n",
      "    692    680    688    696    712    720    716    704    752    748\n",
      "    744    760    740    768    728    800    824    792    756    772\n",
      "    764    580    564    532    540    528    516    520    552   1088\n",
      "    548    544    536    524    512    504    496    488    484    480\n",
      "   1028    780    808    864    832    816    812    788    840    796\n",
      "    820    844    784    900    888    876    868    896    852    836\n",
      "    848    884    872    856    860    912    940    956    908    924\n",
      "    916    392    412    920    944    928    904    936    932    948\n",
      "    960    968    972    984   1000    964    996   1004   1008    976\n",
      "   1012   1024   1032   1016    952    980   1036   1052   1048   1044\n",
      "   1020    992    988   1040   1072   1068   1056   1060   1076   1084\n",
      "   1092   1100   1064   1116   1124   1120   1156   1096   1108   1132\n",
      "   1080   1232   1204   1788   1416   1112   1140   1144   1244   1176\n",
      "   1148   1128   1188   1136   1196   1180   1160   1168   1152   1216\n",
      "   1104   1172   1264   1184   1240   1164   1212   1192   1224   1200\n",
      "   1236   1220   1248   1276   1284   1208   1344   1320   1296   1288\n",
      "   1332   1368   1300   1372   1260   1280   1228   1384   1360   1412\n",
      "   1272   1396   1316   1268   1352   1308   1252   1324   1256   1336\n",
      "   1400   1404   1496   1500   1444   1364   1376   1292   1304   1436\n",
      "   1348   1328   1420   1504   1472   1448   1432   1312   1424   1476\n",
      "   1340    508   1388   1392   1440    476    328    136    472    500\n",
      "   1560   1460   1456    388    256   1408   1604    312    440    344\n",
      "    280    268    140   1968   2676   1952   1936   2424   1808   1512\n",
      "    376   1656   2004   1992   2352   1452   1428    452    324   1532\n",
      "   1756   2236   1488   1528   1568   1584   1572   1576   2408   1592\n",
      "   1580   1632   1612   1540   1620   3172   1640   1588   1664   1648\n",
      "   1608   1600   2504   1672   1636   1624   1668   1552   1536   2384\n",
      "   1628   1564   1548   1516   1524   2428   1688   1652   4312   2552\n",
      "   1660   2420   1596    404   2016    424    396    372   1724   2540\n",
      "   1716   1704   1684   2516   1728   1680   1744   1644   2604   1700\n",
      "   4528   2756   1796    464   2432   3184   1616   2588   1736   1692\n",
      "   1712    400    384    216    284    300    200    144    416    168\n",
      "    232    316    184    164    236    432    148    252    332    340\n",
      "    244    128    260    356    160    240    360    272    296    204\n",
      "    156    444    448    468    460    456    492    224    276    428\n",
      "    348    248    408    228    380    264    420    336    368    304\n",
      "    352    436    364   2224   2068   3800   5152   6100   6740   4424\n",
      "   2920  20104   3072 228812   7272   3188   1996   1880   1464]\n",
      "physiological_att7\n",
      "[  1.04895000e+02   1.04167000e+02   1.01361000e+02   1.00000000e+02\n",
      "   1.00671000e+02   9.93377000e+01   9.74026000e+01   9.61538000e+01\n",
      "   9.49367000e+01   9.67742000e+01   9.86842000e+01   1.02740000e+02\n",
      "   1.02041000e+02   1.05634000e+02   1.07143000e+02   1.07914000e+02\n",
      "   9.55414000e+01   9.31677000e+01   9.14634000e+01   9.25926000e+01\n",
      "   9.43396000e+01   8.57143000e+01   8.19672000e+01   8.28729000e+01\n",
      "   8.47458000e+01   9.09091000e+01   9.20245000e+01   8.98204000e+01\n",
      "   9.80392000e+01   9.37500000e+01   8.77193000e+01   7.46269000e+01\n",
      "   6.72646000e+01   6.81818000e+01   7.24638000e+01   7.73196000e+01\n",
      "   8.15217000e+01   8.92857000e+01   9.03614000e+01   8.87574000e+01\n",
      "   8.67052000e+01   8.82353000e+01   8.72093000e+01   8.62069000e+01\n",
      "   8.42697000e+01   8.33333000e+01   8.37989000e+01   8.52273000e+01\n",
      "   7.97872000e+01   8.02139000e+01   8.06452000e+01   7.89474000e+01\n",
      "   8.10811000e+01   7.81250000e+01   8.24176000e+01   7.50000000e+01\n",
      "   7.28155000e+01   7.57576000e+01   7.93651000e+01   7.77202000e+01\n",
      "   7.85340000e+01   1.03448000e+02   1.06383000e+02   1.12782000e+02\n",
      "   1.11111000e+02   1.13636000e+02   1.16279000e+02   1.15385000e+02\n",
      "   1.08696000e+02   5.51471000e+01   1.09489000e+02   1.10294000e+02\n",
      "   1.11940000e+02   1.14504000e+02   1.17188000e+02   1.19048000e+02\n",
      "   1.20968000e+02   1.22951000e+02   1.23967000e+02   1.25000000e+02\n",
      "   5.83658000e+01   7.69231000e+01   7.42574000e+01   6.94444000e+01\n",
      "   7.21154000e+01   7.35294000e+01   7.38916000e+01   7.61421000e+01\n",
      "   7.14286000e+01   7.53769000e+01   7.31707000e+01   7.10900000e+01\n",
      "   7.65306000e+01   6.66667000e+01   6.75676000e+01   6.84932000e+01\n",
      "   6.91244000e+01   6.69643000e+01   7.04225000e+01   7.17703000e+01\n",
      "   7.07547000e+01   6.78733000e+01   6.88073000e+01   7.00935000e+01\n",
      "   6.97674000e+01   6.57895000e+01   6.38298000e+01   6.27615000e+01\n",
      "   6.60793000e+01   6.49351000e+01   6.55022000e+01   1.53061000e+02\n",
      "   1.45631000e+02   6.52174000e+01   6.35593000e+01   6.46552000e+01\n",
      "   6.63717000e+01   6.41026000e+01   6.43777000e+01   6.32911000e+01\n",
      "   6.25000000e+01   6.19835000e+01   6.17284000e+01   6.09756000e+01\n",
      "   6.00000000e+01   6.22407000e+01   6.02410000e+01   5.97610000e+01\n",
      "   5.95238000e+01   6.14754000e+01   5.92885000e+01   5.85938000e+01\n",
      "   5.81395000e+01   5.90551000e+01   6.30252000e+01   6.12245000e+01\n",
      "   5.79151000e+01   5.70342000e+01   5.72519000e+01   5.74713000e+01\n",
      "   5.88235000e+01   6.04839000e+01   6.07287000e+01   5.76923000e+01\n",
      "   5.59701000e+01   5.61798000e+01   5.68182000e+01   5.66038000e+01\n",
      "   5.57621000e+01   5.53506000e+01   5.49451000e+01   5.45455000e+01\n",
      "   5.63910000e+01   5.37634000e+01   5.33808000e+01   5.35714000e+01\n",
      "   5.19031000e+01   5.47445000e+01   5.41516000e+01   5.30035000e+01\n",
      "   5.55556000e+01   4.87013000e+01   4.98339000e+01   3.35570000e+01\n",
      "   4.23729000e+01   5.39568000e+01   5.26316000e+01   5.24476000e+01\n",
      "   4.82315000e+01   5.10204000e+01   5.22648000e+01   5.31915000e+01\n",
      "   5.05051000e+01   5.28169000e+01   5.01672000e+01   5.08475000e+01\n",
      "   5.17241000e+01   5.13699000e+01   5.20833000e+01   4.93421000e+01\n",
      "   5.43478000e+01   5.11945000e+01   4.74684000e+01   5.06757000e+01\n",
      "   4.83871000e+01   5.15464000e+01   4.95050000e+01   5.03356000e+01\n",
      "   4.90196000e+01   5.00000000e+01   4.85437000e+01   4.91803000e+01\n",
      "   4.80769000e+01   4.70219000e+01   4.67290000e+01   4.96689000e+01\n",
      "   4.46429000e+01   4.54545000e+01   4.62963000e+01   4.65839000e+01\n",
      "   4.50450000e+01   4.38596000e+01   4.61538000e+01   4.37318000e+01\n",
      "   4.76190000e+01   4.68750000e+01   4.88599000e+01   4.33526000e+01\n",
      "   4.41176000e+01   4.24929000e+01   4.71698000e+01   4.29799000e+01\n",
      "   4.55927000e+01   4.73186000e+01   4.43787000e+01   4.58716000e+01\n",
      "   4.79233000e+01   4.53172000e+01   4.77707000e+01   4.49102000e+01\n",
      "   4.28571000e+01   4.27350000e+01   4.01070000e+01   4.00000000e+01\n",
      "   4.15512000e+01   4.39883000e+01   4.36047000e+01   4.64396000e+01\n",
      "   4.60123000e+01   4.17827000e+01   4.45104000e+01   4.51807000e+01\n",
      "   4.22535000e+01   3.98936000e+01   4.07609000e+01   4.14365000e+01\n",
      "   4.18994000e+01   4.57317000e+01   4.21348000e+01   4.06504000e+01\n",
      "   4.47761000e+01   1.18110000e+02   4.32277000e+01   4.31034000e+01\n",
      "   4.16667000e+01   1.26050000e+02   1.82927000e+02   4.41176000e+02\n",
      "   1.27119000e+02   1.20000000e+02   3.84615000e+01   4.10959000e+01\n",
      "   4.12088000e+01   1.54639000e+02   2.34375000e+02   4.26136000e+01\n",
      "   3.74065000e+01   1.92308000e+02   1.36364000e+02   1.74419000e+02\n",
      "   2.14286000e+02   2.23881000e+02   4.28571000e+02   3.04878000e+01\n",
      "   2.24215000e+01   3.07377000e+01   3.09917000e+01   2.47525000e+01\n",
      "   3.31858000e+01   3.96825000e+01   1.59574000e+02   3.62319000e+01\n",
      "   2.99401000e+01   3.01205000e+01   2.55102000e+01   4.13223000e+01\n",
      "   4.20168000e+01   1.32743000e+02   1.85185000e+02   3.91645000e+01\n",
      "   3.41686000e+01   2.68336000e+01   4.03226000e+01   3.92670000e+01\n",
      "   3.82653000e+01   3.78788000e+01   3.81679000e+01   3.80711000e+01\n",
      "   2.49169000e+01   3.76884000e+01   3.79747000e+01   3.67647000e+01\n",
      "   3.72208000e+01   3.89610000e+01   3.70370000e+01   1.89155000e+01\n",
      "   3.65854000e+01   3.77834000e+01   3.60577000e+01   3.64078000e+01\n",
      "   3.73134000e+01   3.75000000e+01   2.39617000e+01   3.58852000e+01\n",
      "   3.66748000e+01   3.69458000e+01   3.59712000e+01   3.86598000e+01\n",
      "   3.90625000e+01   2.51678000e+01   3.68550000e+01   3.83632000e+01\n",
      "   3.87597000e+01   3.95778000e+01   3.93701000e+01   2.47117000e+01\n",
      "   3.55450000e+01   3.63196000e+01   1.39147000e+01   2.35110000e+01\n",
      "   3.61446000e+01   2.47934000e+01   3.75940000e+01   1.48515000e+02\n",
      "   2.97619000e+01   1.41509000e+02   1.51515000e+02   1.61290000e+02\n",
      "   3.48028000e+01   2.36220000e+01   3.49650000e+01   3.52113000e+01\n",
      "   3.56295000e+01   2.38474000e+01   3.47222000e+01   3.57143000e+01\n",
      "   3.44037000e+01   3.64964000e+01   2.30415000e+01   3.52941000e+01\n",
      "   1.32509000e+01   2.17707000e+01   3.34076000e+01   1.29310000e+02\n",
      "   2.46711000e+01   1.88442000e+01   3.71287000e+01   2.31839000e+01\n",
      "   3.45622000e+01   3.54610000e+01   3.50467000e+01   1.50000000e+02\n",
      "   1.56250000e+02   2.77778000e+02   2.11268000e+02   2.00000000e+02\n",
      "   3.00000000e+02   4.16667000e+02   1.44231000e+02   3.57143000e+02\n",
      "   2.58621000e+02   1.89873000e+02   3.26087000e+02   3.65854000e+02\n",
      "   2.54237000e+02   1.38889000e+02   4.05405000e+02   2.38095000e+02\n",
      "   1.80723000e+02   1.76471000e+02   2.45902000e+02   4.68750000e+02\n",
      "   2.30769000e+02   1.68539000e+02   3.75000000e+02   2.50000000e+02\n",
      "   1.66667000e+02   2.20588000e+02   2.02703000e+02   2.94118000e+02\n",
      "   3.84615000e+02   1.35135000e+02   1.33929000e+02   1.28205000e+02\n",
      "   1.30435000e+02   1.31579000e+02   1.21951000e+02   2.67857000e+02\n",
      "   2.17391000e+02   1.40187000e+02   1.72414000e+02   2.41935000e+02\n",
      "   1.47059000e+02   2.63158000e+02   1.57895000e+02   2.27273000e+02\n",
      "   1.42857000e+02   1.78571000e+02   1.63043000e+02   1.97368000e+02\n",
      "   1.70455000e+02   1.37615000e+02   1.64835000e+02   2.69784000e+01\n",
      "   2.90135000e+01   1.57895000e+01   1.16460000e+01   9.83607000e+00\n",
      "   8.90208000e+00   1.35624000e+01   2.05479000e+01   2.98448000e+00\n",
      "   1.95313000e+01   2.62224000e-01   8.25083000e+00   1.88206000e+01\n",
      "   3.00601000e+01   3.19149000e+01   4.09836000e+01]\n",
      "environmental_att1\n",
      "[  0.     17.807  26.619 ...,  18.765  21.139  20.648]\n",
      "environmental_att2\n",
      "[   0.     222.11   224.124 ...,  316.63   316.684  316.803]\n",
      "environmental_att3\n",
      "[ -20  -16   14   28    4   -6    8   12  -14  -18  -10   -8    0    6   10\n",
      "    2   -4   18   -2  -12   16   36  -24   20   32  -28  -42  -38 -160  -22\n",
      "   22   26  -26  -44  -54  -32   40   56   30   34  -58 -132 -100   24   54\n",
      "  -56  -70   60   58  -52   48  -76  -66   74  108  -92  -36  -64  -68   38\n",
      "   92   46 -138   76  -40  -30  -80   88 -116   44 -120  -62 -114 -146 -144\n",
      " -148 -150 -140 -122 -176 -174   90   78  168  172  190  204  226  238  206\n",
      "  250  198  122  116  106   80   52 -230 -142 -118  -88  -46   42  -34  -48\n",
      "  -50  -98  -60  -82  208  170  126   50 -178 -204 -210 -200 -198   64   84\n",
      "  138  146 -208 -162 -124  -74  132  118  112 -104   66   96 -250  120  140\n",
      " -186  -96   62  -72  -78   68  150  102   72 -108   82  104 -102  100  128\n",
      " -136  184  -90   94 -190 -128 -224   70  -84 -196 -112  110 -130  176 -188\n",
      " -192 -194 -126  124  222  230 -110 -134 -168 -166 -152   98  148  156  144\n",
      "  158  180  166  130  134  136  -94  -86  114  142  162  152 -228 -158  160\n",
      "  196 -244   86 -170 -154 -232 -106  254 -164 -236 -216 -246 -248 -222  214\n",
      " -180  240  224 -242 -214 -234  182  228 -184  212 -172  234 -240  248  246\n",
      " -156  186  188 -206  154  220 -218 -226  202  194 -202 -212  236 -220  244\n",
      "  200  164  242 -182  218  216  260 -238  178  174  192  232]\n",
      "environmental_att4\n",
      "[ 0.015875  0.015812  0.015938  0.016064  0.01556   0.015371  0.015308\n",
      "  0.016001  0.01619   0.016253  0.015686  0.015749  0.016127  0.008\n",
      "  0.015497  0.015245  0.010016  0.015623  0.015182  0.015056  0.01493\n",
      "  0.014993  0.016379  0.015434  0.016316  0.016505  0.016442  0.016568\n",
      "  0.016694  0.017009  0.016883  0.016631  0.016946  0.017135  0.017261\n",
      "  0.017198  0.017324  0.01745   0.017702  0.017891  0.018017  0.011276\n",
      "  0.017954  0.017639  0.01682   0.016757  0.01808   0.017765  0.017513\n",
      "  0.017387  0.017828  0.017576  0.015119  0.018206  0.017072  0.0143\n",
      "  0.014741  0.013166  0.013418  0.013355  0.014363  0.013859  0.014111\n",
      "  0.013481  0.012725  0.012095  0.011465  0.011528  0.018521  0.018773\n",
      "  0.018899  0.018269  0.018332  0.018584  0.019214  0.019088  0.018395\n",
      "  0.013544  0.013922  0.014048  0.014174  0.013796  0.014615  0.014804\n",
      "  0.010457  0.009701  0.008693  0.008126  0.008819  0.008882  0.008504\n",
      "  0.009512  0.009575  0.01052   0.010709  0.010772  0.010835  0.012851\n",
      "  0.013607  0.01304   0.011024  0.012032  0.013985  0.014678  0.014867\n",
      "  0.018647  0.010331  0.012599  0.014237  0.012914  0.013733  0.012221\n",
      "  0.013103  0.020852  0.020411  0.014426  0.014552  0.014489  0.01367\n",
      "  0.011591  0.01115   0.018836  0.01934   0.019466  0.021356  0.021293\n",
      "  0.022112  0.022427  0.020474  0.019907  0.019655  0.018143  0.009827\n",
      "  0.009197  0.008945  0.008756  0.00926   0.012284  0.01241   0.011843\n",
      "  0.011087  0.012977  0.019151  0.020096  0.020537  0.020978  0.021104\n",
      "  0.021167  0.021482  0.021419  0.021545  0.021986  0.022049  0.023372\n",
      "  0.023939  0.022553  0.019025  0.019844  0.018458  0.019781  0.011654\n",
      "  0.01178   0.011906  0.011717  0.013229  0.012473  0.012158  0.011969\n",
      "  0.00863   0.013292  0.01997   0.020285  0.018962  0.02123   0.021671\n",
      "  0.020033  0.011402  0.011339  0.012536  0.010583  0.009764  0.009449\n",
      "  0.009323  0.009071  0.009134  0.009008  0.008441  0.008378  0.008315\n",
      "  0.008567  0.019592  0.021797  0.019277  0.021041  0.0206    0.01871\n",
      "  0.009638  0.00989   0.010646  0.010205  0.010268  0.010142  0.010079\n",
      "  0.009953  0.010394  0.009386  0.012347  0.012662  0.012788  0.010961\n",
      "  0.010898  0.011213  0.023876  0.023246  0.019403  0.008063  0.020663\n",
      "  0.021734  0.020789  0.019529  0.020159  0.020222  0.020348  0.020726\n",
      "  0.021608  0.02186   0.021923  0.022301  0.022679  0.022868  0.022742\n",
      "  0.022364  0.008252  0.008189  0.023057  0.022175  0.019718  0.02249\n",
      "  0.023498  0.022931  0.020915  0.022238  0.023183  0.023561  0.023309\n",
      "  0.02375   0.02312   0.023813  0.022616  0.022994  0.022805  0.023687\n",
      "  0.023435  0.023624]\n",
      "environmental_att5\n",
      "[324 318 314 313 319 323 320 322 317 311 312 315 309 316 260 327 321 326\n",
      " 329 330 325 328 331 332 393 384 334 339 305 306 302 301 307 304 300 308\n",
      " 338 343 346 345 341 335 333 336 337 340 352 358 364 367 371 377 382 385\n",
      " 383 381 380 379 378 376 375 374 373 372 370 369 368 366 363 387 394 397\n",
      " 396 401 402 405 404 398 400 406 409 407 395 390 386 391 392 389 399 388\n",
      " 365 360 410 413 412 408 403 418 422 424 430 436 440 431 425 427 433 437\n",
      " 435 419 480 496 503 510 513 489 490 451 447 411 423 421 357 310 414 415\n",
      " 417 416 420 362 344 350 356 349 348 351 355 361 354 342 347 353 292 359\n",
      " 303 261 445 273 493 297 280 270 278 296 293 290 289 288 428 434 432 429\n",
      " 426 444 463 478 488 504 499 497 506 511 502 476 449 456 443 439 442 446\n",
      " 438 441 470 464 454 461 448 452 299 295 458 455 453 298 462 459 460 457\n",
      " 450 469 263 267 474 472 483 495 479 505 481 291 294 283 286 465 468 287\n",
      " 284 281 282 277 276 482 466 271 272 274 275 279 467 285 491 487 484 268\n",
      " 266 269 500 265 512 509 508 507 264 262 475 473 471]\n",
      "environmental_att6\n",
      "[ 1  0  6  5  3  2 10 11 12 14 13 15 16  4  9  7  8 19 20 18 21 17 24 22 25\n",
      " 23]\n",
      "environmental_att8\n",
      "[1 0]\n",
      "environmental_att9\n",
      "[ 57  58  68  59  60  56  55  54  53  51  50  49  44  46  48  52   0  61\n",
      "  62  63  64 100  65  66  67  69  70  71  72  10  73  74  75  76  77  78\n",
      "  79  80  81  82  83  30  96  97  98  99   3  47  45  43  42  41  40  39\n",
      "  38  24  15  14  22  35  13  11   7   5  86  92  95  87  90  94  85  33\n",
      "  20   6  34  91   4  93  88   1  32 119   8  84  89  28   2   9  27  19\n",
      "  26  18  12  16  29  17  37  36  31  23  21  25 127 101 105 125 116 126\n",
      " 124 107 108 117 102 104 111 114 106 123 115 122 109 113 110]\n",
      "environmental_att10\n",
      "[  0.    1.6   2.8   3.6   4.    4.4   4.8   5.2   7.2   9.2  10.   10.4\n",
      "  10.8  11.2  11.6  12.   12.8  13.6  14.4  15.2  15.6  16.   16.4  17.2\n",
      "  17.6  18.8  18.   16.8  14.8   8.    8.4   0.4   2.    2.4   6.    6.4\n",
      "   6.8   7.6   8.8   9.6  12.4  19.2  19.6  21.2  21.6  20.8  20.4  18.4\n",
      "  20.   22.4  22.8  23.2  23.6  24.4  25.6  26.4  26.8  27.6  28.   29.2\n",
      "  30.4  30.8  31.2  31.6  32.   32.4  32.8  33.2  33.6  34.   34.4  30.\n",
      "  29.6  27.2  25.2  13.2  14.   22.   24.   24.8  28.8  26.    5.6   0.8\n",
      "   1.2  38.4  40.4  40.8  41.2  41.6  39.6  39.2  38.8  38.   36.8  35.6\n",
      "  34.8   3.2  28.4  36.4  36.   42.   43.6  44.8  45.2  45.6  46.   46.4\n",
      "  47.6  50.   50.8  51.2  51.6  52.   52.4  50.4  49.6  37.2  37.6  35.2]\n",
      "environmental_att11\n",
      "[1 0 4]\n",
      "vehicular_att1\n",
      "[ 101.96  101.98  101.97 ...,   35.83   10.96   34.08]\n",
      "vehicular_att2\n",
      "[ 0.175  0.455  0.28   0.07   0.     0.665  0.56   0.385 -0.07   0.875\n",
      " -0.175 -0.28  -0.385 -0.56  -0.665 -0.455 -0.77  -0.875  0.945  1.365\n",
      "  1.05   0.77  -0.945 -1.365 -1.05  -1.155 -1.435 -1.54  -1.925 -2.135\n",
      " -2.345 -2.03  -1.855 -1.75  -1.645  1.155  1.26   1.435  1.54   1.645\n",
      "  1.75   1.855  2.03   1.925  2.24   2.135  2.345 -1.26  -2.24  -2.415\n",
      " -2.625 -2.52   2.415  2.52   2.625  3.01  -3.325 -2.835 -2.73  -3.115\n",
      " -3.01  -3.22  -3.5   -3.395 -3.605 -3.71  -2.905  2.73  -3.885 -3.815 -4.2\n",
      " -4.095 -3.99   2.905  3.22   3.5    2.835  3.325  3.115 -4.305 -4.48  -4.69\n",
      " -4.795 -4.375  3.71   3.605  3.395  3.815  3.99   3.885]\n",
      "vehicular_att3\n",
      "[ 752 1008  240  496 1023  511  255  767  254 1022  766  510  765  509  253\n",
      " 1021  753  497 1009  241  498 1010  242  754  508  764  755  499 1011 1020\n",
      "  243  756  244  252]\n",
      "vehicular_att4\n",
      "[   5.99375    7.48125    4.50625    3.01875   10.5        9.0125     1.4875\n",
      "    0.        11.9875    13.5188    15.0063    16.4937    17.9812    22.4875\n",
      "   26.9937    25.5063    24.0188    21.        19.5125    28.4812    30.0125\n",
      "   31.5       34.5187    32.9875    36.0063    40.5125    45.0187    49.4813\n",
      "   51.0125    52.5       46.5063    47.9937    42.        37.4937    43.4875\n",
      "   59.9813    66.0187    72.0125    79.4938    85.4875    91.4813    97.5187\n",
      "  109.506    121.494    131.994    141.006    145.512    150.019    157.5\n",
      "  168.       177.012    184.494    190.488    194.994    196.481    199.5\n",
      "  204.006    210.       214.506    217.481    219.012    221.988    225.006\n",
      "  231.       235.506    226.494    103.513     76.5187    57.0063    80.9813\n",
      "  106.488    115.5      124.513    137.988    152.994    179.988    192.019\n",
      "  205.494    227.981    232.488    238.481    244.475    247.494    254.975\n",
      "  267.006    278.994    295.488    311.981    322.481    320.994    317.975\n",
      "  309.006    294.       282.012    277.506    275.975    307.475    330.006\n",
      "  337.488    340.506    341.994    364.481    393.006    418.512    429.012\n",
      "  425.994    420.       416.981    415.494    414.006    410.988    408.012\n",
      "  404.994    401.975    400.488    406.481    424.506    439.512    445.506\n",
      "  446.994    437.981    372.006    352.494    319.506    289.494    265.475\n",
      "  250.512    142.494     93.0125    64.4875    67.5062    68.9938    70.4813\n",
      "   73.5       78.0062    87.0187    99.0062   100.494    101.981     94.5\n",
      "   88.5062    61.5125    55.5187   133.481    166.512    253.488    334.512\n",
      "  355.512    370.475    380.975    389.988    395.981    403.506    441.\n",
      "  451.5      462.       472.5      477.006    475.475    469.481    388.5\n",
      "  366.012    292.512    262.5      241.5      220.5      193.506    163.494\n",
      "   84.        53.9875   108.019    120.006    127.488    129.019    126.\n",
      "  136.5      259.481    433.475    443.975    448.481    436.494    435.006\n",
      "  378.       349.475    346.5      336.       325.5      310.494    256.506\n",
      "  114.013    143.981    223.475    246.006    271.512    303.012    338.975\n",
      "  358.488    367.5      387.012    391.475    412.475    422.975    473.988\n",
      "  464.975    458.981    374.981    290.981    189.        38.9813    74.9875\n",
      "   89.9938   110.994    122.981    156.012    178.5      198.012    211.488\n",
      "  215.994    236.994    206.981    160.519     63.        58.4937    82.5125\n",
      "  112.481    116.988    105.       431.988    430.5      427.481    359.975\n",
      "  332.981    326.988    324.012    173.994     95.9875   171.019    288.006\n",
      "  331.494    373.494    382.506    383.994    361.506    347.988    304.5\n",
      "  284.988    263.988    183.006    130.506    135.012    154.481    164.981\n",
      "  181.519    229.512    280.481    313.512    328.475    315.       305.988\n",
      "  296.975    286.475    273.       202.475    148.488    162.006    172.506\n",
      "  212.975    257.994    240.012    118.519    175.481    185.981    187.512\n",
      "  151.506    169.488    343.481    345.012    368.988    376.512    385.481\n",
      "  442.488    450.012    454.475    457.494    466.506    471.012    463.488\n",
      "  357.       362.994    379.488    316.488    298.506    283.5      268.494\n",
      "  139.519    158.988    200.988    208.512    248.981    421.488    394.494\n",
      "  147.       252.       242.988    233.975    460.512    409.5      397.512\n",
      "  301.481    269.981    399.       479.981    478.494    467.994    456.006\n",
      "  299.994    452.988    261.012    353.981    351.006    274.488    481.512\n",
      "  483.       484.488  ]\n",
      "vehicular_att5\n",
      "[2005 2007 2011 ..., 3078 3117 2935]\n",
      "vehicular_att6\n",
      "[ 13.4  12.1   8.2   6.    5.6   4.3   3.4   2.6   1.3   0.    0.8   3.\n",
      "   4.7   5.2   6.5   8.6  10.8  13.   14.3  15.2  16.9  17.8  18.2  18.6\n",
      "  19.5  19.1  21.3  22.6  23.   23.4  23.9  24.7  26.9  27.3  27.8  28.2\n",
      "  28.6  20.8  11.7  11.3  10.4   9.9   0.4   1.    2.3   3.6   4.9   5.8\n",
      "   6.3   5.4   4.5   4.1   6.7   8.    9.3  10.2  11.   11.5  11.9  17.1\n",
      "  19.7  20.2  19.3  18.9  18.4  18.   17.6  21.   21.5  23.2  23.6  24.1\n",
      "  24.5  25.   22.8  20.6  15.8  15.4  14.9  14.5  14.1  13.6  13.2  12.3\n",
      "   9.7   8.9  10.6  16.3  16.7  21.9  22.3   8.4   7.1   2.8   1.9   1.5\n",
      "   3.2   7.8   9.5  14.7  16.   19.9  20.4  17.3  16.5  15.6  13.9   7.6\n",
      "   6.9   2.1   7.3   9.1  12.6  21.7  22.1  31.3  32.1  32.6  33.9  34.3\n",
      "  34.7  36.9  37.3  38.2  38.6  37.8  35.6  33.4  30.4  29.9  29.5  26.\n",
      "  25.2  24.3  12.8  26.5  29.1   3.9  33.   35.2  39.5  41.7  42.6  43.\n",
      "  42.1  38.4  36.3  36.7  37.1  35.8  33.2  30.6  28.9  26.7   1.7  25.8\n",
      "  28.4  30.2  29.7  27.1  27.6  39.1  40.8  41.3  36.   31.7  25.6  32.8\n",
      "  34.1  34.5  34.9  35.4  31.9  31.    0.2  28.   29.3  26.3  25.4   0.6\n",
      "  32.3  31.5  37.6  39.3  40.2  39.7  38.   38.9  33.6  30.8  36.5  39.9\n",
      "  40.4  43.2  44.1  44.5  43.6  41.9  41.   40.6  41.5  42.8  44.9  45.4\n",
      "  45.8  46.3  42.3  44.3  44.7  45.2  45.6  46.   43.4  51.7  53.9  53.4\n",
      "  52.1  50.8  49.5  48.6  47.8  57.8  58.6  59.5  62.1  58.   50.   50.4\n",
      "  51.3  52.6  47.3  43.9  46.5  49.1  48.2  53.   54.3  55.2  56.5  59.1\n",
      "  60.4  60.8  61.3  61.7  59.7  57.6  55.6  51.5  48.9  48.4  48.   47.1\n",
      "  56.7  57.1  52.8  46.7  46.9  47.6  51.   50.6  50.2  52.3  53.2  53.6\n",
      "  61.   61.9  61.5  59.3  58.4  54.9  51.9  49.7  54.1  54.5  64.1  64.5\n",
      "  64.9  62.8  58.2  56.9  57.3  49.3  56.   55.8  54.7  58.9  55.4  63.2\n",
      "  63.6  62.3  62.6  60.6  63.   66.   66.5  66.9  63.9  63.4  68.   68.9\n",
      "  64.3  59.9  56.3  65.8  71.5  73.2  72.8  72.3  60.2  69.1  70.4  71.3\n",
      "  71.7  72.6  72.1  69.3  65.4]\n",
      "vehicular_att7\n",
      "[4 3 2 1 7]\n",
      "vehicular_att9\n",
      "[0 1]\n",
      "IsAlert\n",
      "[0 1]\n"
     ]
    }
   ],
   "source": [
    "for n in data.columns:\n",
    "    print n\n",
    "    print data[n].unique()"
   ]
  },
  {
   "cell_type": "code",
   "execution_count": 68,
   "metadata": {
    "collapsed": true
   },
   "outputs": [],
   "source": [
    "test = pd.get_dummies(data,columns=['environmental_att11','vehicular_att7'])"
   ]
  },
  {
   "cell_type": "code",
   "execution_count": 70,
   "metadata": {
    "collapsed": false
   },
   "outputs": [],
   "source": [
    "a = test.drop(['TrialID','IsAlert','ObsNum'], axis=1)\n",
    "b = test.IsAlert"
   ]
  },
  {
   "cell_type": "markdown",
   "metadata": {},
   "source": [
    "## Prepare the Data"
   ]
  },
  {
   "cell_type": "code",
   "execution_count": 14,
   "metadata": {
    "collapsed": true
   },
   "outputs": [],
   "source": [
    "X = data.drop(['TrialID','IsAlert','ObsNum'], axis=1)\n",
    "Y = data.IsAlert"
   ]
  },
  {
   "cell_type": "code",
   "execution_count": 4,
   "metadata": {
    "collapsed": false
   },
   "outputs": [],
   "source": [
    "from sklearn.cross_validation import train_test_split\n",
    "\n",
    "train_X, test_X,train_Y,test_Y = train_test_split(X,Y,test_size=0.3, random_state=42)"
   ]
  },
  {
   "cell_type": "code",
   "execution_count": 15,
   "metadata": {
    "collapsed": false
   },
   "outputs": [
    {
     "name": "stdout",
     "output_type": "stream",
     "text": [
      "(414570, 26)\n",
      "(177673, 26)\n"
     ]
    }
   ],
   "source": [
    "print train_X.shape\n",
    "print test_X.shape"
   ]
  },
  {
   "cell_type": "markdown",
   "metadata": {},
   "source": [
    "## Modelling"
   ]
  },
  {
   "cell_type": "markdown",
   "metadata": {},
   "source": [
    "## Random Forest"
   ]
  },
  {
   "cell_type": "code",
   "execution_count": 4,
   "metadata": {
    "collapsed": false
   },
   "outputs": [
    {
     "name": "stdout",
     "output_type": "stream",
     "text": [
      "Score 0.6319 =/- 0.0830\n"
     ]
    }
   ],
   "source": [
    "from sklearn.ensemble import RandomForestClassifier\n",
    "\n",
    "clf = RandomForestClassifier(n_estimators = 100,random_state=42,n_jobs=-1)\n",
    "\n",
    "scores = cross_val_score(clf,X,Y, cv=5,scoring='roc_auc',n_jobs=-1)\n",
    "print (\"Score %0.4f =/- %0.4f\") % (scores.mean(),scores.std())"
   ]
  },
  {
   "cell_type": "code",
   "execution_count": null,
   "metadata": {
    "collapsed": true
   },
   "outputs": [],
   "source": [
    "from sklearn.ensemble import RandomForestClassifier\n",
    "\n",
    "clf = RandomForestClassifier(n_estimators = 100,random_state=42,n_jobs=-1)\n",
    "\n",
    "scores = cross_val_score(clf,a,b, cv=5,scoring='roc_auc',n_jobs=-1)\n",
    "print (\"Score %0.4f =/- %0.4f\") % (scores.mean(),scores.std())"
   ]
  },
  {
   "cell_type": "markdown",
   "metadata": {},
   "source": [
    "Score 0.6319 =/- 0.0830 With Obs Number"
   ]
  },
  {
   "cell_type": "code",
   "execution_count": 19,
   "metadata": {
    "collapsed": false,
    "scrolled": true
   },
   "outputs": [
    {
     "data": {
      "text/plain": [
       "RandomizedSearchCV(cv=5, error_score='raise',\n",
       "          estimator=RandomForestClassifier(bootstrap=True, class_weight=None, criterion='gini',\n",
       "            max_depth=None, max_features='auto', max_leaf_nodes=None,\n",
       "            min_samples_leaf=1, min_samples_split=2,\n",
       "            min_weight_fraction_leaf=0.0, n_estimators=100, n_jobs=-1,\n",
       "            oob_score=False, random_state=42, verbose=0, warm_start=False),\n",
       "          fit_params={}, iid=True, n_iter=10, n_jobs=-1,\n",
       "          param_distributions={'max_features': ['auto', None], 'min_samples_split': <scipy.stats._distn_infrastructure.rv_frozen object at 0x7fb5356df710>, 'criterion': ['gini', 'entropy'], 'max_depth': [5, None], 'min_samples_leaf': <scipy.stats._distn_infrastructure.rv_frozen object at 0x7fb5356df9d0>},\n",
       "          pre_dispatch='2*n_jobs', random_state=None, refit=True,\n",
       "          scoring='roc_auc', verbose=0)"
      ]
     },
     "execution_count": 19,
     "metadata": {},
     "output_type": "execute_result"
    }
   ],
   "source": [
    "from sklearn.grid_search import RandomizedSearchCV\n",
    "from sklearn.ensemble import RandomForestClassifier\n",
    "from scipy.stats import randint as sp_randint\n",
    "\n",
    "\n",
    "clf = RandomForestClassifier(n_estimators= 100,random_state=42,n_jobs=-1)\n",
    "\n",
    "\n",
    "param_dist = {\"max_depth\": [5, None],\n",
    "              \"max_features\": ['auto'],\n",
    "              #\"max_features\": sp_randint(1, 11),\n",
    "              \"min_samples_split\": sp_randint(1, 11),\n",
    "              \"min_samples_leaf\": sp_randint(1, 11),\n",
    "              #\"bootstrap\": [True, False],\n",
    "              \"criterion\": [\"gini\"]}\n",
    "\n",
    "# run randomized search\n",
    "n_iter_search = 10\n",
    "random_search = RandomizedSearchCV(clf, param_distributions=param_dist,n_iter=n_iter_search,cv=5,scoring='roc_auc',n_jobs=-1)\n",
    "\n",
    "random_search.fit(X,Y)"
   ]
  },
  {
   "cell_type": "code",
   "execution_count": 26,
   "metadata": {
    "collapsed": false
   },
   "outputs": [
    {
     "data": {
      "text/plain": [
       "0.76673255059108558"
      ]
     },
     "execution_count": 26,
     "metadata": {},
     "output_type": "execute_result"
    }
   ],
   "source": [
    "random_search.best_score_"
   ]
  },
  {
   "cell_type": "code",
   "execution_count": 31,
   "metadata": {
    "collapsed": false,
    "scrolled": true
   },
   "outputs": [
    {
     "data": {
      "text/plain": [
       "[mean: 0.61560, std: 0.08298, params: {'max_features': None, 'min_samples_split': 8, 'criterion': 'gini', 'max_depth': None, 'min_samples_leaf': 7},\n",
       " mean: 0.70314, std: 0.06897, params: {'max_features': None, 'min_samples_split': 10, 'criterion': 'gini', 'max_depth': 5, 'min_samples_leaf': 6},\n",
       " mean: 0.76397, std: 0.06795, params: {'max_features': 'auto', 'min_samples_split': 5, 'criterion': 'entropy', 'max_depth': 5, 'min_samples_leaf': 4},\n",
       " mean: 0.63596, std: 0.08093, params: {'max_features': 'auto', 'min_samples_split': 10, 'criterion': 'gini', 'max_depth': None, 'min_samples_leaf': 1},\n",
       " mean: 0.76673, std: 0.06740, params: {'max_features': 'auto', 'min_samples_split': 5, 'criterion': 'gini', 'max_depth': 5, 'min_samples_leaf': 3},\n",
       " mean: 0.60387, std: 0.06679, params: {'max_features': None, 'min_samples_split': 1, 'criterion': 'entropy', 'max_depth': None, 'min_samples_leaf': 5},\n",
       " mean: 0.60115, std: 0.06964, params: {'max_features': None, 'min_samples_split': 5, 'criterion': 'entropy', 'max_depth': None, 'min_samples_leaf': 2},\n",
       " mean: 0.60387, std: 0.06679, params: {'max_features': None, 'min_samples_split': 6, 'criterion': 'entropy', 'max_depth': None, 'min_samples_leaf': 5},\n",
       " mean: 0.60173, std: 0.07000, params: {'max_features': None, 'min_samples_split': 3, 'criterion': 'entropy', 'max_depth': None, 'min_samples_leaf': 2},\n",
       " mean: 0.68925, std: 0.07511, params: {'max_features': None, 'min_samples_split': 2, 'criterion': 'entropy', 'max_depth': 5, 'min_samples_leaf': 6}]"
      ]
     },
     "execution_count": 31,
     "metadata": {},
     "output_type": "execute_result"
    }
   ],
   "source": [
    "random_search.grid_scores_"
   ]
  },
  {
   "cell_type": "code",
   "execution_count": 25,
   "metadata": {
    "collapsed": false
   },
   "outputs": [
    {
     "data": {
      "text/plain": [
       "{'criterion': 'gini',\n",
       " 'max_depth': 5,\n",
       " 'max_features': 'auto',\n",
       " 'min_samples_leaf': 3,\n",
       " 'min_samples_split': 5}"
      ]
     },
     "execution_count": 25,
     "metadata": {},
     "output_type": "execute_result"
    }
   ],
   "source": [
    "random_search.best_params_"
   ]
  },
  {
   "cell_type": "code",
   "execution_count": 27,
   "metadata": {
    "collapsed": false,
    "scrolled": true
   },
   "outputs": [
    {
     "data": {
      "text/plain": [
       "RandomForestClassifier(bootstrap=True, class_weight=None, criterion='gini',\n",
       "            max_depth=5, max_features='auto', max_leaf_nodes=None,\n",
       "            min_samples_leaf=3, min_samples_split=5,\n",
       "            min_weight_fraction_leaf=0.0, n_estimators=100, n_jobs=-1,\n",
       "            oob_score=False, random_state=42, verbose=0, warm_start=False)"
      ]
     },
     "execution_count": 27,
     "metadata": {},
     "output_type": "execute_result"
    }
   ],
   "source": [
    "random_search.best_estimator_"
   ]
  },
  {
   "cell_type": "markdown",
   "metadata": {},
   "source": [
    "### Best Random Forest"
   ]
  },
  {
   "cell_type": "code",
   "execution_count": 75,
   "metadata": {
    "collapsed": false
   },
   "outputs": [
    {
     "name": "stdout",
     "output_type": "stream",
     "text": [
      "Score 0.7773 =/- 0.0662\n"
     ]
    }
   ],
   "source": [
    "from sklearn.ensemble import RandomForestClassifier\n",
    "clf = RandomForestClassifier(bootstrap=True, class_weight=None, criterion='gini',\n",
    "            max_depth=4, max_features='auto', max_leaf_nodes=None,\n",
    "            min_samples_leaf=2, min_samples_split=5,\n",
    "            min_weight_fraction_leaf=0.0, n_estimators=100, n_jobs=-1,\n",
    "            oob_score=False, random_state=42, verbose=0, warm_start=False)\n",
    "\n",
    "scores = cross_val_score(clf,a,b, cv=5,scoring='roc_auc',n_jobs=-1)\n",
    "print ((\"Score %0.4f =/- %0.4f\") % (scores.mean(),scores.std()))"
   ]
  },
  {
   "cell_type": "code",
   "execution_count": 36,
   "metadata": {
    "collapsed": false
   },
   "outputs": [
    {
     "data": {
      "text/plain": [
       "GridSearchCV(cv=5, error_score='raise',\n",
       "       estimator=RandomForestClassifier(bootstrap=True, class_weight=None, criterion='gini',\n",
       "            max_depth=4, max_features='auto', max_leaf_nodes=None,\n",
       "            min_samples_leaf=2, min_samples_split=5,\n",
       "            min_weight_fraction_leaf=0.0, n_estimators=100, n_jobs=-1,\n",
       "            oob_score=False, random_state=42, verbose=0, warm_start=False),\n",
       "       fit_params={}, iid=True, n_jobs=-1,\n",
       "       param_grid={'min_samples_split': [1, 2, 3]},\n",
       "       pre_dispatch='2*n_jobs', refit=True, scoring='roc_auc', verbose=0)"
      ]
     },
     "execution_count": 36,
     "metadata": {},
     "output_type": "execute_result"
    }
   ],
   "source": [
    "from sklearn.grid_search import GridSearchCV\n",
    "from sklearn.ensemble import RandomForestClassifier\n",
    "\n",
    "#Best RandomForest\n",
    "clf = RandomForestClassifier(bootstrap=True, class_weight=None, criterion='gini',\n",
    "            max_depth=4, max_features='auto', max_leaf_nodes=None,\n",
    "            min_samples_leaf=2, min_samples_split=5,\n",
    "            min_weight_fraction_leaf=0.0, n_estimators=100, n_jobs=-1,\n",
    "            oob_score=False, random_state=42, verbose=0, warm_start=False)\n",
    "\n",
    "param_dist = {#\"max_depth\": [3,4,5],\n",
    "              #\"max_features\": ['auto',None],\n",
    "              #\"max_features\": sp_randint(1, 11),\n",
    "              \"min_samples_split\": [1,2,3],}\n",
    "              #\"min_samples_leaf\": [2,3,4],\n",
    "              #\"bootstrap\": [True, False],\n",
    "              #\"criterion\": [\"gini\", \"entropy\"]}\n",
    "\n",
    "# run randomized search\n",
    "grid_search = GridSearchCV(clf, param_grid=param_dist,cv=5,scoring='roc_auc',n_jobs=-1)\n",
    "\n",
    "grid_search.fit(X,Y)"
   ]
  },
  {
   "cell_type": "code",
   "execution_count": 30,
   "metadata": {
    "collapsed": false
   },
   "outputs": [
    {
     "name": "stdout",
     "output_type": "stream",
     "text": [
      "0.774230086065\n",
      "{'min_samples_split': 2}\n"
     ]
    }
   ],
   "source": [
    "print (grid_search.best_score_)\n",
    "print (grid_search.best_params_)"
   ]
  },
  {
   "cell_type": "code",
   "execution_count": 49,
   "metadata": {
    "collapsed": false
   },
   "outputs": [
    {
     "ename": "NameError",
     "evalue": "name 'figsize' is not defined",
     "output_type": "error",
     "traceback": [
      "\u001b[1;31m---------------------------------------------------------------------------\u001b[0m",
      "\u001b[1;31mNameError\u001b[0m                                 Traceback (most recent call last)",
      "\u001b[1;32m<ipython-input-49-df7416b76f99>\u001b[0m in \u001b[0;36m<module>\u001b[1;34m()\u001b[0m\n\u001b[1;32m----> 1\u001b[1;33m \u001b[0mfig\u001b[0m\u001b[1;33m,\u001b[0m \u001b[0max\u001b[0m \u001b[1;33m=\u001b[0m \u001b[0mplt\u001b[0m\u001b[1;33m.\u001b[0m\u001b[0msubplots\u001b[0m\u001b[1;33m(\u001b[0m\u001b[0mfigsize\u001b[0m\u001b[1;33m(\u001b[0m\u001b[1;36m10\u001b[0m\u001b[1;33m,\u001b[0m\u001b[1;36m10\u001b[0m\u001b[1;33m)\u001b[0m\u001b[1;33m)\u001b[0m\u001b[1;33m\u001b[0m\u001b[0m\n\u001b[0m\u001b[0;32m      2\u001b[0m \u001b[0mfeature_importance\u001b[0m \u001b[1;33m=\u001b[0m \u001b[0mclf\u001b[0m\u001b[1;33m.\u001b[0m\u001b[0mfeature_importances_\u001b[0m\u001b[1;33m\u001b[0m\u001b[0m\n\u001b[0;32m      3\u001b[0m \u001b[1;31m# make importances relative to max importance\u001b[0m\u001b[1;33m\u001b[0m\u001b[1;33m\u001b[0m\u001b[0m\n\u001b[0;32m      4\u001b[0m \u001b[1;31m#feature_importance = 100.0 * (feature_importance / feature_importance.max())\u001b[0m\u001b[1;33m\u001b[0m\u001b[1;33m\u001b[0m\u001b[0m\n\u001b[0;32m      5\u001b[0m \u001b[0msorted_idx\u001b[0m \u001b[1;33m=\u001b[0m \u001b[0mnp\u001b[0m\u001b[1;33m.\u001b[0m\u001b[0margsort\u001b[0m\u001b[1;33m(\u001b[0m\u001b[0mfeature_importance\u001b[0m\u001b[1;33m)\u001b[0m\u001b[1;33m\u001b[0m\u001b[0m\n",
      "\u001b[1;31mNameError\u001b[0m: name 'figsize' is not defined"
     ]
    }
   ],
   "source": [
    "fig, ax = plt.subplots(figsize(10,10))\n",
    "feature_importance = clf.feature_importances_\n",
    "# make importances relative to max importance\n",
    "#feature_importance = 100.0 * (feature_importance / feature_importance.max())\n",
    "sorted_idx = np.argsort(feature_importance)\n",
    "pos = np.arange(sorted_idx.shape[0]) + .5\n",
    "\n",
    "ax.barh(pos, feature_importance[sorted_idx], align='center')\n",
    "plt.yticks(pos, X.columns[sorted_idx])\n",
    "plt.xlabel('Relative Importance')\n",
    "plt.title('Variable Importance')\n",
    "plt.show()"
   ]
  },
  {
   "cell_type": "markdown",
   "metadata": {},
   "source": [
    "## Logisitic Regression"
   ]
  },
  {
   "cell_type": "code",
   "execution_count": 34,
   "metadata": {
    "collapsed": false
   },
   "outputs": [
    {
     "name": "stdout",
     "output_type": "stream",
     "text": [
      "Score 0.71684 +/- 0.09082 \n",
      "154.181999922\n"
     ]
    }
   ],
   "source": [
    "from time import time\n",
    "tt = time()\n",
    "from sklearn.linear_model import LogisticRegressionCV\n",
    "logreg = LogisticRegressionCV(class_weight = 'balanced',cv = 5,scoring='roc_auc',n_jobs=-1,random_state=42)\n",
    "logreg.fit(X,Y)\n",
    "print \"Score %.5f +/- %.5f \" % (logreg.scores_[1].mean(),logreg.scores_[1].std())\n",
    "\n",
    "print time() - tt"
   ]
  },
  {
   "cell_type": "code",
   "execution_count": 31,
   "metadata": {
    "collapsed": true
   },
   "outputs": [],
   "source": [
    "from sklearn.preprocessing import StandardScaler\n",
    "\n",
    "scaler = StandardScaler()\n",
    "\n",
    "scaler.fit(X)\n",
    "\n",
    "new_X = scaler.transform(X)"
   ]
  },
  {
   "cell_type": "markdown",
   "metadata": {},
   "source": [
    "### Best Model for Logistic Regression"
   ]
  },
  {
   "cell_type": "code",
   "execution_count": 39,
   "metadata": {
    "collapsed": false
   },
   "outputs": [
    {
     "name": "stdout",
     "output_type": "stream",
     "text": [
      "Score 0.75172 +/- 0.05503 \n",
      "31.9570000172\n"
     ]
    }
   ],
   "source": [
    "tt = time()\n",
    "from sklearn.linear_model import LogisticRegressionCV\n",
    "logreg = LogisticRegressionCV(class_weight = 'balanced',cv = 5,scoring='roc_auc',n_jobs=-1,random_state=42)\n",
    "logreg.fit(new_X,Y)\n",
    "print \"Score %.5f +/- %.5f \" % (logreg.scores_[1].mean(),logreg.scores_[1].std())\n",
    "\n",
    "print time() - tt"
   ]
  },
  {
   "cell_type": "markdown",
   "metadata": {},
   "source": [
    "## Auto Sklearn"
   ]
  },
  {
   "cell_type": "code",
   "execution_count": 36,
   "metadata": {
    "collapsed": false
   },
   "outputs": [
    {
     "name": "stdout",
     "output_type": "stream",
     "text": [
      "[WARNING] [2016-06-03 01:26:29,008:AutoML(1):IsAlert2] Could not delete output dir: /tmp/autosklearn_example_out2\n"
     ]
    },
    {
     "ename": "IndexError",
     "evalue": "indices are out-of-bounds",
     "output_type": "error",
     "traceback": [
      "\u001b[1;31m---------------------------------------------------------------------------\u001b[0m",
      "\u001b[1;31mIndexError\u001b[0m                                Traceback (most recent call last)",
      "\u001b[1;32m<ipython-input-36-59f1eb32afae>\u001b[0m in \u001b[0;36m<module>\u001b[1;34m()\u001b[0m\n\u001b[0;32m      7\u001b[0m \u001b[1;33m\u001b[0m\u001b[0m\n\u001b[0;32m      8\u001b[0m \u001b[1;33m\u001b[0m\u001b[0m\n\u001b[1;32m----> 9\u001b[1;33m \u001b[0mautoml\u001b[0m\u001b[1;33m.\u001b[0m\u001b[0mfit\u001b[0m\u001b[1;33m(\u001b[0m\u001b[0mX\u001b[0m\u001b[1;33m,\u001b[0m\u001b[0mY\u001b[0m\u001b[1;33m,\u001b[0m\u001b[0mdataset_name\u001b[0m \u001b[1;33m=\u001b[0m \u001b[1;34m'IsAlert3'\u001b[0m\u001b[1;33m,\u001b[0m\u001b[0mmetric\u001b[0m \u001b[1;33m=\u001b[0m \u001b[1;34m\"auc_metric\"\u001b[0m\u001b[1;33m)\u001b[0m\u001b[1;33m\u001b[0m\u001b[0m\n\u001b[0m\u001b[0;32m     10\u001b[0m \u001b[1;31m#automl.refit(X,Y)\u001b[0m\u001b[1;33m\u001b[0m\u001b[1;33m\u001b[0m\u001b[0m\n\u001b[0;32m     11\u001b[0m \u001b[1;33m\u001b[0m\u001b[0m\n",
      "\u001b[1;32m/home/ubuntu/anaconda2/lib/python2.7/site-packages/autosklearn/estimators.pyc\u001b[0m in \u001b[0;36mfit\u001b[1;34m(self, X, y, metric, feat_type, dataset_name)\u001b[0m\n\u001b[0;32m    269\u001b[0m \u001b[1;33m\u001b[0m\u001b[0m\n\u001b[0;32m    270\u001b[0m         return super(AutoSklearnClassifier, self).fit(X, y, task, metric,\n\u001b[1;32m--> 271\u001b[1;33m                                                       feat_type, dataset_name)\n\u001b[0m\u001b[0;32m    272\u001b[0m \u001b[1;33m\u001b[0m\u001b[0m\n\u001b[0;32m    273\u001b[0m     \u001b[1;32mdef\u001b[0m \u001b[0mpredict\u001b[0m\u001b[1;33m(\u001b[0m\u001b[0mself\u001b[0m\u001b[1;33m,\u001b[0m \u001b[0mX\u001b[0m\u001b[1;33m)\u001b[0m\u001b[1;33m:\u001b[0m\u001b[1;33m\u001b[0m\u001b[0m\n",
      "\u001b[1;32m/home/ubuntu/anaconda2/lib/python2.7/site-packages/autosklearn/automl.pyc\u001b[0m in \u001b[0;36mfit\u001b[1;34m(self, X, y, task, metric, feat_type, dataset_name)\u001b[0m\n\u001b[0;32m    173\u001b[0m                                             encode_labels=False)\n\u001b[0;32m    174\u001b[0m \u001b[1;33m\u001b[0m\u001b[0m\n\u001b[1;32m--> 175\u001b[1;33m         \u001b[1;32mreturn\u001b[0m \u001b[0mself\u001b[0m\u001b[1;33m.\u001b[0m\u001b[0m_fit\u001b[0m\u001b[1;33m(\u001b[0m\u001b[0mloaded_data_manager\u001b[0m\u001b[1;33m)\u001b[0m\u001b[1;33m\u001b[0m\u001b[0m\n\u001b[0m\u001b[0;32m    176\u001b[0m \u001b[1;33m\u001b[0m\u001b[0m\n\u001b[0;32m    177\u001b[0m     \u001b[1;32mdef\u001b[0m \u001b[0mfit_automl_dataset\u001b[0m\u001b[1;33m(\u001b[0m\u001b[0mself\u001b[0m\u001b[1;33m,\u001b[0m \u001b[0mdataset\u001b[0m\u001b[1;33m)\u001b[0m\u001b[1;33m:\u001b[0m\u001b[1;33m\u001b[0m\u001b[0m\n",
      "\u001b[1;32m/home/ubuntu/anaconda2/lib/python2.7/site-packages/autosklearn/automl.pyc\u001b[0m in \u001b[0;36m_fit\u001b[1;34m(self, datamanager)\u001b[0m\n\u001b[0;32m    291\u001b[0m         self._save_ensemble_data(\n\u001b[0;32m    292\u001b[0m             \u001b[0mdatamanager\u001b[0m\u001b[1;33m.\u001b[0m\u001b[0mdata\u001b[0m\u001b[1;33m[\u001b[0m\u001b[1;34m'X_train'\u001b[0m\u001b[1;33m]\u001b[0m\u001b[1;33m,\u001b[0m\u001b[1;33m\u001b[0m\u001b[0m\n\u001b[1;32m--> 293\u001b[1;33m             datamanager.data['Y_train'])\n\u001b[0m\u001b[0;32m    294\u001b[0m \u001b[1;33m\u001b[0m\u001b[0m\n\u001b[0;32m    295\u001b[0m         \u001b[0mtime_for_load_data\u001b[0m \u001b[1;33m=\u001b[0m \u001b[0mself\u001b[0m\u001b[1;33m.\u001b[0m\u001b[0m_stopwatch\u001b[0m\u001b[1;33m.\u001b[0m\u001b[0mwall_elapsed\u001b[0m\u001b[1;33m(\u001b[0m\u001b[0mself\u001b[0m\u001b[1;33m.\u001b[0m\u001b[0m_dataset_name\u001b[0m\u001b[1;33m)\u001b[0m\u001b[1;33m\u001b[0m\u001b[0m\n",
      "\u001b[1;32m/home/ubuntu/anaconda2/lib/python2.7/site-packages/autosklearn/automl.pyc\u001b[0m in \u001b[0;36m_save_ensemble_data\u001b[1;34m(self, X, y)\u001b[0m\n\u001b[0;32m    554\u001b[0m         \u001b[0mtask_name\u001b[0m \u001b[1;33m=\u001b[0m \u001b[1;34m'LoadData'\u001b[0m\u001b[1;33m\u001b[0m\u001b[0m\n\u001b[0;32m    555\u001b[0m         \u001b[0mself\u001b[0m\u001b[1;33m.\u001b[0m\u001b[0m_start_task\u001b[0m\u001b[1;33m(\u001b[0m\u001b[0mself\u001b[0m\u001b[1;33m.\u001b[0m\u001b[0m_stopwatch\u001b[0m\u001b[1;33m,\u001b[0m \u001b[0mtask_name\u001b[0m\u001b[1;33m)\u001b[0m\u001b[1;33m\u001b[0m\u001b[0m\n\u001b[1;32m--> 556\u001b[1;33m         \u001b[0m_\u001b[0m\u001b[1;33m,\u001b[0m \u001b[0m_\u001b[0m\u001b[1;33m,\u001b[0m \u001b[0m_\u001b[0m\u001b[1;33m,\u001b[0m \u001b[0my_ensemble\u001b[0m \u001b[1;33m=\u001b[0m \u001b[0mresampling\u001b[0m\u001b[1;33m.\u001b[0m\u001b[0msplit_data\u001b[0m\u001b[1;33m(\u001b[0m\u001b[0mX\u001b[0m\u001b[1;33m,\u001b[0m \u001b[0my\u001b[0m\u001b[1;33m)\u001b[0m\u001b[1;33m\u001b[0m\u001b[0m\n\u001b[0m\u001b[0;32m    557\u001b[0m         \u001b[0mself\u001b[0m\u001b[1;33m.\u001b[0m\u001b[0m_backend\u001b[0m\u001b[1;33m.\u001b[0m\u001b[0msave_targets_ensemble\u001b[0m\u001b[1;33m(\u001b[0m\u001b[0my_ensemble\u001b[0m\u001b[1;33m)\u001b[0m\u001b[1;33m\u001b[0m\u001b[0m\n\u001b[0;32m    558\u001b[0m         \u001b[0mself\u001b[0m\u001b[1;33m.\u001b[0m\u001b[0m_stop_task\u001b[0m\u001b[1;33m(\u001b[0m\u001b[0mself\u001b[0m\u001b[1;33m.\u001b[0m\u001b[0m_stopwatch\u001b[0m\u001b[1;33m,\u001b[0m \u001b[0mtask_name\u001b[0m\u001b[1;33m)\u001b[0m\u001b[1;33m\u001b[0m\u001b[0m\n",
      "\u001b[1;32m/home/ubuntu/anaconda2/lib/python2.7/site-packages/autosklearn/evaluation/resampling.pyc\u001b[0m in \u001b[0;36msplit_data\u001b[1;34m(X, Y, classification)\u001b[0m\n\u001b[0;32m     75\u001b[0m                 \u001b[1;32mpass\u001b[0m\u001b[1;33m\u001b[0m\u001b[0m\n\u001b[0;32m     76\u001b[0m \u001b[1;33m\u001b[0m\u001b[0m\n\u001b[1;32m---> 77\u001b[1;33m         \u001b[0mX_train\u001b[0m\u001b[1;33m,\u001b[0m \u001b[0mX_valid\u001b[0m \u001b[1;33m=\u001b[0m \u001b[0mX\u001b[0m\u001b[1;33m[\u001b[0m\u001b[0mtrain_index\u001b[0m\u001b[1;33m]\u001b[0m\u001b[1;33m,\u001b[0m \u001b[0mX\u001b[0m\u001b[1;33m[\u001b[0m\u001b[0mvalid_index\u001b[0m\u001b[1;33m]\u001b[0m\u001b[1;33m\u001b[0m\u001b[0m\n\u001b[0m\u001b[0;32m     78\u001b[0m         \u001b[0mY_train\u001b[0m\u001b[1;33m,\u001b[0m \u001b[0mY_valid\u001b[0m \u001b[1;33m=\u001b[0m \u001b[0mY\u001b[0m\u001b[1;33m[\u001b[0m\u001b[0mtrain_index\u001b[0m\u001b[1;33m]\u001b[0m\u001b[1;33m,\u001b[0m \u001b[0mY\u001b[0m\u001b[1;33m[\u001b[0m\u001b[0mvalid_index\u001b[0m\u001b[1;33m]\u001b[0m\u001b[1;33m\u001b[0m\u001b[0m\n\u001b[0;32m     79\u001b[0m \u001b[1;33m\u001b[0m\u001b[0m\n",
      "\u001b[1;32m/home/ubuntu/anaconda2/lib/python2.7/site-packages/pandas/core/frame.pyc\u001b[0m in \u001b[0;36m__getitem__\u001b[1;34m(self, key)\u001b[0m\n\u001b[0;32m   1984\u001b[0m         \u001b[1;32mif\u001b[0m \u001b[0misinstance\u001b[0m\u001b[1;33m(\u001b[0m\u001b[0mkey\u001b[0m\u001b[1;33m,\u001b[0m \u001b[1;33m(\u001b[0m\u001b[0mSeries\u001b[0m\u001b[1;33m,\u001b[0m \u001b[0mnp\u001b[0m\u001b[1;33m.\u001b[0m\u001b[0mndarray\u001b[0m\u001b[1;33m,\u001b[0m \u001b[0mIndex\u001b[0m\u001b[1;33m,\u001b[0m \u001b[0mlist\u001b[0m\u001b[1;33m)\u001b[0m\u001b[1;33m)\u001b[0m\u001b[1;33m:\u001b[0m\u001b[1;33m\u001b[0m\u001b[0m\n\u001b[0;32m   1985\u001b[0m             \u001b[1;31m# either boolean or fancy integer index\u001b[0m\u001b[1;33m\u001b[0m\u001b[1;33m\u001b[0m\u001b[0m\n\u001b[1;32m-> 1986\u001b[1;33m             \u001b[1;32mreturn\u001b[0m \u001b[0mself\u001b[0m\u001b[1;33m.\u001b[0m\u001b[0m_getitem_array\u001b[0m\u001b[1;33m(\u001b[0m\u001b[0mkey\u001b[0m\u001b[1;33m)\u001b[0m\u001b[1;33m\u001b[0m\u001b[0m\n\u001b[0m\u001b[0;32m   1987\u001b[0m         \u001b[1;32melif\u001b[0m \u001b[0misinstance\u001b[0m\u001b[1;33m(\u001b[0m\u001b[0mkey\u001b[0m\u001b[1;33m,\u001b[0m \u001b[0mDataFrame\u001b[0m\u001b[1;33m)\u001b[0m\u001b[1;33m:\u001b[0m\u001b[1;33m\u001b[0m\u001b[0m\n\u001b[0;32m   1988\u001b[0m             \u001b[1;32mreturn\u001b[0m \u001b[0mself\u001b[0m\u001b[1;33m.\u001b[0m\u001b[0m_getitem_frame\u001b[0m\u001b[1;33m(\u001b[0m\u001b[0mkey\u001b[0m\u001b[1;33m)\u001b[0m\u001b[1;33m\u001b[0m\u001b[0m\n",
      "\u001b[1;32m/home/ubuntu/anaconda2/lib/python2.7/site-packages/pandas/core/frame.pyc\u001b[0m in \u001b[0;36m_getitem_array\u001b[1;34m(self, key)\u001b[0m\n\u001b[0;32m   2029\u001b[0m         \u001b[1;32melse\u001b[0m\u001b[1;33m:\u001b[0m\u001b[1;33m\u001b[0m\u001b[0m\n\u001b[0;32m   2030\u001b[0m             \u001b[0mindexer\u001b[0m \u001b[1;33m=\u001b[0m \u001b[0mself\u001b[0m\u001b[1;33m.\u001b[0m\u001b[0mix\u001b[0m\u001b[1;33m.\u001b[0m\u001b[0m_convert_to_indexer\u001b[0m\u001b[1;33m(\u001b[0m\u001b[0mkey\u001b[0m\u001b[1;33m,\u001b[0m \u001b[0maxis\u001b[0m\u001b[1;33m=\u001b[0m\u001b[1;36m1\u001b[0m\u001b[1;33m)\u001b[0m\u001b[1;33m\u001b[0m\u001b[0m\n\u001b[1;32m-> 2031\u001b[1;33m             \u001b[1;32mreturn\u001b[0m \u001b[0mself\u001b[0m\u001b[1;33m.\u001b[0m\u001b[0mtake\u001b[0m\u001b[1;33m(\u001b[0m\u001b[0mindexer\u001b[0m\u001b[1;33m,\u001b[0m \u001b[0maxis\u001b[0m\u001b[1;33m=\u001b[0m\u001b[1;36m1\u001b[0m\u001b[1;33m,\u001b[0m \u001b[0mconvert\u001b[0m\u001b[1;33m=\u001b[0m\u001b[0mTrue\u001b[0m\u001b[1;33m)\u001b[0m\u001b[1;33m\u001b[0m\u001b[0m\n\u001b[0m\u001b[0;32m   2032\u001b[0m \u001b[1;33m\u001b[0m\u001b[0m\n\u001b[0;32m   2033\u001b[0m     \u001b[1;32mdef\u001b[0m \u001b[0m_getitem_multilevel\u001b[0m\u001b[1;33m(\u001b[0m\u001b[0mself\u001b[0m\u001b[1;33m,\u001b[0m \u001b[0mkey\u001b[0m\u001b[1;33m)\u001b[0m\u001b[1;33m:\u001b[0m\u001b[1;33m\u001b[0m\u001b[0m\n",
      "\u001b[1;32m/home/ubuntu/anaconda2/lib/python2.7/site-packages/pandas/core/generic.pyc\u001b[0m in \u001b[0;36mtake\u001b[1;34m(self, indices, axis, convert, is_copy)\u001b[0m\n\u001b[0;32m   1626\u001b[0m         new_data = self._data.take(indices,\n\u001b[0;32m   1627\u001b[0m                                    \u001b[0maxis\u001b[0m\u001b[1;33m=\u001b[0m\u001b[0mself\u001b[0m\u001b[1;33m.\u001b[0m\u001b[0m_get_block_manager_axis\u001b[0m\u001b[1;33m(\u001b[0m\u001b[0maxis\u001b[0m\u001b[1;33m)\u001b[0m\u001b[1;33m,\u001b[0m\u001b[1;33m\u001b[0m\u001b[0m\n\u001b[1;32m-> 1628\u001b[1;33m                                    convert=True, verify=True)\n\u001b[0m\u001b[0;32m   1629\u001b[0m         \u001b[0mresult\u001b[0m \u001b[1;33m=\u001b[0m \u001b[0mself\u001b[0m\u001b[1;33m.\u001b[0m\u001b[0m_constructor\u001b[0m\u001b[1;33m(\u001b[0m\u001b[0mnew_data\u001b[0m\u001b[1;33m)\u001b[0m\u001b[1;33m.\u001b[0m\u001b[0m__finalize__\u001b[0m\u001b[1;33m(\u001b[0m\u001b[0mself\u001b[0m\u001b[1;33m)\u001b[0m\u001b[1;33m\u001b[0m\u001b[0m\n\u001b[0;32m   1630\u001b[0m \u001b[1;33m\u001b[0m\u001b[0m\n",
      "\u001b[1;32m/home/ubuntu/anaconda2/lib/python2.7/site-packages/pandas/core/internals.pyc\u001b[0m in \u001b[0;36mtake\u001b[1;34m(self, indexer, axis, verify, convert)\u001b[0m\n\u001b[0;32m   3635\u001b[0m         \u001b[0mn\u001b[0m \u001b[1;33m=\u001b[0m \u001b[0mself\u001b[0m\u001b[1;33m.\u001b[0m\u001b[0mshape\u001b[0m\u001b[1;33m[\u001b[0m\u001b[0maxis\u001b[0m\u001b[1;33m]\u001b[0m\u001b[1;33m\u001b[0m\u001b[0m\n\u001b[0;32m   3636\u001b[0m         \u001b[1;32mif\u001b[0m \u001b[0mconvert\u001b[0m\u001b[1;33m:\u001b[0m\u001b[1;33m\u001b[0m\u001b[0m\n\u001b[1;32m-> 3637\u001b[1;33m             \u001b[0mindexer\u001b[0m \u001b[1;33m=\u001b[0m \u001b[0mmaybe_convert_indices\u001b[0m\u001b[1;33m(\u001b[0m\u001b[0mindexer\u001b[0m\u001b[1;33m,\u001b[0m \u001b[0mn\u001b[0m\u001b[1;33m)\u001b[0m\u001b[1;33m\u001b[0m\u001b[0m\n\u001b[0m\u001b[0;32m   3638\u001b[0m \u001b[1;33m\u001b[0m\u001b[0m\n\u001b[0;32m   3639\u001b[0m         \u001b[1;32mif\u001b[0m \u001b[0mverify\u001b[0m\u001b[1;33m:\u001b[0m\u001b[1;33m\u001b[0m\u001b[0m\n",
      "\u001b[1;32m/home/ubuntu/anaconda2/lib/python2.7/site-packages/pandas/core/indexing.pyc\u001b[0m in \u001b[0;36mmaybe_convert_indices\u001b[1;34m(indices, n)\u001b[0m\n\u001b[0;32m   1808\u001b[0m     \u001b[0mmask\u001b[0m \u001b[1;33m=\u001b[0m \u001b[1;33m(\u001b[0m\u001b[0mindices\u001b[0m \u001b[1;33m>=\u001b[0m \u001b[0mn\u001b[0m\u001b[1;33m)\u001b[0m \u001b[1;33m|\u001b[0m \u001b[1;33m(\u001b[0m\u001b[0mindices\u001b[0m \u001b[1;33m<\u001b[0m \u001b[1;36m0\u001b[0m\u001b[1;33m)\u001b[0m\u001b[1;33m\u001b[0m\u001b[0m\n\u001b[0;32m   1809\u001b[0m     \u001b[1;32mif\u001b[0m \u001b[0mmask\u001b[0m\u001b[1;33m.\u001b[0m\u001b[0many\u001b[0m\u001b[1;33m(\u001b[0m\u001b[1;33m)\u001b[0m\u001b[1;33m:\u001b[0m\u001b[1;33m\u001b[0m\u001b[0m\n\u001b[1;32m-> 1810\u001b[1;33m         \u001b[1;32mraise\u001b[0m \u001b[0mIndexError\u001b[0m\u001b[1;33m(\u001b[0m\u001b[1;34m\"indices are out-of-bounds\"\u001b[0m\u001b[1;33m)\u001b[0m\u001b[1;33m\u001b[0m\u001b[0m\n\u001b[0m\u001b[0;32m   1811\u001b[0m     \u001b[1;32mreturn\u001b[0m \u001b[0mindices\u001b[0m\u001b[1;33m\u001b[0m\u001b[0m\n\u001b[0;32m   1812\u001b[0m \u001b[1;33m\u001b[0m\u001b[0m\n",
      "\u001b[1;31mIndexError\u001b[0m: indices are out-of-bounds"
     ]
    }
   ],
   "source": [
    "import autosklearn.classification\n",
    "automl = autosklearn.classification.AutoSklearnClassifier(\n",
    "        tmp_folder='/tmp/autoslearn_example_tmp3',\n",
    "        output_folder='/tmp/autosklearn_example_out3',\n",
    "        delete_tmp_folder_after_terminate=False,\n",
    "        resampling_strategy='cv', resampling_strategy_arguments={'folds': 5})\n",
    "\n",
    "\n",
    "automl.fit(X,Y,dataset_name = 'IsAlert3',metric = \"auc_metric\")\n",
    "#automl.refit(X,Y)\n",
    "\n",
    "print(automl.show_models())\n",
    "\n",
    "#predictions = automl.predict(X_test)\n",
    "#print(\"Accuracy score\", sklearn.metrics.accuracy_score(y_test, predictions))"
   ]
  },
  {
   "cell_type": "markdown",
   "metadata": {},
   "source": [
    "## TPOT"
   ]
  },
  {
   "cell_type": "code",
   "execution_count": null,
   "metadata": {
    "collapsed": true
   },
   "outputs": [],
   "source": [
    "from tpot import TPOT\n",
    "\n",
    "tpot = TPOT(generations=5, verbosity=2)\n",
    "tpot.fit(X_train, y_train)\n",
    "print(tpot.score(X_test, y_test))\n",
    "tpot.export('tpot_mnist_pipeline.py')"
   ]
  },
  {
   "cell_type": "code",
   "execution_count": null,
   "metadata": {
    "collapsed": true
   },
   "outputs": [],
   "source": []
  },
  {
   "cell_type": "markdown",
   "metadata": {},
   "source": [
    "## Xgboost"
   ]
  },
  {
   "cell_type": "code",
   "execution_count": 47,
   "metadata": {
    "collapsed": false
   },
   "outputs": [],
   "source": [
    "def modelfit(alg,x,y,useTrainCV=True,cv_folds=5,early_stopping_rounds=50):\n",
    "    \n",
    "    if useTrainCV:\n",
    "        xgb_param = alg.get_xgb_params()\n",
    "        xgtrain = xgb.DMatrix(x, label=y) # add y.values\n",
    "        cvresult = xgb.cv(xgb_param, xgtrain, num_boost_round=alg.get_params()['n_estimators'], nfold=cv_folds,\n",
    "            metrics=['auc'],early_stopping_rounds=early_stopping_rounds, show_progress=False)\n",
    "        #print cvresults.shape[0]\n",
    "        alg.set_params(n_estimators=cvresult.shape[0])\n",
    "    \n",
    "    #Fit the algorithm on the data\n",
    "    alg.fit(x, y,eval_metric='auc')\n",
    "        \n",
    "    #Predict training set:\n",
    "    dtrain_predictions = alg.predict(x)\n",
    "    dtrain_predprob = alg.predict_proba(x)[:,1]\n",
    "        \n",
    "    #Print model report:\n",
    "    print (\"\\nModel Report\")\n",
    "    print (\"Accuracy : %.4g\" % metrics.accuracy_score(y, dtrain_predictions)) # add y.values\n",
    "    print (\"AUC Score (Train): %f\" % metrics.roc_auc_score(y, dtrain_predprob))\n",
    "                    \n",
    "                    \n",
    "    feat_imp = pd.Series(alg.booster().get_fscore()).order(ascending=False)\n",
    "    feat_imp.plot(kind='bar', title='Feature Importances')\n",
    "    plt.ylabel('Feature Importance Score')\n"
   ]
  },
  {
   "cell_type": "code",
   "execution_count": 48,
   "metadata": {
    "collapsed": false
   },
   "outputs": [
    {
     "name": "stderr",
     "output_type": "stream",
     "text": [
      "Will train until cv error hasn't decreased in 50 rounds.\n"
     ]
    },
    {
     "name": "stdout",
     "output_type": "stream",
     "text": [
      "\n",
      "Model Report\n",
      "Accuracy : 0.8147\n",
      "AUC Score (Train): 0.883946\n"
     ]
    },
    {
     "name": "stderr",
     "output_type": "stream",
     "text": [
      "C:\\Users\\Jared Chung\\Anaconda2\\lib\\site-packages\\ipykernel\\__main__.py:24: FutureWarning: order is deprecated, use sort_values(...)\n"
     ]
    },
    {
     "data": {
      "image/png": "[encoded data removed]",
      "text/plain": [
       "<matplotlib.figure.Figure at 0x44789470>"
      ]
     },
     "metadata": {},
     "output_type": "display_data"
    }
   ],
   "source": [
    "#Initiate model with \n",
    "import xgboost as xgb\n",
    "xgb1 = xgb.XGBClassifier(\n",
    " learning_rate =0.1,\n",
    " n_estimators=200,\n",
    " max_depth=1,\n",
    " min_child_weight=1,\n",
    " reg_alpha = 1,\n",
    " gamma=0,\n",
    " subsample=0.6,\n",
    " colsample_bytree=0.6,\n",
    " objective= 'binary:logistic',\n",
    " nthread=-1,\n",
    " scale_pos_weight=1,\n",
    " seed=27)\n",
    "\n",
    "modelfit(alg=xgb1, x=X,y=Y)"
   ]
  },
  {
   "cell_type": "code",
   "execution_count": 38,
   "metadata": {
    "collapsed": false
   },
   "outputs": [
    {
     "name": "stdout",
     "output_type": "stream",
     "text": [
      "Score 0.7052 =/- 0.0517\n"
     ]
    }
   ],
   "source": [
    "import xgboost as xgb\n",
    "\n",
    "clf = xgb.XGBClassifier(\n",
    " learning_rate =0.1,\n",
    " n_estimators=200,\n",
    " max_depth=5,\n",
    " min_child_weight=1,\n",
    " gamma=0,\n",
    " subsample=0.8,\n",
    " colsample_bytree=0.8,\n",
    " objective= 'binary:logistic',\n",
    " nthread=-1,\n",
    " scale_pos_weight=1,\n",
    " seed=27)\n",
    "\n",
    "scores = cross_val_score(clf,X,Y, cv=5,scoring='roc_auc',n_jobs=-1)\n",
    "print (\"Score %0.4f =/- %0.4f\") % (scores.mean(),scores.std())"
   ]
  },
  {
   "cell_type": "code",
   "execution_count": 40,
   "metadata": {
    "collapsed": false
   },
   "outputs": [
    {
     "data": {
      "text/plain": [
       "([mean: 0.72360, std: 0.04592, params: {'max_depth': 4},\n",
       "  mean: 0.70518, std: 0.05174, params: {'max_depth': 5},\n",
       "  mean: 0.68582, std: 0.05566, params: {'max_depth': 6}],\n",
       " {'max_depth': 4},\n",
       " 0.72360291177221547)"
      ]
     },
     "execution_count": 40,
     "metadata": {},
     "output_type": "execute_result"
    }
   ],
   "source": [
    "param_test1 = {\n",
    " 'max_depth':[4,5,6],\n",
    " #'min_child_weight':range(1,6,2)\n",
    "}\n",
    "gsearch1 = GridSearchCV(estimator = xgb.XGBClassifier( learning_rate =0.1, n_estimators=200, max_depth=5,\n",
    " min_child_weight=1, gamma=0, subsample=0.8, colsample_bytree=0.8,\n",
    " objective= 'binary:logistic', nthread=-1, scale_pos_weight=1, seed=27), \n",
    " param_grid = param_test1, scoring='roc_auc',n_jobs=-1,iid=False, cv=5)\n",
    "\n",
    "gsearch1.fit(X,Y)\n",
    "\n",
    "gsearch1.grid_scores_, gsearch1.best_params_, gsearch1.best_score_"
   ]
  },
  {
   "cell_type": "code",
   "execution_count": 42,
   "metadata": {
    "collapsed": false
   },
   "outputs": [
    {
     "data": {
      "text/plain": [
       "([mean: 0.73786, std: 0.04902, params: {'max_depth': 3},\n",
       "  mean: 0.71637, std: 0.04450, params: {'max_depth': 4},\n",
       "  mean: 0.69656, std: 0.05118, params: {'max_depth': 5}],\n",
       " {'max_depth': 3},\n",
       " 0.73785829776639777)"
      ]
     },
     "execution_count": 42,
     "metadata": {},
     "output_type": "execute_result"
    }
   ],
   "source": [
    "param_test1 = {\n",
    " 'max_depth':[2,3,4],\n",
    " #'min_child_weight':range(1,6,2)\n",
    "}\n",
    "gsearch1 = GridSearchCV(estimator = xgb.XGBClassifier( learning_rate =0.1, n_estimators=200, max_depth=5,\n",
    " min_child_weight=1, gamma=0, subsample=0.8, colsample_bytree=0.8,\n",
    " objective= 'binary:logistic', nthread=-1, scale_pos_weight=1, seed=27), \n",
    " param_grid = param_test1, scoring='roc_auc',n_jobs=-1,iid=False, cv=5)\n",
    "\n",
    "gsearch1.fit(X,Y)\n",
    "\n",
    "gsearch1.grid_scores_, gsearch1.best_params_, gsearch1.best_score_"
   ]
  },
  {
   "cell_type": "code",
   "execution_count": 43,
   "metadata": {
    "collapsed": false
   },
   "outputs": [
    {
     "data": {
      "text/plain": [
       "([mean: 0.75519, std: 0.05015, params: {'max_depth': 2},\n",
       "  mean: 0.73786, std: 0.04902, params: {'max_depth': 3},\n",
       "  mean: 0.71637, std: 0.04450, params: {'max_depth': 4}],\n",
       " {'max_depth': 2},\n",
       " 0.75519473816452565)"
      ]
     },
     "execution_count": 43,
     "metadata": {},
     "output_type": "execute_result"
    }
   ],
   "source": [
    "param_test1 = {\n",
    " 'max_depth':[2,3,4],\n",
    " #'min_child_weight':range(1,6,2)\n",
    "}\n",
    "gsearch1 = GridSearchCV(estimator = xgb.XGBClassifier( learning_rate =0.1, n_estimators=200, max_depth=3,\n",
    " min_child_weight=1, gamma=0, subsample=0.8, colsample_bytree=0.8,\n",
    " objective= 'binary:logistic', nthread=-1, scale_pos_weight=1, seed=27), \n",
    " param_grid = param_test1, scoring='roc_auc',n_jobs=-1,iid=False, cv=5)\n",
    "\n",
    "gsearch1.fit(X,Y)\n",
    "\n",
    "gsearch1.grid_scores_, gsearch1.best_params_, gsearch1.best_score_"
   ]
  },
  {
   "cell_type": "code",
   "execution_count": 44,
   "metadata": {
    "collapsed": false
   },
   "outputs": [
    {
     "data": {
      "text/plain": [
       "([mean: 0.77508, std: 0.04615, params: {'max_depth': 1},\n",
       "  mean: 0.75519, std: 0.05015, params: {'max_depth': 2},\n",
       "  mean: 0.73786, std: 0.04902, params: {'max_depth': 3}],\n",
       " {'max_depth': 1},\n",
       " 0.77507535365848135)"
      ]
     },
     "execution_count": 44,
     "metadata": {},
     "output_type": "execute_result"
    }
   ],
   "source": [
    "param_test1 = {\n",
    " 'max_depth':[1,2,3],\n",
    " #'min_child_weight':range(1,6,2)\n",
    "}\n",
    "gsearch1 = GridSearchCV(estimator = xgb.XGBClassifier( learning_rate =0.1, n_estimators=200, max_depth=2,\n",
    " min_child_weight=1, gamma=0, subsample=0.8, colsample_bytree=0.8,\n",
    " objective= 'binary:logistic', nthread=-1, scale_pos_weight=1, seed=27), \n",
    " param_grid = param_test1, scoring='roc_auc',n_jobs=-1,iid=False, cv=5)\n",
    "\n",
    "gsearch1.fit(X,Y)\n",
    "\n",
    "gsearch1.grid_scores_, gsearch1.best_params_, gsearch1.best_score_"
   ]
  },
  {
   "cell_type": "code",
   "execution_count": 46,
   "metadata": {
    "collapsed": false
   },
   "outputs": [
    {
     "data": {
      "text/plain": [
       "([mean: 0.77508, std: 0.04615, params: {'min_child_weight': 1, 'gamma': 0.0},\n",
       "  mean: 0.77508, std: 0.04615, params: {'min_child_weight': 3, 'gamma': 0.0},\n",
       "  mean: 0.77508, std: 0.04615, params: {'min_child_weight': 5, 'gamma': 0.0},\n",
       "  mean: 0.77508, std: 0.04615, params: {'min_child_weight': 1, 'gamma': 0.1},\n",
       "  mean: 0.77508, std: 0.04615, params: {'min_child_weight': 3, 'gamma': 0.1},\n",
       "  mean: 0.77508, std: 0.04615, params: {'min_child_weight': 5, 'gamma': 0.1},\n",
       "  mean: 0.77508, std: 0.04615, params: {'min_child_weight': 1, 'gamma': 0.2},\n",
       "  mean: 0.77508, std: 0.04615, params: {'min_child_weight': 3, 'gamma': 0.2},\n",
       "  mean: 0.77508, std: 0.04615, params: {'min_child_weight': 5, 'gamma': 0.2},\n",
       "  mean: 0.77508, std: 0.04615, params: {'min_child_weight': 1, 'gamma': 0.3},\n",
       "  mean: 0.77508, std: 0.04615, params: {'min_child_weight': 3, 'gamma': 0.3},\n",
       "  mean: 0.77508, std: 0.04615, params: {'min_child_weight': 5, 'gamma': 0.3},\n",
       "  mean: 0.77508, std: 0.04615, params: {'min_child_weight': 1, 'gamma': 0.4},\n",
       "  mean: 0.77508, std: 0.04615, params: {'min_child_weight': 3, 'gamma': 0.4},\n",
       "  mean: 0.77508, std: 0.04615, params: {'min_child_weight': 5, 'gamma': 0.4}],\n",
       " {'gamma': 0.0, 'min_child_weight': 1},\n",
       " 0.77507535365848135)"
      ]
     },
     "execution_count": 46,
     "metadata": {},
     "output_type": "execute_result"
    }
   ],
   "source": [
    "param_test1 = {\n",
    " #'max_depth':[1,2,3],\n",
    " 'min_child_weight':range(1,6,2),\n",
    "  'gamma':[i/10.0 for i in range(0,5)],\n",
    " #'subsample':[i/10.0 for i in range(6,10)],\n",
    " #'colsample_bytree':[i/10.0 for i in range(6,10)]\n",
    "}\n",
    "gsearch1 = GridSearchCV(estimator = xgb.XGBClassifier(learning_rate =0.1, n_estimators=200, max_depth=1,\n",
    " min_child_weight=1, gamma=0, subsample=0.8, colsample_bytree=0.8,\n",
    " objective= 'binary:logistic', nthread=-1, scale_pos_weight=1, seed=27), \n",
    " param_grid = param_test1, scoring='roc_auc',n_jobs=-1,iid=False, cv=5)\n",
    "\n",
    "gsearch1.fit(X,Y)\n",
    "\n",
    "gsearch1.grid_scores_, gsearch1.best_params_, gsearch1.best_score_"
   ]
  },
  {
   "cell_type": "code",
   "execution_count": 47,
   "metadata": {
    "collapsed": false
   },
   "outputs": [
    {
     "data": {
      "text/plain": [
       "([mean: 0.77549, std: 0.04734, params: {'subsample': 0.6, 'colsample_bytree': 0.6},\n",
       "  mean: 0.77472, std: 0.04607, params: {'subsample': 0.7, 'colsample_bytree': 0.6},\n",
       "  mean: 0.77495, std: 0.04604, params: {'subsample': 0.8, 'colsample_bytree': 0.6},\n",
       "  mean: 0.77536, std: 0.04566, params: {'subsample': 0.9, 'colsample_bytree': 0.6},\n",
       "  mean: 0.77403, std: 0.04634, params: {'subsample': 0.6, 'colsample_bytree': 0.7},\n",
       "  mean: 0.77524, std: 0.04570, params: {'subsample': 0.7, 'colsample_bytree': 0.7},\n",
       "  mean: 0.77388, std: 0.04573, params: {'subsample': 0.8, 'colsample_bytree': 0.7},\n",
       "  mean: 0.77512, std: 0.04578, params: {'subsample': 0.9, 'colsample_bytree': 0.7},\n",
       "  mean: 0.77409, std: 0.04571, params: {'subsample': 0.6, 'colsample_bytree': 0.8},\n",
       "  mean: 0.77466, std: 0.04595, params: {'subsample': 0.7, 'colsample_bytree': 0.8},\n",
       "  mean: 0.77508, std: 0.04615, params: {'subsample': 0.8, 'colsample_bytree': 0.8},\n",
       "  mean: 0.77544, std: 0.04573, params: {'subsample': 0.9, 'colsample_bytree': 0.8},\n",
       "  mean: 0.77447, std: 0.04588, params: {'subsample': 0.6, 'colsample_bytree': 0.9},\n",
       "  mean: 0.77477, std: 0.04589, params: {'subsample': 0.7, 'colsample_bytree': 0.9},\n",
       "  mean: 0.77441, std: 0.04601, params: {'subsample': 0.8, 'colsample_bytree': 0.9},\n",
       "  mean: 0.77410, std: 0.04529, params: {'subsample': 0.9, 'colsample_bytree': 0.9}],\n",
       " {'colsample_bytree': 0.6, 'subsample': 0.6},\n",
       " 0.77549432948252939)"
      ]
     },
     "execution_count": 47,
     "metadata": {},
     "output_type": "execute_result"
    }
   ],
   "source": [
    "param_test1 = {\n",
    " #'max_depth':[1,2,3],\n",
    " #'min_child_weight':range(1,6,2),\n",
    "  #'gamma':[i/10.0 for i in range(0,5)],\n",
    " 'subsample':[i/10.0 for i in range(6,10)],\n",
    " 'colsample_bytree':[i/10.0 for i in range(6,10)]\n",
    "}\n",
    "gsearch1 = GridSearchCV(estimator = xgb.XGBClassifier(learning_rate =0.1, n_estimators=200, max_depth=1,\n",
    " min_child_weight=1, gamma=0, subsample=0.8, colsample_bytree=0.8,\n",
    " objective= 'binary:logistic', nthread=-1, scale_pos_weight=1, seed=27), \n",
    " param_grid = param_test1, scoring='roc_auc',n_jobs=-1,iid=False, cv=5)\n",
    "\n",
    "gsearch1.fit(X,Y)\n",
    "\n",
    "gsearch1.grid_scores_, gsearch1.best_params_, gsearch1.best_score_"
   ]
  },
  {
   "cell_type": "code",
   "execution_count": 48,
   "metadata": {
    "collapsed": false
   },
   "outputs": [
    {
     "data": {
      "text/plain": [
       "([mean: 0.77498, std: 0.04643, params: {'subsample': 0.5, 'colsample_bytree': 0.5},\n",
       "  mean: 0.77483, std: 0.04592, params: {'subsample': 0.6, 'colsample_bytree': 0.5},\n",
       "  mean: 0.77521, std: 0.04601, params: {'subsample': 0.5, 'colsample_bytree': 0.6},\n",
       "  mean: 0.77549, std: 0.04734, params: {'subsample': 0.6, 'colsample_bytree': 0.6}],\n",
       " {'colsample_bytree': 0.6, 'subsample': 0.6},\n",
       " 0.77549432948252939)"
      ]
     },
     "execution_count": 48,
     "metadata": {},
     "output_type": "execute_result"
    }
   ],
   "source": [
    "param_test1 = {\n",
    " #'max_depth':[1,2,3],\n",
    " #'min_child_weight':range(1,6,2),\n",
    "  #'gamma':[i/10.0 for i in range(0,5)],\n",
    " 'subsample':[i/10.0 for i in range(5,7)],\n",
    " 'colsample_bytree':[i/10.0 for i in range(5,7)]\n",
    "}\n",
    "gsearch1 = GridSearchCV(estimator = xgb.XGBClassifier(learning_rate =0.1, n_estimators=200, max_depth=1,\n",
    " min_child_weight=1, gamma=0, subsample=0.8, colsample_bytree=0.8,\n",
    " objective= 'binary:logistic', nthread=-1, scale_pos_weight=1, seed=27), \n",
    " param_grid = param_test1, scoring='roc_auc',n_jobs=-1,iid=False, cv=5)\n",
    "\n",
    "gsearch1.fit(X,Y)\n",
    "\n",
    "gsearch1.grid_scores_, gsearch1.best_params_, gsearch1.best_score_"
   ]
  },
  {
   "cell_type": "code",
   "execution_count": 50,
   "metadata": {
    "collapsed": false
   },
   "outputs": [
    {
     "data": {
      "text/plain": [
       "([mean: 0.77549, std: 0.04734, params: {'reg_alpha': 0},\n",
       "  mean: 0.77539, std: 0.04731, params: {'reg_alpha': 0.5},\n",
       "  mean: 0.77569, std: 0.04682, params: {'reg_alpha': 1},\n",
       "  mean: 0.77452, std: 0.04608, params: {'reg_alpha': 2}],\n",
       " {'reg_alpha': 1},\n",
       " 0.77568812595246561)"
      ]
     },
     "execution_count": 50,
     "metadata": {},
     "output_type": "execute_result"
    }
   ],
   "source": [
    "param_test1 = {\n",
    " 'reg_alpha':[0, 0.5, 1,2]\n",
    "}\n",
    "gsearch1 = GridSearchCV(estimator = xgb.XGBClassifier(learning_rate =0.1, n_estimators=200, max_depth=1,\n",
    " min_child_weight=1, gamma=0, subsample=0.6, colsample_bytree=0.6,reg_alpha = 1,\n",
    " objective= 'binary:logistic', nthread=-1, scale_pos_weight=1, seed=27), \n",
    " param_grid = param_test1, scoring='roc_auc',n_jobs=-1,iid=False, cv=5)\n",
    "\n",
    "gsearch1.fit(X,Y)\n",
    "\n",
    "gsearch1.grid_scores_, gsearch1.best_params_, gsearch1.best_score_"
   ]
  },
  {
   "cell_type": "code",
   "execution_count": 15,
   "metadata": {
    "collapsed": false
   },
   "outputs": [
    {
     "name": "stdout",
     "output_type": "stream",
     "text": [
      "Score 0.7752 =/- 0.0457\n"
     ]
    }
   ],
   "source": [
    "import xgboost as xgb\n",
    "\n",
    "clf = xgb.XGBClassifier(\n",
    " learning_rate =0.1,\n",
    " n_estimators=200,\n",
    " max_depth=1,\n",
    " min_child_weight=1,\n",
    " gamma=0,\n",
    " reg_alpha = 1,\n",
    " subsample=0.8,\n",
    " colsample_bytree=0.8,\n",
    " objective= 'binary:logistic',\n",
    " nthread=-1,\n",
    " scale_pos_weight=1,\n",
    " seed=27)\n",
    "\n",
    "scores = cross_val_score(clf,X,Y, cv=5,scoring='roc_auc',n_jobs=-1)\n",
    "print (\"Score %0.4f =/- %0.4f\") % (scores.mean(),scores.std())"
   ]
  },
  {
   "cell_type": "markdown",
   "metadata": {},
   "source": [
    "## Test with dummy variables "
   ]
  },
  {
   "cell_type": "code",
   "execution_count": 71,
   "metadata": {
    "collapsed": false
   },
   "outputs": [
    {
     "name": "stdout",
     "output_type": "stream",
     "text": [
      "Score %0.4f =/- %0.4f\n"
     ]
    },
    {
     "ename": "TypeError",
     "evalue": "unsupported operand type(s) for %: 'NoneType' and 'tuple'",
     "output_type": "error",
     "traceback": [
      "\u001b[1;31m---------------------------------------------------------------------------\u001b[0m",
      "\u001b[1;31mTypeError\u001b[0m                                 Traceback (most recent call last)",
      "\u001b[1;32m<ipython-input-71-2a3ba95a47b3>\u001b[0m in \u001b[0;36m<module>\u001b[1;34m()\u001b[0m\n\u001b[0;32m     16\u001b[0m \u001b[1;33m\u001b[0m\u001b[0m\n\u001b[0;32m     17\u001b[0m \u001b[0mscores\u001b[0m \u001b[1;33m=\u001b[0m \u001b[0mcross_val_score\u001b[0m\u001b[1;33m(\u001b[0m\u001b[0mclf\u001b[0m\u001b[1;33m,\u001b[0m\u001b[0ma\u001b[0m\u001b[1;33m,\u001b[0m\u001b[0mb\u001b[0m\u001b[1;33m,\u001b[0m \u001b[0mcv\u001b[0m\u001b[1;33m=\u001b[0m\u001b[1;36m5\u001b[0m\u001b[1;33m,\u001b[0m\u001b[0mscoring\u001b[0m\u001b[1;33m=\u001b[0m\u001b[1;34m'roc_auc'\u001b[0m\u001b[1;33m,\u001b[0m\u001b[0mn_jobs\u001b[0m\u001b[1;33m=\u001b[0m\u001b[1;33m-\u001b[0m\u001b[1;36m1\u001b[0m\u001b[1;33m)\u001b[0m\u001b[1;33m\u001b[0m\u001b[0m\n\u001b[1;32m---> 18\u001b[1;33m \u001b[1;32mprint\u001b[0m \u001b[1;33m(\u001b[0m\u001b[1;34m\"Score %0.4f =/- %0.4f\"\u001b[0m\u001b[1;33m)\u001b[0m \u001b[1;33m%\u001b[0m \u001b[1;33m(\u001b[0m\u001b[0mscores\u001b[0m\u001b[1;33m.\u001b[0m\u001b[0mmean\u001b[0m\u001b[1;33m(\u001b[0m\u001b[1;33m)\u001b[0m\u001b[1;33m,\u001b[0m\u001b[0mscores\u001b[0m\u001b[1;33m.\u001b[0m\u001b[0mstd\u001b[0m\u001b[1;33m(\u001b[0m\u001b[1;33m)\u001b[0m\u001b[1;33m)\u001b[0m\u001b[1;33m\u001b[0m\u001b[0m\n\u001b[0m",
      "\u001b[1;31mTypeError\u001b[0m: unsupported operand type(s) for %: 'NoneType' and 'tuple'"
     ]
    }
   ],
   "source": [
    "import xgboost as xgb\n",
    "\n",
    "clf = xgb.XGBClassifier(\n",
    " learning_rate =0.1,\n",
    " n_estimators=200,\n",
    " max_depth=1,\n",
    " min_child_weight=1,\n",
    " gamma=0,\n",
    " reg_alpha = 1,\n",
    " subsample=0.8,\n",
    " colsample_bytree=0.8,\n",
    " objective= 'binary:logistic',\n",
    " nthread=-1,\n",
    " scale_pos_weight=1,\n",
    " seed=27)\n",
    "\n",
    "scores = cross_val_score(clf,a,b, cv=5,scoring='roc_auc',n_jobs=-1)\n",
    "print (\"Score %0.4f =/- %0.4f\") % (scores.mean(),scores.std())"
   ]
  },
  {
   "cell_type": "code",
   "execution_count": 72,
   "metadata": {
    "collapsed": false
   },
   "outputs": [
    {
     "data": {
      "text/plain": [
       "0.77508523571939969"
      ]
     },
     "execution_count": 72,
     "metadata": {},
     "output_type": "execute_result"
    }
   ],
   "source": [
    "scores.mean()"
   ]
  },
  {
   "cell_type": "code",
   "execution_count": 19,
   "metadata": {
    "collapsed": false
   },
   "outputs": [
    {
     "name": "stdout",
     "output_type": "stream",
     "text": [
      "Score %0.4f =/- %0.4f\n"
     ]
    },
    {
     "ename": "TypeError",
     "evalue": "unsupported operand type(s) for %: 'NoneType' and 'tuple'",
     "output_type": "error",
     "traceback": [
      "\u001b[1;31m---------------------------------------------------------------------------\u001b[0m",
      "\u001b[1;31mTypeError\u001b[0m                                 Traceback (most recent call last)",
      "\u001b[1;32m<ipython-input-19-9a323ec99bed>\u001b[0m in \u001b[0;36m<module>\u001b[1;34m()\u001b[0m\n\u001b[0;32m     16\u001b[0m \u001b[1;33m\u001b[0m\u001b[0m\n\u001b[0;32m     17\u001b[0m \u001b[0mscores\u001b[0m \u001b[1;33m=\u001b[0m \u001b[0mcross_val_score\u001b[0m\u001b[1;33m(\u001b[0m\u001b[0mclf\u001b[0m\u001b[1;33m,\u001b[0m\u001b[0mX\u001b[0m\u001b[1;33m,\u001b[0m\u001b[0mY\u001b[0m\u001b[1;33m,\u001b[0m \u001b[0mcv\u001b[0m\u001b[1;33m=\u001b[0m\u001b[1;36m5\u001b[0m\u001b[1;33m,\u001b[0m\u001b[0mscoring\u001b[0m\u001b[1;33m=\u001b[0m\u001b[1;34m'roc_auc'\u001b[0m\u001b[1;33m,\u001b[0m\u001b[0mn_jobs\u001b[0m\u001b[1;33m=\u001b[0m\u001b[1;33m-\u001b[0m\u001b[1;36m1\u001b[0m\u001b[1;33m)\u001b[0m\u001b[1;33m\u001b[0m\u001b[0m\n\u001b[1;32m---> 18\u001b[1;33m \u001b[1;32mprint\u001b[0m \u001b[1;33m(\u001b[0m\u001b[1;34m\"Score %0.4f =/- %0.4f\"\u001b[0m\u001b[1;33m)\u001b[0m \u001b[1;33m%\u001b[0m \u001b[1;33m(\u001b[0m\u001b[0mscores\u001b[0m\u001b[1;33m.\u001b[0m\u001b[0mmean\u001b[0m\u001b[1;33m(\u001b[0m\u001b[1;33m)\u001b[0m\u001b[1;33m,\u001b[0m\u001b[0mscores\u001b[0m\u001b[1;33m.\u001b[0m\u001b[0mstd\u001b[0m\u001b[1;33m(\u001b[0m\u001b[1;33m)\u001b[0m\u001b[1;33m)\u001b[0m\u001b[1;33m\u001b[0m\u001b[0m\n\u001b[0m",
      "\u001b[1;31mTypeError\u001b[0m: unsupported operand type(s) for %: 'NoneType' and 'tuple'"
     ]
    }
   ],
   "source": [
    "%\n",
    "import xgboost as xgb\n",
    "\n",
    "clf = xgb.XGBClassifier(\n",
    " learning_rate =0.1,\n",
    " n_estimators=1000,\n",
    " max_depth=1,\n",
    " min_child_weight=1,\n",
    " gamma=0,\n",
    " reg_alpha = 1,\n",
    " subsample=0.8,\n",
    " colsample_bytree=0.8,\n",
    " objective= 'binary:logistic',\n",
    " nthread=-1,\n",
    " scale_pos_weight=1,\n",
    " seed=27)\n",
    "\n",
    "scores = cross_val_score(clf,X,Y, cv=5,scoring='roc_auc',n_jobs=-1)\n",
    "print (\"Score %0.4f =/- %0.4f\") % (scores.mean(),scores.std())"
   ]
  },
  {
   "cell_type": "code",
   "execution_count": null,
   "metadata": {
    "collapsed": true
   },
   "outputs": [],
   "source": []
  },
  {
   "cell_type": "code",
   "execution_count": 21,
   "metadata": {
    "collapsed": false
   },
   "outputs": [
    {
     "data": {
      "text/plain": [
       "0.77688395462835014"
      ]
     },
     "execution_count": 21,
     "metadata": {},
     "output_type": "execute_result"
    }
   ],
   "source": [
    "scores.mean()"
   ]
  },
  {
   "cell_type": "code",
   "execution_count": null,
   "metadata": {
    "collapsed": true
   },
   "outputs": [],
   "source": []
  },
  {
   "cell_type": "markdown",
   "metadata": {
    "collapsed": true
   },
   "source": [
    "## Neural Network"
   ]
  },
  {
   "cell_type": "code",
   "execution_count": 54,
   "metadata": {
    "collapsed": false
   },
   "outputs": [
    {
     "name": "stdout",
     "output_type": "stream",
     "text": [
      "Training model...\n",
      "Train on 444182 samples, validate on 148061 samples\n",
      "Epoch 1/5\n",
      "132s - loss: 0.3538 - acc: 0.8486 - val_loss: 0.7009 - val_acc: 0.7159\n",
      "Epoch 2/5\n",
      "130s - loss: 0.2847 - acc: 0.8830 - val_loss: 0.7573 - val_acc: 0.6869\n",
      "Epoch 3/5\n",
      "130s - loss: 0.2667 - acc: 0.8927 - val_loss: 0.8036 - val_acc: 0.6706\n",
      "Epoch 4/5\n",
      "131s - loss: 0.2568 - acc: 0.8985 - val_loss: 0.7321 - val_acc: 0.6721\n",
      "Epoch 5/5\n",
      "129s - loss: 0.2497 - acc: 0.9025 - val_loss: 0.7611 - val_acc: 0.6846\n"
     ]
    },
    {
     "data": {
      "text/plain": [
       "<keras.callbacks.History at 0x4a6c34a8>"
      ]
     },
     "execution_count": 54,
     "metadata": {},
     "output_type": "execute_result"
    }
   ],
   "source": [
    "from keras.models import Sequential\n",
    "from keras.layers.core import Dense, Dropout, Activation\n",
    "from keras.layers.normalization import BatchNormalization\n",
    "from keras.layers.advanced_activations import PReLU\n",
    "from keras.utils import np_utils, generic_utils\n",
    "from keras.optimizers import SGD, RMSprop\n",
    "import pandas as pd\n",
    "import numpy as np\n",
    "from sklearn.cross_validation import train_test_split\n",
    "import theano\n",
    "from keras import backend as K\n",
    "np.random.seed(1)\n",
    "\n",
    "\n",
    "def center_normalize(x):\n",
    "\n",
    "    x -= np.mean(x, axis = 0)\n",
    "    x /= np.std(x, axis = 0)\n",
    "    return x\n",
    "\n",
    "\n",
    "\"\"\"train_X = train_X.values.astype(theano.config.floatX)\n",
    "test_X = test_X.values.astype(theano.config.floatX)\n",
    "train_X = center_normalize(train_X)\n",
    "test_X = center_normalize(test_X)\n",
    "\n",
    "y_train_ohe = np_utils.to_categorical(train_Y.values) \"\"\"\n",
    "\n",
    "X = X.values.astype(theano.config.floatX)\n",
    "X = center_normalize(X)\n",
    "\n",
    "y_train_ohe = np_utils.to_categorical(Y.values) \n",
    "\n",
    "\n",
    "model = Sequential()\n",
    "model.add(Dense(500,input_shape=(train_X.shape[1],)))\n",
    "model.add(Activation('relu'))\n",
    "model.add(BatchNormalization())\n",
    "model.add(Dropout(0.5))\n",
    "\n",
    "model.add(Dense(1024))\n",
    "model.add(Activation('relu'))\n",
    "model.add(BatchNormalization())\n",
    "model.add(Dropout(0.5))\n",
    "\n",
    "model.add(Dense(1024))\n",
    "model.add(Activation('relu'))\n",
    "model.add(BatchNormalization())\n",
    "model.add(Dropout(0.5))\n",
    "\n",
    "model.add(Dense(500))\n",
    "model.add(Activation('relu'))\n",
    "model.add(BatchNormalization())\n",
    "model.add(Dropout(0.5))\n",
    "\n",
    "model.add(Dense(y_train_ohe.shape[1]))\n",
    "model.add(Activation('softmax'))\n",
    "\n",
    "\n",
    "#sgd = SGD(lr=0.001, decay=1e-7, momentum=.9)\n",
    "\n",
    "#'adam'\n",
    "\n",
    "model.compile(loss='binary_crossentropy', optimizer='rmsprop', metrics=[\"accuracy\"])\n",
    "\n",
    "print('Training model...')\n",
    "\n",
    "model.fit(X, y_train_ohe, \n",
    "          nb_epoch=5, \n",
    "          batch_size=250, \n",
    "          verbose=2, \n",
    "          validation_split=0.25)#,metrics=[\"accuracy\"])\n",
    "          "
   ]
  },
  {
   "cell_type": "code",
   "execution_count": 64,
   "metadata": {
    "collapsed": false
   },
   "outputs": [
    {
     "data": {
      "text/plain": [
       "[{'class_name': 'Dense',\n",
       "  'config': {'W_constraint': None,\n",
       "   'W_regularizer': None,\n",
       "   'activation': 'linear',\n",
       "   'activity_regularizer': None,\n",
       "   'b_constraint': None,\n",
       "   'b_regularizer': None,\n",
       "   'batch_input_shape': (None, 25),\n",
       "   'bias': True,\n",
       "   'init': 'glorot_uniform',\n",
       "   'input_dim': None,\n",
       "   'input_dtype': 'float32',\n",
       "   'name': 'dense_17',\n",
       "   'output_dim': 500,\n",
       "   'trainable': True}},\n",
       " {'class_name': 'Activation',\n",
       "  'config': {'activation': 'relu',\n",
       "   'name': 'activation_17',\n",
       "   'trainable': True}},\n",
       " {'class_name': 'BatchNormalization',\n",
       "  'config': {'axis': -1,\n",
       "   'epsilon': 1e-06,\n",
       "   'mode': 0,\n",
       "   'momentum': 0.9,\n",
       "   'name': 'batchnormalization_14',\n",
       "   'trainable': True}},\n",
       " {'class_name': 'Dropout',\n",
       "  'config': {'name': 'dropout_14', 'p': 0.5, 'trainable': True}},\n",
       " {'class_name': 'Dense',\n",
       "  'config': {'W_constraint': None,\n",
       "   'W_regularizer': None,\n",
       "   'activation': 'linear',\n",
       "   'activity_regularizer': None,\n",
       "   'b_constraint': None,\n",
       "   'b_regularizer': None,\n",
       "   'bias': True,\n",
       "   'init': 'glorot_uniform',\n",
       "   'input_dim': None,\n",
       "   'name': 'dense_18',\n",
       "   'output_dim': 1024,\n",
       "   'trainable': True}},\n",
       " {'class_name': 'Activation',\n",
       "  'config': {'activation': 'relu',\n",
       "   'name': 'activation_18',\n",
       "   'trainable': True}},\n",
       " {'class_name': 'BatchNormalization',\n",
       "  'config': {'axis': -1,\n",
       "   'epsilon': 1e-06,\n",
       "   'mode': 0,\n",
       "   'momentum': 0.9,\n",
       "   'name': 'batchnormalization_15',\n",
       "   'trainable': True}},\n",
       " {'class_name': 'Dropout',\n",
       "  'config': {'name': 'dropout_15', 'p': 0.5, 'trainable': True}},\n",
       " {'class_name': 'Dense',\n",
       "  'config': {'W_constraint': None,\n",
       "   'W_regularizer': None,\n",
       "   'activation': 'linear',\n",
       "   'activity_regularizer': None,\n",
       "   'b_constraint': None,\n",
       "   'b_regularizer': None,\n",
       "   'bias': True,\n",
       "   'init': 'glorot_uniform',\n",
       "   'input_dim': None,\n",
       "   'name': 'dense_19',\n",
       "   'output_dim': 1024,\n",
       "   'trainable': True}},\n",
       " {'class_name': 'Activation',\n",
       "  'config': {'activation': 'relu',\n",
       "   'name': 'activation_19',\n",
       "   'trainable': True}},\n",
       " {'class_name': 'BatchNormalization',\n",
       "  'config': {'axis': -1,\n",
       "   'epsilon': 1e-06,\n",
       "   'mode': 0,\n",
       "   'momentum': 0.9,\n",
       "   'name': 'batchnormalization_16',\n",
       "   'trainable': True}},\n",
       " {'class_name': 'Dropout',\n",
       "  'config': {'name': 'dropout_16', 'p': 0.5, 'trainable': True}},\n",
       " {'class_name': 'Dense',\n",
       "  'config': {'W_constraint': None,\n",
       "   'W_regularizer': None,\n",
       "   'activation': 'linear',\n",
       "   'activity_regularizer': None,\n",
       "   'b_constraint': None,\n",
       "   'b_regularizer': None,\n",
       "   'bias': True,\n",
       "   'init': 'glorot_uniform',\n",
       "   'input_dim': None,\n",
       "   'name': 'dense_20',\n",
       "   'output_dim': 500,\n",
       "   'trainable': True}},\n",
       " {'class_name': 'Activation',\n",
       "  'config': {'activation': 'relu',\n",
       "   'name': 'activation_20',\n",
       "   'trainable': True}},\n",
       " {'class_name': 'BatchNormalization',\n",
       "  'config': {'axis': -1,\n",
       "   'epsilon': 1e-06,\n",
       "   'mode': 0,\n",
       "   'momentum': 0.9,\n",
       "   'name': 'batchnormalization_17',\n",
       "   'trainable': True}},\n",
       " {'class_name': 'Dropout',\n",
       "  'config': {'name': 'dropout_17', 'p': 0.5, 'trainable': True}},\n",
       " {'class_name': 'Dense',\n",
       "  'config': {'W_constraint': None,\n",
       "   'W_regularizer': None,\n",
       "   'activation': 'linear',\n",
       "   'activity_regularizer': None,\n",
       "   'b_constraint': None,\n",
       "   'b_regularizer': None,\n",
       "   'bias': True,\n",
       "   'init': 'glorot_uniform',\n",
       "   'input_dim': None,\n",
       "   'name': 'dense_21',\n",
       "   'output_dim': 2L,\n",
       "   'trainable': True}},\n",
       " {'class_name': 'Activation',\n",
       "  'config': {'activation': 'softmax',\n",
       "   'name': 'activation_21',\n",
       "   'trainable': True}}]"
      ]
     },
     "execution_count": 64,
     "metadata": {},
     "output_type": "execute_result"
    }
   ],
   "source": [
    "model.get_config()"
   ]
  },
  {
   "cell_type": "code",
   "execution_count": 15,
   "metadata": {
    "collapsed": false
   },
   "outputs": [
    {
     "name": "stdout",
     "output_type": "stream",
     "text": [
      "177673/177673 [==============================] - 20s    \n"
     ]
    },
    {
     "data": {
      "text/plain": [
       "0.90630297997309861"
      ]
     },
     "execution_count": 15,
     "metadata": {},
     "output_type": "execute_result"
    }
   ],
   "source": [
    "metrics.roc_auc_score(model.predict_classes(test_X),test_Y)"
   ]
  },
  {
   "cell_type": "code",
   "execution_count": 25,
   "metadata": {
    "collapsed": false
   },
   "outputs": [
    {
     "name": "stdout",
     "output_type": "stream",
     "text": [
      "592243/592243 [==============================] - 85s    \n"
     ]
    },
    {
     "data": {
      "text/plain": [
       "[0.36283698005262061, 0.8550915755863725]"
      ]
     },
     "execution_count": 25,
     "metadata": {},
     "output_type": "execute_result"
    }
   ],
   "source": [
    "model.evaluate(X,Y)"
   ]
  },
  {
   "cell_type": "code",
   "execution_count": null,
   "metadata": {
    "collapsed": true
   },
   "outputs": [],
   "source": []
  }
 ],
 "metadata": {
  "kernelspec": {
   "display_name": "Python 2",
   "language": "python",
   "name": "python2"
  },
  "language_info": {
   "codemirror_mode": {
    "name": "ipython",
    "version": 2
   },
   "file_extension": ".py",
   "mimetype": "text/x-python",
   "name": "python",
   "nbconvert_exporter": "python",
   "pygments_lexer": "ipython2",
   "version": "2.7.11"
  }
 },
 "nbformat": 4,
 "nbformat_minor": 0
}
