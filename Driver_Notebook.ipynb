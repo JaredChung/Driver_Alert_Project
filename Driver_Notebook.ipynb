{
 "cells": [
  {
   "cell_type": "markdown",
   "metadata": {},
   "source": [
    "# Cubism - Driver Alert Classifier"
   ]
  },
  {
   "cell_type": "code",
   "execution_count": 4,
   "metadata": {
    "collapsed": false
   },
   "outputs": [],
   "source": [
    "import numpy as np\n",
    "import pandas as pd\n",
    "import matplotlib.pyplot as plt\n",
    "import seaborn as sns\n",
    "from sklearn import metrics\n",
    "from sklearn.cross_validation import cross_val_score\n",
    "from sklearn.grid_search import GridSearchCV\n",
    "from time import time\n",
    "\n",
    "%matplotlib inline"
   ]
  },
  {
   "cell_type": "code",
   "execution_count": 2,
   "metadata": {
    "collapsed": false
   },
   "outputs": [],
   "source": [
    "data = pd.read_csv(\"IsAlert-Train.csv\")"
   ]
  },
  {
   "cell_type": "code",
   "execution_count": 20,
   "metadata": {
    "collapsed": true
   },
   "outputs": [],
   "source": [
    "test = pd.read_csv(\"IsAlert_Test1.csv\")"
   ]
  },
  {
   "cell_type": "code",
   "execution_count": 3,
   "metadata": {
    "collapsed": false,
    "scrolled": true
   },
   "outputs": [
    {
     "data": {
      "text/html": [
       "<div>\n",
       "<table border=\"1\" class=\"dataframe\">\n",
       "  <thead>\n",
       "    <tr style=\"text-align: right;\">\n",
       "      <th></th>\n",
       "      <th>TrialID</th>\n",
       "      <th>ObsNum</th>\n",
       "      <th>physiologicl_att1</th>\n",
       "      <th>physiological_att2</th>\n",
       "      <th>physiologicl_att13</th>\n",
       "      <th>physiologicl_att14</th>\n",
       "      <th>physiologicl_att15</th>\n",
       "      <th>physiologicl_att16</th>\n",
       "      <th>physiologicl_att17</th>\n",
       "      <th>environmental_att1</th>\n",
       "      <th>...</th>\n",
       "      <th>environmental_att10</th>\n",
       "      <th>vehicular_att1</th>\n",
       "      <th>vehicular_att2</th>\n",
       "      <th>vehicular_att3</th>\n",
       "      <th>vehicular_att4</th>\n",
       "      <th>vehicular_att5</th>\n",
       "      <th>vehicular_att6</th>\n",
       "      <th>vehicular_att7</th>\n",
       "      <th>vehicular_att8</th>\n",
       "      <th>IsAlert</th>\n",
       "    </tr>\n",
       "  </thead>\n",
       "  <tbody>\n",
       "    <tr>\n",
       "      <th>0</th>\n",
       "      <td>0</td>\n",
       "      <td>16</td>\n",
       "      <td>37.0386</td>\n",
       "      <td>14.7910</td>\n",
       "      <td>900</td>\n",
       "      <td>66.6667</td>\n",
       "      <td>0.252978</td>\n",
       "      <td>600</td>\n",
       "      <td>100.0</td>\n",
       "      <td>0.0</td>\n",
       "      <td>...</td>\n",
       "      <td>0.0</td>\n",
       "      <td>101.56</td>\n",
       "      <td>0.665</td>\n",
       "      <td>752</td>\n",
       "      <td>7.48125</td>\n",
       "      <td>1981</td>\n",
       "      <td>6.0</td>\n",
       "      <td>4</td>\n",
       "      <td>14.9408</td>\n",
       "      <td>1</td>\n",
       "    </tr>\n",
       "    <tr>\n",
       "      <th>1</th>\n",
       "      <td>0</td>\n",
       "      <td>17</td>\n",
       "      <td>37.3313</td>\n",
       "      <td>12.9457</td>\n",
       "      <td>900</td>\n",
       "      <td>66.6667</td>\n",
       "      <td>0.252978</td>\n",
       "      <td>600</td>\n",
       "      <td>100.0</td>\n",
       "      <td>0.0</td>\n",
       "      <td>...</td>\n",
       "      <td>0.0</td>\n",
       "      <td>101.56</td>\n",
       "      <td>0.665</td>\n",
       "      <td>752</td>\n",
       "      <td>7.48125</td>\n",
       "      <td>1981</td>\n",
       "      <td>6.0</td>\n",
       "      <td>4</td>\n",
       "      <td>14.9693</td>\n",
       "      <td>1</td>\n",
       "    </tr>\n",
       "    <tr>\n",
       "      <th>2</th>\n",
       "      <td>0</td>\n",
       "      <td>18</td>\n",
       "      <td>37.5480</td>\n",
       "      <td>9.8063</td>\n",
       "      <td>900</td>\n",
       "      <td>66.6667</td>\n",
       "      <td>0.252978</td>\n",
       "      <td>600</td>\n",
       "      <td>100.0</td>\n",
       "      <td>0.0</td>\n",
       "      <td>...</td>\n",
       "      <td>0.0</td>\n",
       "      <td>101.61</td>\n",
       "      <td>0.560</td>\n",
       "      <td>1008</td>\n",
       "      <td>7.48125</td>\n",
       "      <td>1981</td>\n",
       "      <td>5.6</td>\n",
       "      <td>4</td>\n",
       "      <td>14.9926</td>\n",
       "      <td>1</td>\n",
       "    </tr>\n",
       "    <tr>\n",
       "      <th>3</th>\n",
       "      <td>0</td>\n",
       "      <td>19</td>\n",
       "      <td>37.6629</td>\n",
       "      <td>12.6057</td>\n",
       "      <td>900</td>\n",
       "      <td>66.6667</td>\n",
       "      <td>0.252978</td>\n",
       "      <td>600</td>\n",
       "      <td>100.0</td>\n",
       "      <td>0.0</td>\n",
       "      <td>...</td>\n",
       "      <td>0.0</td>\n",
       "      <td>101.55</td>\n",
       "      <td>0.665</td>\n",
       "      <td>1008</td>\n",
       "      <td>7.48125</td>\n",
       "      <td>1994</td>\n",
       "      <td>5.6</td>\n",
       "      <td>4</td>\n",
       "      <td>15.0043</td>\n",
       "      <td>1</td>\n",
       "    </tr>\n",
       "    <tr>\n",
       "      <th>4</th>\n",
       "      <td>0</td>\n",
       "      <td>20</td>\n",
       "      <td>37.7078</td>\n",
       "      <td>16.2024</td>\n",
       "      <td>900</td>\n",
       "      <td>66.6667</td>\n",
       "      <td>0.252978</td>\n",
       "      <td>600</td>\n",
       "      <td>100.0</td>\n",
       "      <td>0.0</td>\n",
       "      <td>...</td>\n",
       "      <td>0.0</td>\n",
       "      <td>101.43</td>\n",
       "      <td>0.455</td>\n",
       "      <td>1008</td>\n",
       "      <td>7.48125</td>\n",
       "      <td>2011</td>\n",
       "      <td>5.6</td>\n",
       "      <td>4</td>\n",
       "      <td>15.0168</td>\n",
       "      <td>1</td>\n",
       "    </tr>\n",
       "  </tbody>\n",
       "</table>\n",
       "<p>5 rows × 28 columns</p>\n",
       "</div>"
      ],
      "text/plain": [
       "   TrialID  ObsNum  physiologicl_att1  physiological_att2  physiologicl_att13  \\\n",
       "0        0      16            37.0386             14.7910                 900   \n",
       "1        0      17            37.3313             12.9457                 900   \n",
       "2        0      18            37.5480              9.8063                 900   \n",
       "3        0      19            37.6629             12.6057                 900   \n",
       "4        0      20            37.7078             16.2024                 900   \n",
       "\n",
       "   physiologicl_att14  physiologicl_att15  physiologicl_att16  \\\n",
       "0             66.6667            0.252978                 600   \n",
       "1             66.6667            0.252978                 600   \n",
       "2             66.6667            0.252978                 600   \n",
       "3             66.6667            0.252978                 600   \n",
       "4             66.6667            0.252978                 600   \n",
       "\n",
       "   physiologicl_att17  environmental_att1   ...     environmental_att10  \\\n",
       "0               100.0                 0.0   ...                     0.0   \n",
       "1               100.0                 0.0   ...                     0.0   \n",
       "2               100.0                 0.0   ...                     0.0   \n",
       "3               100.0                 0.0   ...                     0.0   \n",
       "4               100.0                 0.0   ...                     0.0   \n",
       "\n",
       "   vehicular_att1  vehicular_att2  vehicular_att3  vehicular_att4  \\\n",
       "0          101.56           0.665             752         7.48125   \n",
       "1          101.56           0.665             752         7.48125   \n",
       "2          101.61           0.560            1008         7.48125   \n",
       "3          101.55           0.665            1008         7.48125   \n",
       "4          101.43           0.455            1008         7.48125   \n",
       "\n",
       "   vehicular_att5  vehicular_att6  vehicular_att7  vehicular_att8  IsAlert  \n",
       "0            1981             6.0               4         14.9408        1  \n",
       "1            1981             6.0               4         14.9693        1  \n",
       "2            1981             5.6               4         14.9926        1  \n",
       "3            1994             5.6               4         15.0043        1  \n",
       "4            2011             5.6               4         15.0168        1  \n",
       "\n",
       "[5 rows x 28 columns]"
      ]
     },
     "execution_count": 3,
     "metadata": {},
     "output_type": "execute_result"
    }
   ],
   "source": [
    "data.head()"
   ]
  },
  {
   "cell_type": "markdown",
   "metadata": {},
   "source": [
    "# Data Exploration"
   ]
  },
  {
   "cell_type": "code",
   "execution_count": 5,
   "metadata": {
    "collapsed": false
   },
   "outputs": [
    {
     "name": "stdout",
     "output_type": "stream",
     "text": [
      "<class 'pandas.core.frame.DataFrame'>\n",
      "RangeIndex: 216556 entries, 0 to 216555\n",
      "Data columns (total 28 columns):\n",
      "TrialID                216556 non-null int64\n",
      "ObsNum                 216556 non-null int64\n",
      "physiologicl_att1      216556 non-null float64\n",
      "physiological_att2     216556 non-null float64\n",
      "physiologicl_att13     216556 non-null int64\n",
      "physiologicl_att14     216556 non-null float64\n",
      "physiologicl_att15     216556 non-null float64\n",
      "physiologicl_att16     216556 non-null int64\n",
      "physiologicl_att17     216556 non-null float64\n",
      "environmental_att1     216556 non-null float64\n",
      "environmental_att2     216556 non-null float64\n",
      "environmental_att3     216556 non-null int64\n",
      "environmental_att4     216556 non-null float64\n",
      "environmental_att5     216556 non-null int64\n",
      "environmental_att6     216556 non-null int64\n",
      "environmental_att7     216556 non-null int64\n",
      "environmental_att8     216556 non-null int64\n",
      "environmental_att9     216556 non-null int64\n",
      "environmental_att10    216556 non-null float64\n",
      "vehicular_att1         216556 non-null float64\n",
      "vehicular_att2         216556 non-null float64\n",
      "vehicular_att3         216556 non-null int64\n",
      "vehicular_att4         216556 non-null float64\n",
      "vehicular_att5         216556 non-null int64\n",
      "vehicular_att6         216556 non-null float64\n",
      "vehicular_att7         216556 non-null int64\n",
      "vehicular_att8         216556 non-null float64\n",
      "IsAlert                216556 non-null int64\n",
      "dtypes: float64(14), int64(14)\n",
      "memory usage: 46.3 MB\n"
     ]
    }
   ],
   "source": [
    "data.info()"
   ]
  },
  {
   "cell_type": "code",
   "execution_count": 17,
   "metadata": {
    "collapsed": false
   },
   "outputs": [
    {
     "data": {
      "text/plain": [
       "0    4\n",
       "dtype: int64"
      ]
     },
     "execution_count": 17,
     "metadata": {},
     "output_type": "execute_result"
    }
   ],
   "source": [
    "data.vehicular_att7.mode()"
   ]
  },
  {
   "cell_type": "code",
   "execution_count": 7,
   "metadata": {
    "collapsed": false,
    "scrolled": true
   },
   "outputs": [
    {
     "data": {
      "text/html": [
       "<div>\n",
       "<table border=\"1\" class=\"dataframe\">\n",
       "  <thead>\n",
       "    <tr style=\"text-align: right;\">\n",
       "      <th></th>\n",
       "      <th>TrialID</th>\n",
       "      <th>ObsNum</th>\n",
       "      <th>physiologicl_att1</th>\n",
       "      <th>physiological_att2</th>\n",
       "      <th>physiologicl_att13</th>\n",
       "      <th>physiologicl_att14</th>\n",
       "      <th>physiologicl_att15</th>\n",
       "      <th>physiologicl_att16</th>\n",
       "      <th>physiologicl_att17</th>\n",
       "      <th>environmental_att1</th>\n",
       "      <th>...</th>\n",
       "      <th>environmental_att10</th>\n",
       "      <th>vehicular_att1</th>\n",
       "      <th>vehicular_att2</th>\n",
       "      <th>vehicular_att3</th>\n",
       "      <th>vehicular_att4</th>\n",
       "      <th>vehicular_att5</th>\n",
       "      <th>vehicular_att6</th>\n",
       "      <th>vehicular_att7</th>\n",
       "      <th>vehicular_att8</th>\n",
       "      <th>IsAlert</th>\n",
       "    </tr>\n",
       "  </thead>\n",
       "  <tbody>\n",
       "    <tr>\n",
       "      <th>count</th>\n",
       "      <td>216556.000000</td>\n",
       "      <td>216556.000000</td>\n",
       "      <td>216556.000000</td>\n",
       "      <td>216556.000000</td>\n",
       "      <td>216556.000000</td>\n",
       "      <td>216556.000000</td>\n",
       "      <td>216556.000000</td>\n",
       "      <td>216556.000000</td>\n",
       "      <td>216556.000000</td>\n",
       "      <td>216556.000000</td>\n",
       "      <td>...</td>\n",
       "      <td>216556.000000</td>\n",
       "      <td>216556.000000</td>\n",
       "      <td>216556.000000</td>\n",
       "      <td>216556.000000</td>\n",
       "      <td>216556.000000</td>\n",
       "      <td>216556.000000</td>\n",
       "      <td>216556.000000</td>\n",
       "      <td>216556.000000</td>\n",
       "      <td>216556.000000</td>\n",
       "      <td>216556.000000</td>\n",
       "    </tr>\n",
       "    <tr>\n",
       "      <th>mean</th>\n",
       "      <td>151.952650</td>\n",
       "      <td>605.038904</td>\n",
       "      <td>35.442544</td>\n",
       "      <td>12.018026</td>\n",
       "      <td>1024.607741</td>\n",
       "      <td>63.977760</td>\n",
       "      <td>0.174476</td>\n",
       "      <td>849.278136</td>\n",
       "      <td>73.904791</td>\n",
       "      <td>12.225888</td>\n",
       "      <td>...</td>\n",
       "      <td>0.844812</td>\n",
       "      <td>88.080942</td>\n",
       "      <td>-0.051163</td>\n",
       "      <td>575.014052</td>\n",
       "      <td>11.366705</td>\n",
       "      <td>1863.210851</td>\n",
       "      <td>14.236593</td>\n",
       "      <td>3.527439</td>\n",
       "      <td>12.059365</td>\n",
       "      <td>0.674417</td>\n",
       "    </tr>\n",
       "    <tr>\n",
       "      <th>std</th>\n",
       "      <td>74.373847</td>\n",
       "      <td>348.057737</td>\n",
       "      <td>7.143701</td>\n",
       "      <td>3.845889</td>\n",
       "      <td>303.430221</td>\n",
       "      <td>19.375862</td>\n",
       "      <td>0.095333</td>\n",
       "      <td>177.781803</td>\n",
       "      <td>16.002357</td>\n",
       "      <td>14.854635</td>\n",
       "      <td>...</td>\n",
       "      <td>4.264997</td>\n",
       "      <td>39.872811</td>\n",
       "      <td>0.418729</td>\n",
       "      <td>292.123634</td>\n",
       "      <td>36.989194</td>\n",
       "      <td>567.872244</td>\n",
       "      <td>11.497482</td>\n",
       "      <td>1.082294</td>\n",
       "      <td>3.386516</td>\n",
       "      <td>0.468593</td>\n",
       "    </tr>\n",
       "    <tr>\n",
       "      <th>min</th>\n",
       "      <td>0.000000</td>\n",
       "      <td>0.000000</td>\n",
       "      <td>20.131900</td>\n",
       "      <td>-18.197100</td>\n",
       "      <td>504.000000</td>\n",
       "      <td>27.372300</td>\n",
       "      <td>0.040217</td>\n",
       "      <td>136.000000</td>\n",
       "      <td>38.461500</td>\n",
       "      <td>0.000000</td>\n",
       "      <td>...</td>\n",
       "      <td>0.000000</td>\n",
       "      <td>0.000000</td>\n",
       "      <td>-4.795000</td>\n",
       "      <td>240.000000</td>\n",
       "      <td>0.000000</td>\n",
       "      <td>533.000000</td>\n",
       "      <td>0.000000</td>\n",
       "      <td>1.000000</td>\n",
       "      <td>6.204210</td>\n",
       "      <td>0.000000</td>\n",
       "    </tr>\n",
       "    <tr>\n",
       "      <th>25%</th>\n",
       "      <td>109.000000</td>\n",
       "      <td>304.000000</td>\n",
       "      <td>31.290000</td>\n",
       "      <td>9.735540</td>\n",
       "      <td>800.000000</td>\n",
       "      <td>49.505000</td>\n",
       "      <td>0.093407</td>\n",
       "      <td>688.000000</td>\n",
       "      <td>60.728700</td>\n",
       "      <td>0.000000</td>\n",
       "      <td>...</td>\n",
       "      <td>0.000000</td>\n",
       "      <td>92.360000</td>\n",
       "      <td>-0.175000</td>\n",
       "      <td>255.000000</td>\n",
       "      <td>1.487500</td>\n",
       "      <td>1867.000000</td>\n",
       "      <td>0.000000</td>\n",
       "      <td>4.000000</td>\n",
       "      <td>9.040930</td>\n",
       "      <td>0.000000</td>\n",
       "    </tr>\n",
       "    <tr>\n",
       "      <th>50%</th>\n",
       "      <td>167.000000</td>\n",
       "      <td>606.000000</td>\n",
       "      <td>33.983500</td>\n",
       "      <td>11.306700</td>\n",
       "      <td>1000.000000</td>\n",
       "      <td>60.000000</td>\n",
       "      <td>0.112867</td>\n",
       "      <td>860.000000</td>\n",
       "      <td>69.767400</td>\n",
       "      <td>0.000000</td>\n",
       "      <td>...</td>\n",
       "      <td>0.000000</td>\n",
       "      <td>104.780000</td>\n",
       "      <td>0.000000</td>\n",
       "      <td>511.000000</td>\n",
       "      <td>4.506250</td>\n",
       "      <td>2070.000000</td>\n",
       "      <td>15.200000</td>\n",
       "      <td>4.000000</td>\n",
       "      <td>11.170200</td>\n",
       "      <td>1.000000</td>\n",
       "    </tr>\n",
       "    <tr>\n",
       "      <th>75%</th>\n",
       "      <td>212.000000</td>\n",
       "      <td>906.000000</td>\n",
       "      <td>37.525450</td>\n",
       "      <td>13.802400</td>\n",
       "      <td>1212.000000</td>\n",
       "      <td>75.000000</td>\n",
       "      <td>0.277627</td>\n",
       "      <td>988.000000</td>\n",
       "      <td>87.209300</td>\n",
       "      <td>29.796000</td>\n",
       "      <td>...</td>\n",
       "      <td>0.000000</td>\n",
       "      <td>112.220000</td>\n",
       "      <td>0.070000</td>\n",
       "      <td>767.000000</td>\n",
       "      <td>5.993750</td>\n",
       "      <td>2212.000000</td>\n",
       "      <td>23.200000</td>\n",
       "      <td>4.000000</td>\n",
       "      <td>15.380400</td>\n",
       "      <td>1.000000</td>\n",
       "    </tr>\n",
       "    <tr>\n",
       "      <th>max</th>\n",
       "      <td>257.000000</td>\n",
       "      <td>1210.000000</td>\n",
       "      <td>95.211700</td>\n",
       "      <td>56.395600</td>\n",
       "      <td>2192.000000</td>\n",
       "      <td>119.048000</td>\n",
       "      <td>0.396981</td>\n",
       "      <td>1560.000000</td>\n",
       "      <td>441.176000</td>\n",
       "      <td>243.991000</td>\n",
       "      <td>...</td>\n",
       "      <td>41.600000</td>\n",
       "      <td>127.470000</td>\n",
       "      <td>3.990000</td>\n",
       "      <td>1023.000000</td>\n",
       "      <td>478.494000</td>\n",
       "      <td>3496.000000</td>\n",
       "      <td>64.900000</td>\n",
       "      <td>7.000000</td>\n",
       "      <td>23.469900</td>\n",
       "      <td>1.000000</td>\n",
       "    </tr>\n",
       "  </tbody>\n",
       "</table>\n",
       "<p>8 rows × 28 columns</p>\n",
       "</div>"
      ],
      "text/plain": [
       "             TrialID         ObsNum  physiologicl_att1  physiological_att2  \\\n",
       "count  216556.000000  216556.000000      216556.000000       216556.000000   \n",
       "mean      151.952650     605.038904          35.442544           12.018026   \n",
       "std        74.373847     348.057737           7.143701            3.845889   \n",
       "min         0.000000       0.000000          20.131900          -18.197100   \n",
       "25%       109.000000     304.000000          31.290000            9.735540   \n",
       "50%       167.000000     606.000000          33.983500           11.306700   \n",
       "75%       212.000000     906.000000          37.525450           13.802400   \n",
       "max       257.000000    1210.000000          95.211700           56.395600   \n",
       "\n",
       "       physiologicl_att13  physiologicl_att14  physiologicl_att15  \\\n",
       "count       216556.000000       216556.000000       216556.000000   \n",
       "mean          1024.607741           63.977760            0.174476   \n",
       "std            303.430221           19.375862            0.095333   \n",
       "min            504.000000           27.372300            0.040217   \n",
       "25%            800.000000           49.505000            0.093407   \n",
       "50%           1000.000000           60.000000            0.112867   \n",
       "75%           1212.000000           75.000000            0.277627   \n",
       "max           2192.000000          119.048000            0.396981   \n",
       "\n",
       "       physiologicl_att16  physiologicl_att17  environmental_att1  \\\n",
       "count       216556.000000       216556.000000       216556.000000   \n",
       "mean           849.278136           73.904791           12.225888   \n",
       "std            177.781803           16.002357           14.854635   \n",
       "min            136.000000           38.461500            0.000000   \n",
       "25%            688.000000           60.728700            0.000000   \n",
       "50%            860.000000           69.767400            0.000000   \n",
       "75%            988.000000           87.209300           29.796000   \n",
       "max           1560.000000          441.176000          243.991000   \n",
       "\n",
       "           ...        environmental_att10  vehicular_att1  vehicular_att2  \\\n",
       "count      ...              216556.000000   216556.000000   216556.000000   \n",
       "mean       ...                   0.844812       88.080942       -0.051163   \n",
       "std        ...                   4.264997       39.872811        0.418729   \n",
       "min        ...                   0.000000        0.000000       -4.795000   \n",
       "25%        ...                   0.000000       92.360000       -0.175000   \n",
       "50%        ...                   0.000000      104.780000        0.000000   \n",
       "75%        ...                   0.000000      112.220000        0.070000   \n",
       "max        ...                  41.600000      127.470000        3.990000   \n",
       "\n",
       "       vehicular_att3  vehicular_att4  vehicular_att5  vehicular_att6  \\\n",
       "count   216556.000000   216556.000000   216556.000000   216556.000000   \n",
       "mean       575.014052       11.366705     1863.210851       14.236593   \n",
       "std        292.123634       36.989194      567.872244       11.497482   \n",
       "min        240.000000        0.000000      533.000000        0.000000   \n",
       "25%        255.000000        1.487500     1867.000000        0.000000   \n",
       "50%        511.000000        4.506250     2070.000000       15.200000   \n",
       "75%        767.000000        5.993750     2212.000000       23.200000   \n",
       "max       1023.000000      478.494000     3496.000000       64.900000   \n",
       "\n",
       "       vehicular_att7  vehicular_att8        IsAlert  \n",
       "count   216556.000000   216556.000000  216556.000000  \n",
       "mean         3.527439       12.059365       0.674417  \n",
       "std          1.082294        3.386516       0.468593  \n",
       "min          1.000000        6.204210       0.000000  \n",
       "25%          4.000000        9.040930       0.000000  \n",
       "50%          4.000000       11.170200       1.000000  \n",
       "75%          4.000000       15.380400       1.000000  \n",
       "max          7.000000       23.469900       1.000000  \n",
       "\n",
       "[8 rows x 28 columns]"
      ]
     },
     "execution_count": 7,
     "metadata": {},
     "output_type": "execute_result"
    }
   ],
   "source": [
    "data.describe()"
   ]
  },
  {
   "cell_type": "code",
   "execution_count": 11,
   "metadata": {
    "collapsed": false
   },
   "outputs": [
    {
     "data": {
      "text/plain": [
       "1    0.674417\n",
       "0    0.325583\n",
       "Name: IsAlert, dtype: float64"
      ]
     },
     "execution_count": 11,
     "metadata": {},
     "output_type": "execute_result"
    }
   ],
   "source": [
    "data.IsAlert.value_counts() / data.shape[0]"
   ]
  },
  {
   "cell_type": "code",
   "execution_count": 3,
   "metadata": {
    "collapsed": false,
    "scrolled": false
   },
   "outputs": [
    {
     "name": "stderr",
     "output_type": "stream",
     "text": [
      "C:\\Users\\Jared Chung\\Anaconda2\\lib\\site-packages\\matplotlib\\__init__.py:892: UserWarning: axes.color_cycle is deprecated and replaced with axes.prop_cycle; please use the latter.\n",
      "  warnings.warn(self.msg_depr % (key, alt_key))\n"
     ]
    }
   ],
   "source": [
    "sns.pairplot(data.drop('TrialID',axis=1),hue='IsAlert')"
   ]
  },
  {
   "cell_type": "code",
   "execution_count": 8,
   "metadata": {
    "collapsed": false
   },
   "outputs": [
    {
     "data": {
      "text/plain": [
       "<matplotlib.axes._subplots.AxesSubplot at 0xf25b898>"
      ]
     },
     "execution_count": 8,
     "metadata": {},
     "output_type": "execute_result"
    },
    {
     "data": {
      "image/png": "[encoded data removed]",
      "text/plain": [
       "<matplotlib.figure.Figure at 0xe432208>"
      ]
     },
     "metadata": {},
     "output_type": "display_data"
    }
   ],
   "source": [
    "fig, ax = plt.subplots(figsize=(10,10))\n",
    "sns.heatmap(data.corr())"
   ]
  },
  {
   "cell_type": "code",
   "execution_count": null,
   "metadata": {
    "collapsed": true
   },
   "outputs": [],
   "source": []
  },
  {
   "cell_type": "code",
   "execution_count": null,
   "metadata": {
    "collapsed": true
   },
   "outputs": [],
   "source": []
  },
  {
   "cell_type": "markdown",
   "metadata": {},
   "source": [
    "# Data Preparation"
   ]
  },
  {
   "cell_type": "code",
   "execution_count": 29,
   "metadata": {
    "collapsed": false
   },
   "outputs": [],
   "source": [
    "X = data.drop(['TrialID','IsAlert'],axis=1)\n",
    "Y = data.IsAlert"
   ]
  },
  {
   "cell_type": "code",
   "execution_count": 21,
   "metadata": {
    "collapsed": true
   },
   "outputs": [],
   "source": [
    "test_X = test.drop(['TrialID','IsAlert'],axis=1)\n",
    "test_Y = test.IsAlert"
   ]
  },
  {
   "cell_type": "code",
   "execution_count": 15,
   "metadata": {
    "collapsed": false
   },
   "outputs": [],
   "source": [
    "from sklearn.preprocessing import StandardScaler\n",
    "\n",
    "scaler = StandardScaler()\n",
    "\n",
    "scaler.fit(X)\n",
    "\n",
    "X = scaler.transform(X)"
   ]
  },
  {
   "cell_type": "code",
   "execution_count": 22,
   "metadata": {
    "collapsed": true
   },
   "outputs": [],
   "source": [
    "test_X = scaler.transform(test_X)"
   ]
  },
  {
   "cell_type": "code",
   "execution_count": 30,
   "metadata": {
    "collapsed": false
   },
   "outputs": [],
   "source": [
    "from sklearn.cross_validation import train_test_split\n",
    "\n",
    "train_X, test_X, train_Y, test_Y = train_test_split(X,Y,test_size=0.2,random_state=42)"
   ]
  },
  {
   "cell_type": "markdown",
   "metadata": {},
   "source": [
    "# Modelling"
   ]
  },
  {
   "cell_type": "markdown",
   "metadata": {},
   "source": [
    "### TPOT"
   ]
  },
  {
   "cell_type": "code",
   "execution_count": null,
   "metadata": {
    "collapsed": false
   },
   "outputs": [],
   "source": [
    "from tpot import TPOT\n",
    "\n",
    "tpot = TPOT(generations=5, verbosity=2)\n",
    "tpot.fit(train_X,train_Y)\n",
    "\n",
    "print tpot.score(test_X,test_Y)\n",
    "tpot.export('tpot_alert_pipeline.py')"
   ]
  },
  {
   "cell_type": "code",
   "execution_count": null,
   "metadata": {
    "collapsed": true
   },
   "outputs": [],
   "source": []
  },
  {
   "cell_type": "markdown",
   "metadata": {},
   "source": [
    "## Random Forest"
   ]
  },
  {
   "cell_type": "code",
   "execution_count": 10,
   "metadata": {
    "collapsed": false
   },
   "outputs": [
    {
     "name": "stdout",
     "output_type": "stream",
     "text": [
      "accuracy 0.9994 +/- 0.0001\n"
     ]
    }
   ],
   "source": [
    "\n",
    "clf = RandomForestClassifier(n_estimators=400,random_state=42, n_jobs=-1)\n",
    "\n",
    "scores = cross_val_score(clf,train_X,train_Y,cv=5,scoring='roc_auc')\n",
    "\n",
    "print \"accuracy %0.4f +/- %0.4f\" % (scores.mean(),scores.std())"
   ]
  },
  {
   "cell_type": "code",
   "execution_count": 79,
   "metadata": {
    "collapsed": false
   },
   "outputs": [
    {
     "name": "stdout",
     "output_type": "stream",
     "text": [
      "[[13752    16]\n",
      " [  179 29365]]\n"
     ]
    }
   ],
   "source": [
    "print metrics.confusion_matrix(predict_forest, test_Y)"
   ]
  },
  {
   "cell_type": "code",
   "execution_count": 89,
   "metadata": {
    "collapsed": false
   },
   "outputs": [
    {
     "data": {
      "text/plain": [
       "RandomForestClassifier(bootstrap=True, class_weight=None, criterion='gini',\n",
       "            max_depth=None, max_features='auto', max_leaf_nodes=None,\n",
       "            min_samples_leaf=1, min_samples_split=2,\n",
       "            min_weight_fraction_leaf=0.0, n_estimators=400, n_jobs=-1,\n",
       "            oob_score=False, random_state=42, verbose=0, warm_start=False)"
      ]
     },
     "execution_count": 89,
     "metadata": {},
     "output_type": "execute_result"
    }
   ],
   "source": [
    "clf = RandomForestClassifier(n_estimators=400,random_state=42, n_jobs=-1)\n",
    "clf.fit(train_X,train_Y)"
   ]
  },
  {
   "cell_type": "code",
   "execution_count": 105,
   "metadata": {
    "collapsed": false
   },
   "outputs": [
    {
     "name": "stderr",
     "output_type": "stream",
     "text": [
      "C:\\Users\\Jared Chung\\Anaconda2\\lib\\site-packages\\matplotlib\\axes\\_axes.py:519: UserWarning: No labelled objects found. Use label='...' kwarg on individual plots.\n",
      "  warnings.warn(\"No labelled objects found. \"\n"
     ]
    }
   ],
   "source": [
    "from sklearn import metrics\n",
    "import pandas as pd\n",
    "from ggplot import *\n",
    "\n",
    "preds = clf.predict_proba(test_X)[:,1]\n",
    "fpr, tpr, _ = metrics.roc_curve(test_Y, preds)\n",
    "\n",
    "df = pd.DataFrame(dict(fpr=fpr, tpr=tpr))\n",
    "#ggplot(df, aes(x='fpr', y='tpr')) +\\\n",
    "#    geom_line() +\\\n",
    "#    geom_abline(linetype='dashed')\n",
    "plt.figure()\n",
    "plt.plot(fpr[2], tpr[2])\n",
    "plt.plot([0, 1], [0, 1], 'k--')\n",
    "plt.xlim([0.0, 1.0])\n",
    "plt.ylim([0.0, 1.05])\n",
    "plt.xlabel('False Positive Rate')\n",
    "plt.ylabel('True Positive Rate')\n",
    "plt.title('Receiver operating characteristic example')\n",
    "plt.legend(loc=\"lower right\")\n",
    "plt.show()"
   ]
  },
  {
   "cell_type": "code",
   "execution_count": null,
   "metadata": {
    "collapsed": true
   },
   "outputs": [],
   "source": []
  },
  {
   "cell_type": "code",
   "execution_count": null,
   "metadata": {
    "collapsed": true
   },
   "outputs": [],
   "source": [
    "# 400 trees - 5 fold - score = 0.7961 +/- 0.1129"
   ]
  },
  {
   "cell_type": "code",
   "execution_count": 70,
   "metadata": {
    "collapsed": false
   },
   "outputs": [],
   "source": [
    "fig, ax = plt.subplots(figsize(10,10))\n",
    "feature_importance = clf.feature_importances_\n",
    "# make importances relative to max importance\n",
    "#feature_importance = 100.0 * (feature_importance / feature_importance.max())\n",
    "sorted_idx = np.argsort(feature_importance)\n",
    "pos = np.arange(sorted_idx.shape[0]) + .5\n",
    "\n",
    "ax.barh(pos, feature_importance[sorted_idx], align='center')\n",
    "plt.yticks(pos, X.columns[sorted_idx])\n",
    "plt.xlabel('Relative Importance')\n",
    "plt.title('Variable Importance')\n",
    "plt.show()"
   ]
  },
  {
   "cell_type": "code",
   "execution_count": 15,
   "metadata": {
    "collapsed": false,
    "scrolled": true
   },
   "outputs": [
    {
     "name": "stdout",
     "output_type": "stream",
     "text": [
      "Score 0.83659 +/- 0.08853 \n",
      "-376.226999998\n"
     ]
    }
   ],
   "source": [
    "from sklearn.ensemble import RandomForestClassifier\n",
    "tt = time()\n",
    "clf = RandomForestClassifier(n_estimators=400,random_state=42, n_jobs=-1)\n",
    "\n",
    "scores = cross_val_score(clf,X,Y,cv=10,scoring='roc_auc')\n",
    "\n",
    "t = tt - time()\n",
    "print \"Score %.5f +/- %.5f \" % (logreg.scores_[1].mean(),logreg.scores_[1].std())\n",
    "print t"
   ]
  },
  {
   "cell_type": "code",
   "execution_count": 26,
   "metadata": {
    "collapsed": false,
    "scrolled": true
   },
   "outputs": [
    {
     "name": "stdout",
     "output_type": "stream",
     "text": [
      "56.8980000019\n",
      "58.0299999714\n"
     ]
    },
    {
     "data": {
      "text/plain": [
       "'\\nprint metrics.classification_report(predict_forest, test_Y)\\nprint \"-------------------\"\\nprint \"AUC score %0.4f\" % (metrics.roc_auc_score(predict_forest, test_Y))\\nprint metrics.confusion_matrix(predict_forest, test_Y)\\nprint \"-------------------\"\\n'"
      ]
     },
     "execution_count": 26,
     "metadata": {},
     "output_type": "execute_result"
    }
   ],
   "source": [
    "tt = time()\n",
    "from sklearn.ensemble import RandomForestClassifier\n",
    "clf = RandomForestClassifier(n_estimators=400,random_state=42, n_jobs=-1)\n",
    "clf.fit(train_X,train_Y)\n",
    "print time() - tt\n",
    "predict_forest = clf.predict(test_X)\n",
    "print time() - tt\n",
    "\"\"\"\n",
    "print metrics.classification_report(predict_forest, test_Y)\n",
    "print \"-------------------\"\n",
    "print \"AUC score %0.4f\" % (metrics.roc_auc_score(predict_forest, test_Y))\n",
    "print metrics.confusion_matrix(predict_forest, test_Y)\n",
    "print \"-------------------\"\n",
    "\"\"\"\n",
    "#print time() - tt"
   ]
  },
  {
   "cell_type": "code",
   "execution_count": 27,
   "metadata": {
    "collapsed": false
   },
   "outputs": [
    {
     "data": {
      "text/plain": [
       "1.1319999695000007"
      ]
     },
     "execution_count": 27,
     "metadata": {},
     "output_type": "execute_result"
    }
   ],
   "source": [
    "58.0299999714 - 56.8980000019"
   ]
  },
  {
   "cell_type": "markdown",
   "metadata": {},
   "source": [
    "### K Nearest Neighbour"
   ]
  },
  {
   "cell_type": "code",
   "execution_count": 33,
   "metadata": {
    "collapsed": false
   },
   "outputs": [
    {
     "name": "stdout",
     "output_type": "stream",
     "text": [
      "Score 0.83612 +/- 0.12302 \n",
      "-33.6640000343\n"
     ]
    }
   ],
   "source": [
    "from sklearn.neighbors import KNeighborsClassifier\n",
    "tt = time()\n",
    "clf = KNeighborsClassifier()\n",
    "\n",
    "scores = cross_val_score(clf,X,Y,cv=10,scoring='roc_auc')\n",
    "\n",
    "t = tt - time()\n",
    "print \"Score %.5f +/- %.5f \" % (logreg.scores_[1].mean(),logreg.scores_[1].std())\n",
    "print t"
   ]
  },
  {
   "cell_type": "code",
   "execution_count": 36,
   "metadata": {
    "collapsed": false
   },
   "outputs": [
    {
     "name": "stdout",
     "output_type": "stream",
     "text": [
      "0.790999889374\n",
      "6.19899988174\n"
     ]
    }
   ],
   "source": [
    "tt = time()\n",
    "clf.fit(train_X,train_Y)\n",
    "print time() - tt\n",
    "clf.predict(test_X)\n",
    "print  time() - tt"
   ]
  },
  {
   "cell_type": "code",
   "execution_count": 37,
   "metadata": {
    "collapsed": false
   },
   "outputs": [
    {
     "data": {
      "text/plain": [
       "5.407999992365999"
      ]
     },
     "execution_count": 37,
     "metadata": {},
     "output_type": "execute_result"
    }
   ],
   "source": [
    "6.19899988174 - 0.790999889374"
   ]
  },
  {
   "cell_type": "markdown",
   "metadata": {},
   "source": [
    "## Logistic Regression "
   ]
  },
  {
   "cell_type": "code",
   "execution_count": 18,
   "metadata": {
    "collapsed": false
   },
   "outputs": [
    {
     "name": "stdout",
     "output_type": "stream",
     "text": [
      "Score 0.87691 +/- 0.08523 \n",
      "20.0669999123\n"
     ]
    }
   ],
   "source": [
    "tt = time()\n",
    "from sklearn.linear_model import LogisticRegressionCV\n",
    "logreg = LogisticRegressionCV(class_weight = 'balanced',cv = 10,scoring='roc_auc',n_jobs=-1,random_state=42)\n",
    "logreg.fit(X,Y)\n",
    "print \"Score %.5f +/- %.5f \" % (logreg.scores_[1].mean(),logreg.scores_[1].std())\n",
    "\n",
    "print time() - tt"
   ]
  },
  {
   "cell_type": "code",
   "execution_count": 23,
   "metadata": {
    "collapsed": false
   },
   "outputs": [
    {
     "name": "stdout",
     "output_type": "stream",
     "text": [
      "0.768699719987\n"
     ]
    }
   ],
   "source": [
    "predict = logreg.predict(test_X)\n",
    "\n",
    "print metrics.roc_auc_score(predict,test_Y)"
   ]
  },
  {
   "cell_type": "code",
   "execution_count": 24,
   "metadata": {
    "collapsed": false
   },
   "outputs": [
    {
     "name": "stdout",
     "output_type": "stream",
     "text": [
      "Score 0.83612 +/- 0.12302 \n",
      "-222.612000227\n"
     ]
    }
   ],
   "source": [
    "from sklearn.linear_model import LogisticRegression\n",
    "tt = time()\n",
    "clf = LogisticRegression()\n",
    "\n",
    "scores = cross_val_score(clf,X,Y,cv=10,scoring='roc_auc')\n",
    "\n",
    "t = tt - time()\n",
    "print \"Score %.5f +/- %.5f \" % (logreg.scores_[1].mean(),logreg.scores_[1].std())\n",
    "print t"
   ]
  },
  {
   "cell_type": "code",
   "execution_count": 25,
   "metadata": {
    "collapsed": false
   },
   "outputs": [
    {
     "name": "stdout",
     "output_type": "stream",
     "text": [
      "24.0239999294\n",
      "24.0319998264\n"
     ]
    }
   ],
   "source": [
    "tt = time()\n",
    "clf.fit(train_X,train_Y)\n",
    "print time() - tt\n",
    "clf.predict(test_X)\n",
    "print  time() - tt"
   ]
  },
  {
   "cell_type": "code",
   "execution_count": 30,
   "metadata": {
    "collapsed": false
   },
   "outputs": [
    {
     "data": {
      "text/plain": [
       "array([1, 1, 1, ..., 1, 1, 1], dtype=int64)"
      ]
     },
     "execution_count": 30,
     "metadata": {},
     "output_type": "execute_result"
    }
   ],
   "source": [
    "clf.predict(test_X)"
   ]
  },
  {
   "cell_type": "code",
   "execution_count": 28,
   "metadata": {
    "collapsed": false
   },
   "outputs": [
    {
     "data": {
      "text/plain": [
       "0.007999897000001255"
      ]
     },
     "execution_count": 28,
     "metadata": {},
     "output_type": "execute_result"
    }
   ],
   "source": [
    "24.0319998264 - 24.0239999294"
   ]
  },
  {
   "cell_type": "code",
   "execution_count": null,
   "metadata": {
    "collapsed": true
   },
   "outputs": [],
   "source": [
    "predict_log = logreg.predict(test_X)\n",
    "log_result = metrics.classification_report(predict_log, test_Y)\n",
    "print  metrics.\n",
    "print log_result\n",
    "print \"-------------------\"\n",
    "print \"AUC score %0.4f\" % (metrics.roc_auc_score(predict_log, test_Y))"
   ]
  },
  {
   "cell_type": "markdown",
   "metadata": {},
   "source": [
    "## XGboost"
   ]
  },
  {
   "cell_type": "code",
   "execution_count": 38,
   "metadata": {
    "collapsed": true
   },
   "outputs": [],
   "source": [
    "import xgboost as xgb"
   ]
  },
  {
   "cell_type": "code",
   "execution_count": 39,
   "metadata": {
    "collapsed": false
   },
   "outputs": [
    {
     "name": "stdout",
     "output_type": "stream",
     "text": [
      "accuracy 0.8043 +/- 0.2031\n",
      "1142.65600014\n"
     ]
    }
   ],
   "source": [
    "tt = time() \n",
    "xgb1 = xgb.XGBClassifier(\n",
    " learning_rate =0.1,\n",
    " n_estimators=400,\n",
    " max_depth=5,\n",
    " min_child_weight=1,\n",
    " gamma=0,\n",
    " subsample=0.8,\n",
    " colsample_bytree=0.8,\n",
    " objective= 'binary:logistic',\n",
    " nthread=-1,\n",
    " scale_pos_weight=1,\n",
    " seed=27)\n",
    "\n",
    "scores = cross_val_score(xgb1,X,Y,cv=10,scoring='roc_auc')\n",
    "\n",
    "print \"accuracy %0.4f +/- %0.4f\" % (scores.mean(),scores.std())\n",
    "print time() - tt"
   ]
  },
  {
   "cell_type": "code",
   "execution_count": 40,
   "metadata": {
    "collapsed": false
   },
   "outputs": [
    {
     "data": {
      "text/plain": [
       "array([ 0.9983625 ,  0.99961258,  0.78933377,  0.93287808,  0.72495218,\n",
       "        0.88738956,  0.80805372,  0.70414197,  0.2733421 ,  0.92503266])"
      ]
     },
     "execution_count": 40,
     "metadata": {},
     "output_type": "execute_result"
    }
   ],
   "source": [
    "scores"
   ]
  },
  {
   "cell_type": "code",
   "execution_count": 41,
   "metadata": {
    "collapsed": false
   },
   "outputs": [
    {
     "name": "stdout",
     "output_type": "stream",
     "text": [
      "111.235000134\n",
      "111.434000015\n"
     ]
    }
   ],
   "source": [
    "tt = time()\n",
    "xgb1.fit(train_X,train_Y)\n",
    "print time() - tt\n",
    "xgb1.predict(test_X)\n",
    "print  time() - tt"
   ]
  },
  {
   "cell_type": "code",
   "execution_count": 42,
   "metadata": {
    "collapsed": false,
    "scrolled": true
   },
   "outputs": [
    {
     "data": {
      "text/plain": [
       "0.19899988099999177"
      ]
     },
     "execution_count": 42,
     "metadata": {},
     "output_type": "execute_result"
    }
   ],
   "source": [
    "111.434000015 - 111.235000134"
   ]
  },
  {
   "cell_type": "code",
   "execution_count": 33,
   "metadata": {
    "collapsed": true
   },
   "outputs": [],
   "source": [
    "def modelfit(alg,x,y,useTrainCV=True,cv_folds=5,early_stopping_rounds=50):\n",
    "    \n",
    "    if useTrainCV:\n",
    "        xgb_param = alg.get_xgb_params()\n",
    "        xgtrain = xgb.DMatrix(x, label=y.values)\n",
    "        cvresult = xgb.cv(xgb_param, xgtrain, num_boost_round=alg.get_params()['n_estimators'], nfold=cv_folds,\n",
    "            metrics=['auc'],early_stopping_rounds=early_stopping_rounds, show_progress=False)\n",
    "        print cvresult.shape[0]\n",
    "        alg.set_params(n_estimators=cvresult.shape[0])\n",
    "        \n",
    "    \n",
    "    \n",
    "    #Fit the algorithm on the data\n",
    "    alg.fit(x, y,eval_metric='auc')\n",
    "        \n",
    "    #Predict training set:\n",
    "    dtrain_predictions = alg.predict(x)\n",
    "    dtrain_predprob = alg.predict_proba(x)[:,1]\n",
    "        \n",
    "    #Print model report:\n",
    "    print \"\\nModel Report\"\n",
    "    print \"Accuracy : %.4g\" % metrics.accuracy_score(y.values, dtrain_predictions)\n",
    "    print \"AUC Score (Train): %f\" % metrics.roc_auc_score(y, dtrain_predprob)\n",
    "    \n",
    "\n",
    "    feat_imp = pd.Series(alg.booster().get_fscore()).sort_values(ascending=False)\n",
    "    feat_imp.plot(kind='bar', title='Feature Importances')\n",
    "    plt.ylabel('Feature Importance Score')\n",
    "    #plt.show()"
   ]
  },
  {
   "cell_type": "code",
   "execution_count": 34,
   "metadata": {
    "collapsed": false
   },
   "outputs": [
    {
     "name": "stderr",
     "output_type": "stream",
     "text": [
      "Will train until cv error hasn't decreased in 50 rounds.\n"
     ]
    },
    {
     "name": "stdout",
     "output_type": "stream",
     "text": [
      "\n",
      "Model Report\n",
      "Accuracy : 0.9685\n",
      "AUC Score (Train): 0.993692\n"
     ]
    }
   ],
   "source": [
    "tt = time()\n",
    "#Initiate model with \n",
    "xgb1 = xgb.XGBClassifier(\n",
    " learning_rate =0.1,\n",
    " n_estimators=400,\n",
    " max_depth=5,\n",
    " min_child_weight=1,\n",
    " gamma=0,\n",
    " subsample=0.8,\n",
    " colsample_bytree=0.8,\n",
    " objective= 'binary:logistic',\n",
    " nthread=-1,\n",
    " scale_pos_weight=1,\n",
    " seed=27)\n",
    "\n",
    "modelfit(alg=xgb1, x=X,y=Y)"
   ]
  },
  {
   "cell_type": "code",
   "execution_count": null,
   "metadata": {
    "collapsed": true
   },
   "outputs": [],
   "source": []
  },
  {
   "cell_type": "code",
   "execution_count": null,
   "metadata": {
    "collapsed": true
   },
   "outputs": [],
   "source": []
  },
  {
   "cell_type": "code",
   "execution_count": 38,
   "metadata": {
    "collapsed": false
   },
   "outputs": [],
   "source": []
  },
  {
   "cell_type": "code",
   "execution_count": 111,
   "metadata": {
    "collapsed": false,
    "scrolled": true
   },
   "outputs": [
    {
     "ename": "KeyboardInterrupt",
     "evalue": "",
     "output_type": "error",
     "traceback": [
      "\u001b[1;31m---------------------------------------------------------------------------\u001b[0m",
      "\u001b[1;31mKeyboardInterrupt\u001b[0m                         Traceback (most recent call last)",
      "\u001b[1;32m<ipython-input-111-4d1592f79799>\u001b[0m in \u001b[0;36m<module>\u001b[1;34m()\u001b[0m\n\u001b[0;32m     11\u001b[0m )\n\u001b[0;32m     12\u001b[0m \u001b[1;33m\u001b[0m\u001b[0m\n\u001b[1;32m---> 13\u001b[1;33m \u001b[0mgsearch1\u001b[0m\u001b[1;33m.\u001b[0m\u001b[0mfit\u001b[0m\u001b[1;33m(\u001b[0m\u001b[0mtrain_X\u001b[0m\u001b[1;33m,\u001b[0m\u001b[0mtrain_Y\u001b[0m\u001b[1;33m)\u001b[0m\u001b[1;33m\u001b[0m\u001b[0m\n\u001b[0m\u001b[0;32m     14\u001b[0m \u001b[0mgsearch1\u001b[0m\u001b[1;33m.\u001b[0m\u001b[0mgrid_scores_\u001b[0m\u001b[1;33m,\u001b[0m \u001b[0mgsearch1\u001b[0m\u001b[1;33m.\u001b[0m\u001b[0mbest_params_\u001b[0m\u001b[1;33m,\u001b[0m \u001b[0mgsearch1\u001b[0m\u001b[1;33m.\u001b[0m\u001b[0mbest_score_\u001b[0m\u001b[1;33m\u001b[0m\u001b[0m\n",
      "\u001b[1;32mC:\\Users\\Jared Chung\\Anaconda2\\lib\\site-packages\\sklearn\\grid_search.pyc\u001b[0m in \u001b[0;36mfit\u001b[1;34m(self, X, y)\u001b[0m\n\u001b[0;32m    802\u001b[0m \u001b[1;33m\u001b[0m\u001b[0m\n\u001b[0;32m    803\u001b[0m         \"\"\"\n\u001b[1;32m--> 804\u001b[1;33m         \u001b[1;32mreturn\u001b[0m \u001b[0mself\u001b[0m\u001b[1;33m.\u001b[0m\u001b[0m_fit\u001b[0m\u001b[1;33m(\u001b[0m\u001b[0mX\u001b[0m\u001b[1;33m,\u001b[0m \u001b[0my\u001b[0m\u001b[1;33m,\u001b[0m \u001b[0mParameterGrid\u001b[0m\u001b[1;33m(\u001b[0m\u001b[0mself\u001b[0m\u001b[1;33m.\u001b[0m\u001b[0mparam_grid\u001b[0m\u001b[1;33m)\u001b[0m\u001b[1;33m)\u001b[0m\u001b[1;33m\u001b[0m\u001b[0m\n\u001b[0m\u001b[0;32m    805\u001b[0m \u001b[1;33m\u001b[0m\u001b[0m\n\u001b[0;32m    806\u001b[0m \u001b[1;33m\u001b[0m\u001b[0m\n",
      "\u001b[1;32mC:\\Users\\Jared Chung\\Anaconda2\\lib\\site-packages\\sklearn\\grid_search.pyc\u001b[0m in \u001b[0;36m_fit\u001b[1;34m(self, X, y, parameter_iterable)\u001b[0m\n\u001b[0;32m    551\u001b[0m                                     \u001b[0mself\u001b[0m\u001b[1;33m.\u001b[0m\u001b[0mfit_params\u001b[0m\u001b[1;33m,\u001b[0m \u001b[0mreturn_parameters\u001b[0m\u001b[1;33m=\u001b[0m\u001b[0mTrue\u001b[0m\u001b[1;33m,\u001b[0m\u001b[1;33m\u001b[0m\u001b[0m\n\u001b[0;32m    552\u001b[0m                                     error_score=self.error_score)\n\u001b[1;32m--> 553\u001b[1;33m                 \u001b[1;32mfor\u001b[0m \u001b[0mparameters\u001b[0m \u001b[1;32min\u001b[0m \u001b[0mparameter_iterable\u001b[0m\u001b[1;33m\u001b[0m\u001b[0m\n\u001b[0m\u001b[0;32m    554\u001b[0m                 for train, test in cv)\n\u001b[0;32m    555\u001b[0m \u001b[1;33m\u001b[0m\u001b[0m\n",
      "\u001b[1;32mC:\\Users\\Jared Chung\\Anaconda2\\lib\\site-packages\\sklearn\\externals\\joblib\\parallel.pyc\u001b[0m in \u001b[0;36m__call__\u001b[1;34m(self, iterable)\u001b[0m\n\u001b[0;32m    798\u001b[0m             \u001b[1;31m# was dispatched. In particular this covers the edge\u001b[0m\u001b[1;33m\u001b[0m\u001b[1;33m\u001b[0m\u001b[0m\n\u001b[0;32m    799\u001b[0m             \u001b[1;31m# case of Parallel used with an exhausted iterator.\u001b[0m\u001b[1;33m\u001b[0m\u001b[1;33m\u001b[0m\u001b[0m\n\u001b[1;32m--> 800\u001b[1;33m             \u001b[1;32mwhile\u001b[0m \u001b[0mself\u001b[0m\u001b[1;33m.\u001b[0m\u001b[0mdispatch_one_batch\u001b[0m\u001b[1;33m(\u001b[0m\u001b[0miterator\u001b[0m\u001b[1;33m)\u001b[0m\u001b[1;33m:\u001b[0m\u001b[1;33m\u001b[0m\u001b[0m\n\u001b[0m\u001b[0;32m    801\u001b[0m                 \u001b[0mself\u001b[0m\u001b[1;33m.\u001b[0m\u001b[0m_iterating\u001b[0m \u001b[1;33m=\u001b[0m \u001b[0mTrue\u001b[0m\u001b[1;33m\u001b[0m\u001b[0m\n\u001b[0;32m    802\u001b[0m             \u001b[1;32melse\u001b[0m\u001b[1;33m:\u001b[0m\u001b[1;33m\u001b[0m\u001b[0m\n",
      "\u001b[1;32mC:\\Users\\Jared Chung\\Anaconda2\\lib\\site-packages\\sklearn\\externals\\joblib\\parallel.pyc\u001b[0m in \u001b[0;36mdispatch_one_batch\u001b[1;34m(self, iterator)\u001b[0m\n\u001b[0;32m    656\u001b[0m                 \u001b[1;32mreturn\u001b[0m \u001b[0mFalse\u001b[0m\u001b[1;33m\u001b[0m\u001b[0m\n\u001b[0;32m    657\u001b[0m             \u001b[1;32melse\u001b[0m\u001b[1;33m:\u001b[0m\u001b[1;33m\u001b[0m\u001b[0m\n\u001b[1;32m--> 658\u001b[1;33m                 \u001b[0mself\u001b[0m\u001b[1;33m.\u001b[0m\u001b[0m_dispatch\u001b[0m\u001b[1;33m(\u001b[0m\u001b[0mtasks\u001b[0m\u001b[1;33m)\u001b[0m\u001b[1;33m\u001b[0m\u001b[0m\n\u001b[0m\u001b[0;32m    659\u001b[0m                 \u001b[1;32mreturn\u001b[0m \u001b[0mTrue\u001b[0m\u001b[1;33m\u001b[0m\u001b[0m\n\u001b[0;32m    660\u001b[0m \u001b[1;33m\u001b[0m\u001b[0m\n",
      "\u001b[1;32mC:\\Users\\Jared Chung\\Anaconda2\\lib\\site-packages\\sklearn\\externals\\joblib\\parallel.pyc\u001b[0m in \u001b[0;36m_dispatch\u001b[1;34m(self, batch)\u001b[0m\n\u001b[0;32m    564\u001b[0m \u001b[1;33m\u001b[0m\u001b[0m\n\u001b[0;32m    565\u001b[0m         \u001b[1;32mif\u001b[0m \u001b[0mself\u001b[0m\u001b[1;33m.\u001b[0m\u001b[0m_pool\u001b[0m \u001b[1;32mis\u001b[0m \u001b[0mNone\u001b[0m\u001b[1;33m:\u001b[0m\u001b[1;33m\u001b[0m\u001b[0m\n\u001b[1;32m--> 566\u001b[1;33m             \u001b[0mjob\u001b[0m \u001b[1;33m=\u001b[0m \u001b[0mImmediateComputeBatch\u001b[0m\u001b[1;33m(\u001b[0m\u001b[0mbatch\u001b[0m\u001b[1;33m)\u001b[0m\u001b[1;33m\u001b[0m\u001b[0m\n\u001b[0m\u001b[0;32m    567\u001b[0m             \u001b[0mself\u001b[0m\u001b[1;33m.\u001b[0m\u001b[0m_jobs\u001b[0m\u001b[1;33m.\u001b[0m\u001b[0mappend\u001b[0m\u001b[1;33m(\u001b[0m\u001b[0mjob\u001b[0m\u001b[1;33m)\u001b[0m\u001b[1;33m\u001b[0m\u001b[0m\n\u001b[0;32m    568\u001b[0m             \u001b[0mself\u001b[0m\u001b[1;33m.\u001b[0m\u001b[0mn_dispatched_batches\u001b[0m \u001b[1;33m+=\u001b[0m \u001b[1;36m1\u001b[0m\u001b[1;33m\u001b[0m\u001b[0m\n",
      "\u001b[1;32mC:\\Users\\Jared Chung\\Anaconda2\\lib\\site-packages\\sklearn\\externals\\joblib\\parallel.pyc\u001b[0m in \u001b[0;36m__init__\u001b[1;34m(self, batch)\u001b[0m\n\u001b[0;32m    178\u001b[0m         \u001b[1;31m# Don't delay the application, to avoid keeping the input\u001b[0m\u001b[1;33m\u001b[0m\u001b[1;33m\u001b[0m\u001b[0m\n\u001b[0;32m    179\u001b[0m         \u001b[1;31m# arguments in memory\u001b[0m\u001b[1;33m\u001b[0m\u001b[1;33m\u001b[0m\u001b[0m\n\u001b[1;32m--> 180\u001b[1;33m         \u001b[0mself\u001b[0m\u001b[1;33m.\u001b[0m\u001b[0mresults\u001b[0m \u001b[1;33m=\u001b[0m \u001b[0mbatch\u001b[0m\u001b[1;33m(\u001b[0m\u001b[1;33m)\u001b[0m\u001b[1;33m\u001b[0m\u001b[0m\n\u001b[0m\u001b[0;32m    181\u001b[0m \u001b[1;33m\u001b[0m\u001b[0m\n\u001b[0;32m    182\u001b[0m     \u001b[1;32mdef\u001b[0m \u001b[0mget\u001b[0m\u001b[1;33m(\u001b[0m\u001b[0mself\u001b[0m\u001b[1;33m)\u001b[0m\u001b[1;33m:\u001b[0m\u001b[1;33m\u001b[0m\u001b[0m\n",
      "\u001b[1;32mC:\\Users\\Jared Chung\\Anaconda2\\lib\\site-packages\\sklearn\\externals\\joblib\\parallel.pyc\u001b[0m in \u001b[0;36m__call__\u001b[1;34m(self)\u001b[0m\n\u001b[0;32m     70\u001b[0m \u001b[1;33m\u001b[0m\u001b[0m\n\u001b[0;32m     71\u001b[0m     \u001b[1;32mdef\u001b[0m \u001b[0m__call__\u001b[0m\u001b[1;33m(\u001b[0m\u001b[0mself\u001b[0m\u001b[1;33m)\u001b[0m\u001b[1;33m:\u001b[0m\u001b[1;33m\u001b[0m\u001b[0m\n\u001b[1;32m---> 72\u001b[1;33m         \u001b[1;32mreturn\u001b[0m \u001b[1;33m[\u001b[0m\u001b[0mfunc\u001b[0m\u001b[1;33m(\u001b[0m\u001b[1;33m*\u001b[0m\u001b[0margs\u001b[0m\u001b[1;33m,\u001b[0m \u001b[1;33m**\u001b[0m\u001b[0mkwargs\u001b[0m\u001b[1;33m)\u001b[0m \u001b[1;32mfor\u001b[0m \u001b[0mfunc\u001b[0m\u001b[1;33m,\u001b[0m \u001b[0margs\u001b[0m\u001b[1;33m,\u001b[0m \u001b[0mkwargs\u001b[0m \u001b[1;32min\u001b[0m \u001b[0mself\u001b[0m\u001b[1;33m.\u001b[0m\u001b[0mitems\u001b[0m\u001b[1;33m]\u001b[0m\u001b[1;33m\u001b[0m\u001b[0m\n\u001b[0m\u001b[0;32m     73\u001b[0m \u001b[1;33m\u001b[0m\u001b[0m\n\u001b[0;32m     74\u001b[0m     \u001b[1;32mdef\u001b[0m \u001b[0m__len__\u001b[0m\u001b[1;33m(\u001b[0m\u001b[0mself\u001b[0m\u001b[1;33m)\u001b[0m\u001b[1;33m:\u001b[0m\u001b[1;33m\u001b[0m\u001b[0m\n",
      "\u001b[1;32mC:\\Users\\Jared Chung\\Anaconda2\\lib\\site-packages\\sklearn\\cross_validation.pyc\u001b[0m in \u001b[0;36m_fit_and_score\u001b[1;34m(estimator, X, y, scorer, train, test, verbose, parameters, fit_params, return_train_score, return_parameters, error_score)\u001b[0m\n\u001b[0;32m   1529\u001b[0m             \u001b[0mestimator\u001b[0m\u001b[1;33m.\u001b[0m\u001b[0mfit\u001b[0m\u001b[1;33m(\u001b[0m\u001b[0mX_train\u001b[0m\u001b[1;33m,\u001b[0m \u001b[1;33m**\u001b[0m\u001b[0mfit_params\u001b[0m\u001b[1;33m)\u001b[0m\u001b[1;33m\u001b[0m\u001b[0m\n\u001b[0;32m   1530\u001b[0m         \u001b[1;32melse\u001b[0m\u001b[1;33m:\u001b[0m\u001b[1;33m\u001b[0m\u001b[0m\n\u001b[1;32m-> 1531\u001b[1;33m             \u001b[0mestimator\u001b[0m\u001b[1;33m.\u001b[0m\u001b[0mfit\u001b[0m\u001b[1;33m(\u001b[0m\u001b[0mX_train\u001b[0m\u001b[1;33m,\u001b[0m \u001b[0my_train\u001b[0m\u001b[1;33m,\u001b[0m \u001b[1;33m**\u001b[0m\u001b[0mfit_params\u001b[0m\u001b[1;33m)\u001b[0m\u001b[1;33m\u001b[0m\u001b[0m\n\u001b[0m\u001b[0;32m   1532\u001b[0m \u001b[1;33m\u001b[0m\u001b[0m\n\u001b[0;32m   1533\u001b[0m     \u001b[1;32mexcept\u001b[0m \u001b[0mException\u001b[0m \u001b[1;32mas\u001b[0m \u001b[0me\u001b[0m\u001b[1;33m:\u001b[0m\u001b[1;33m\u001b[0m\u001b[0m\n",
      "\u001b[1;32mC:\\Users\\Jared Chung\\Anaconda2\\lib\\site-packages\\xgboost-0.4-py2.7.egg\\xgboost\\sklearn.pyc\u001b[0m in \u001b[0;36mfit\u001b[1;34m(self, X, y, sample_weight, eval_set, eval_metric, early_stopping_rounds, verbose)\u001b[0m\n\u001b[0;32m    341\u001b[0m                               \u001b[0mearly_stopping_rounds\u001b[0m\u001b[1;33m=\u001b[0m\u001b[0mearly_stopping_rounds\u001b[0m\u001b[1;33m,\u001b[0m\u001b[1;33m\u001b[0m\u001b[0m\n\u001b[0;32m    342\u001b[0m                               \u001b[0mevals_result\u001b[0m\u001b[1;33m=\u001b[0m\u001b[0mevals_result\u001b[0m\u001b[1;33m,\u001b[0m \u001b[0mfeval\u001b[0m\u001b[1;33m=\u001b[0m\u001b[0mfeval\u001b[0m\u001b[1;33m,\u001b[0m\u001b[1;33m\u001b[0m\u001b[0m\n\u001b[1;32m--> 343\u001b[1;33m                               verbose_eval=verbose)\n\u001b[0m\u001b[0;32m    344\u001b[0m \u001b[1;33m\u001b[0m\u001b[0m\n\u001b[0;32m    345\u001b[0m         \u001b[1;32mif\u001b[0m \u001b[0mevals_result\u001b[0m\u001b[1;33m:\u001b[0m\u001b[1;33m\u001b[0m\u001b[0m\n",
      "\u001b[1;32mC:\\Users\\Jared Chung\\Anaconda2\\lib\\site-packages\\xgboost-0.4-py2.7.egg\\xgboost\\training.pyc\u001b[0m in \u001b[0;36mtrain\u001b[1;34m(params, dtrain, num_boost_round, evals, obj, feval, maximize, early_stopping_rounds, evals_result, verbose_eval, learning_rates, xgb_model)\u001b[0m\n\u001b[0;32m    119\u001b[0m     \u001b[1;32mif\u001b[0m \u001b[1;32mnot\u001b[0m \u001b[0mearly_stopping_rounds\u001b[0m\u001b[1;33m:\u001b[0m\u001b[1;33m\u001b[0m\u001b[0m\n\u001b[0;32m    120\u001b[0m         \u001b[1;32mfor\u001b[0m \u001b[0mi\u001b[0m \u001b[1;32min\u001b[0m \u001b[0mrange\u001b[0m\u001b[1;33m(\u001b[0m\u001b[0mnum_boost_round\u001b[0m\u001b[1;33m)\u001b[0m\u001b[1;33m:\u001b[0m\u001b[1;33m\u001b[0m\u001b[0m\n\u001b[1;32m--> 121\u001b[1;33m             \u001b[0mbst\u001b[0m\u001b[1;33m.\u001b[0m\u001b[0mupdate\u001b[0m\u001b[1;33m(\u001b[0m\u001b[0mdtrain\u001b[0m\u001b[1;33m,\u001b[0m \u001b[0mi\u001b[0m\u001b[1;33m,\u001b[0m \u001b[0mobj\u001b[0m\u001b[1;33m)\u001b[0m\u001b[1;33m\u001b[0m\u001b[0m\n\u001b[0m\u001b[0;32m    122\u001b[0m             \u001b[0mnboost\u001b[0m \u001b[1;33m+=\u001b[0m \u001b[1;36m1\u001b[0m\u001b[1;33m\u001b[0m\u001b[0m\n\u001b[0;32m    123\u001b[0m             \u001b[1;32mif\u001b[0m \u001b[0mlen\u001b[0m\u001b[1;33m(\u001b[0m\u001b[0mevals\u001b[0m\u001b[1;33m)\u001b[0m \u001b[1;33m!=\u001b[0m \u001b[1;36m0\u001b[0m\u001b[1;33m:\u001b[0m\u001b[1;33m\u001b[0m\u001b[0m\n",
      "\u001b[1;32mC:\\Users\\Jared Chung\\Anaconda2\\lib\\site-packages\\xgboost-0.4-py2.7.egg\\xgboost\\core.pyc\u001b[0m in \u001b[0;36mupdate\u001b[1;34m(self, dtrain, iteration, fobj)\u001b[0m\n\u001b[0;32m    692\u001b[0m \u001b[1;33m\u001b[0m\u001b[0m\n\u001b[0;32m    693\u001b[0m         \u001b[1;32mif\u001b[0m \u001b[0mfobj\u001b[0m \u001b[1;32mis\u001b[0m \u001b[0mNone\u001b[0m\u001b[1;33m:\u001b[0m\u001b[1;33m\u001b[0m\u001b[0m\n\u001b[1;32m--> 694\u001b[1;33m             \u001b[0m_check_call\u001b[0m\u001b[1;33m(\u001b[0m\u001b[0m_LIB\u001b[0m\u001b[1;33m.\u001b[0m\u001b[0mXGBoosterUpdateOneIter\u001b[0m\u001b[1;33m(\u001b[0m\u001b[0mself\u001b[0m\u001b[1;33m.\u001b[0m\u001b[0mhandle\u001b[0m\u001b[1;33m,\u001b[0m \u001b[0miteration\u001b[0m\u001b[1;33m,\u001b[0m \u001b[0mdtrain\u001b[0m\u001b[1;33m.\u001b[0m\u001b[0mhandle\u001b[0m\u001b[1;33m)\u001b[0m\u001b[1;33m)\u001b[0m\u001b[1;33m\u001b[0m\u001b[0m\n\u001b[0m\u001b[0;32m    695\u001b[0m         \u001b[1;32melse\u001b[0m\u001b[1;33m:\u001b[0m\u001b[1;33m\u001b[0m\u001b[0m\n\u001b[0;32m    696\u001b[0m             \u001b[0mpred\u001b[0m \u001b[1;33m=\u001b[0m \u001b[0mself\u001b[0m\u001b[1;33m.\u001b[0m\u001b[0mpredict\u001b[0m\u001b[1;33m(\u001b[0m\u001b[0mdtrain\u001b[0m\u001b[1;33m)\u001b[0m\u001b[1;33m\u001b[0m\u001b[0m\n",
      "\u001b[1;31mKeyboardInterrupt\u001b[0m: "
     ]
    }
   ],
   "source": [
    "param_test1 = {\n",
    " 'max_depth':range(3,10,2),\n",
    " 'min_child_weight':range(1,6,2)\n",
    "}\n",
    "gsearch1 = GridSearchCV(\n",
    "estimator = xgb.XGBClassifier( learning_rate =0.1, n_estimators=200, max_depth=5,\n",
    " min_child_weight=1, gamma=0, subsample=0.8, colsample_bytree=0.8,\n",
    " objective= 'binary:logistic', nthread=-1, scale_pos_weight=1, seed=27)\n",
    ", \n",
    "param_grid = param_test1, scoring='roc_auc',iid=False, cv=5\n",
    ")\n",
    "\n",
    "gsearch1.fit(train_X,train_Y)\n",
    "gsearch1.grid_scores_, gsearch1.best_params_, gsearch1.best_score_"
   ]
  },
  {
   "cell_type": "code",
   "execution_count": null,
   "metadata": {
    "collapsed": true
   },
   "outputs": [],
   "source": []
  },
  {
   "cell_type": "code",
   "execution_count": null,
   "metadata": {
    "collapsed": true
   },
   "outputs": [],
   "source": [
    "xgb1 = xgb.XGBClassifier(\n",
    " learning_rate =0.1,\n",
    " n_estimators=400,\n",
    " max_depth=5,\n",
    " min_child_weight=1,\n",
    " gamma=0,\n",
    " subsample=0.8,\n",
    " colsample_bytree=0.8,\n",
    " objective= 'binary:logistic',\n",
    " nthread=-1,\n",
    " scale_pos_weight=1,\n",
    " seed=27)\n",
    "\n",
    "scores = cross_val_score(xgb1,X,Y,cv=5,scoring='roc_auc')\n",
    "\n",
    "print \"accuracy %0.4f +/- %0.4f\" % (scores.mean(),scores.std())"
   ]
  },
  {
   "cell_type": "code",
   "execution_count": null,
   "metadata": {
    "collapsed": true
   },
   "outputs": [],
   "source": []
  },
  {
   "cell_type": "code",
   "execution_count": null,
   "metadata": {
    "collapsed": true
   },
   "outputs": [],
   "source": []
  },
  {
   "cell_type": "code",
   "execution_count": 110,
   "metadata": {
    "collapsed": false,
    "scrolled": true
   },
   "outputs": [
    {
     "name": "stdout",
     "output_type": "stream",
     "text": [
      "Confusion Matrix\n",
      "[[12518   149]\n",
      " [ 1413 29232]]\n",
      "-----------------\n",
      "             precision    recall  f1-score   support\n",
      "\n",
      "          0       0.90      0.99      0.94     12667\n",
      "          1       0.99      0.95      0.97     30645\n",
      "\n",
      "avg / total       0.97      0.96      0.96     43312\n",
      "\n",
      "-------------------\n",
      "AUC score 0.9711\n"
     ]
    }
   ],
   "source": [
    "xgb1 = xgb.XGBClassifier(\n",
    " learning_rate =0.1,\n",
    " n_estimators=400,\n",
    " max_depth=5,\n",
    " min_child_weight=1,\n",
    " gamma=0,\n",
    " subsample=0.8,\n",
    " colsample_bytree=0.8,\n",
    " objective= 'binary:logistic',\n",
    " nthread=-1,\n",
    " scale_pos_weight=1,\n",
    " seed=27)\n",
    "\n",
    "xgb1.fit(train_X,train_Y)\n",
    "\n",
    "predict = xgb1.predict(test_X)\n",
    "\n",
    "print \"Confusion Matrix\"\n",
    "print metrics.confusion_matrix(predict, test_Y)\n",
    "print \"-----------------\"\n",
    "print metrics.classification_report(predict, test_Y)\n",
    "print \"-------------------\"\n",
    "print \"AUC score %0.4f\" % (metrics.roc_auc_score(predict, test_Y))"
   ]
  },
  {
   "cell_type": "code",
   "execution_count": 82,
   "metadata": {
    "collapsed": false
   },
   "outputs": [
    {
     "data": {
      "text/plain": [
       "XGBClassifier(base_score=0.5, colsample_bylevel=1, colsample_bytree=0.8,\n",
       "       gamma=0, learning_rate=0.1, max_delta_step=0, max_depth=5,\n",
       "       min_child_weight=1, missing=None, n_estimators=400, nthread=-1,\n",
       "       objective='binary:logistic', reg_alpha=0, reg_lambda=1,\n",
       "       scale_pos_weight=1, seed=27, silent=True, subsample=0.8)"
      ]
     },
     "execution_count": 82,
     "metadata": {},
     "output_type": "execute_result"
    }
   ],
   "source": [
    "xgb1 = xgb.XGBClassifier(\n",
    " learning_rate =0.1,\n",
    " n_estimators=400,\n",
    " max_depth=5,\n",
    " min_child_weight=1,\n",
    " gamma=0,\n",
    " subsample=0.8,\n",
    " colsample_bytree=0.8,\n",
    " objective= 'binary:logistic',\n",
    " nthread=-1,\n",
    " scale_pos_weight=1,\n",
    " seed=27)\n",
    "\n",
    "xgb1.fit(X,Y)"
   ]
  },
  {
   "cell_type": "code",
   "execution_count": 92,
   "metadata": {
    "collapsed": true
   },
   "outputs": [],
   "source": [
    "data2 = pd.read_csv(\"IsAlert_Test1.csv\")"
   ]
  },
  {
   "cell_type": "code",
   "execution_count": 93,
   "metadata": {
    "collapsed": true
   },
   "outputs": [],
   "source": [
    "test_XX = data2.drop(['TrialID','IsAlert','environmental_att2','environmental_att10','environmental_att6','physiologicl_att17','physiologicl_att13','vehicular_att1',\n",
    "               'vehicular_att4','vehicular_att6'],axis=1)\n",
    "test_YY = data2.IsAlert"
   ]
  },
  {
   "cell_type": "code",
   "execution_count": 97,
   "metadata": {
    "collapsed": false
   },
   "outputs": [
    {
     "data": {
      "text/plain": [
       "(241708L,)"
      ]
     },
     "execution_count": 97,
     "metadata": {},
     "output_type": "execute_result"
    }
   ],
   "source": [
    "test_YY.shape"
   ]
  },
  {
   "cell_type": "code",
   "execution_count": 98,
   "metadata": {
    "collapsed": false
   },
   "outputs": [
    {
     "data": {
      "text/plain": [
       "(241708, 26)"
      ]
     },
     "execution_count": 98,
     "metadata": {},
     "output_type": "execute_result"
    }
   ],
   "source": [
    "test_XX.shape"
   ]
  },
  {
   "cell_type": "code",
   "execution_count": 99,
   "metadata": {
    "collapsed": false
   },
   "outputs": [],
   "source": [
    "predict = xgb1.predict(test_XX)"
   ]
  },
  {
   "cell_type": "code",
   "execution_count": 106,
   "metadata": {
    "collapsed": false
   },
   "outputs": [
    {
     "name": "stdout",
     "output_type": "stream",
     "text": [
      "Confusion Matrix\n",
      "[[ 60060  16547]\n",
      " [ 58371 106730]]\n",
      "-----------------\n",
      "             precision    recall  f1-score   support\n",
      "\n",
      "          0       0.51      0.78      0.62     76607\n",
      "          1       0.87      0.65      0.74    165101\n",
      "\n",
      "avg / total       0.75      0.69      0.70    241708\n",
      "\n",
      "-------------------\n",
      "AUC score 0.7152\n"
     ]
    }
   ],
   "source": [
    "print \"Confusion Matrix\"\n",
    "print metrics.confusion_matrix(predict, test_YY)\n",
    "print \"-----------------\"\n",
    "print metrics.classification_report(predict, test_YY)\n",
    "print \"-------------------\"\n",
    "print \"AUC score %0.4f\" % (metrics.roc_auc_score(predict, test_YY))"
   ]
  },
  {
   "cell_type": "code",
   "execution_count": 103,
   "metadata": {
    "collapsed": false
   },
   "outputs": [
    {
     "data": {
      "text/plain": [
       "<ggplot: (83594858)>"
      ]
     },
     "execution_count": 103,
     "metadata": {},
     "output_type": "execute_result"
    }
   ],
   "source": [
    "from sklearn import metrics\n",
    "import pandas as pd\n",
    "from ggplot import *\n",
    "\n",
    "preds = xgb1.predict_proba(test_XX)[:,1]\n",
    "fpr, tpr, _ = metrics.roc_curve(test_YY, preds)\n",
    "\n",
    "df = pd.DataFrame(dict(fpr=fpr, tpr=tpr))\n",
    "ggplot(df, aes(x='fpr', y='tpr')) +\\\n",
    "    geom_line() +\\\n",
    "    geom_abline(linetype='dashed')"
   ]
  },
  {
   "cell_type": "code",
   "execution_count": 107,
   "metadata": {
    "collapsed": false
   },
   "outputs": [
    {
     "data": {
      "text/plain": [
       "1    123277\n",
       "0    118431\n",
       "Name: IsAlert, dtype: int64"
      ]
     },
     "execution_count": 107,
     "metadata": {},
     "output_type": "execute_result"
    }
   ],
   "source": [
    "data2.IsAlert.value_counts()"
   ]
  },
  {
   "cell_type": "code",
   "execution_count": null,
   "metadata": {
    "collapsed": true
   },
   "outputs": [],
   "source": []
  }
 ],
 "metadata": {
  "kernelspec": {
   "display_name": "Python 2",
   "language": "python",
   "name": "python2"
  },
  "language_info": {
   "codemirror_mode": {
    "name": "ipython",
    "version": 2
   },
   "file_extension": ".py",
   "mimetype": "text/x-python",
   "name": "python",
   "nbconvert_exporter": "python",
   "pygments_lexer": "ipython2",
   "version": "2.7.11"
  }
 },
 "nbformat": 4,
 "nbformat_minor": 0
}
